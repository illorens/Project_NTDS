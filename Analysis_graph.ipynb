{
 "cells": [
  {
   "cell_type": "markdown",
   "metadata": {},
   "source": [
    "# Analysis of our data\n",
    "\n",
    "1. Data collecting and data cleaning \n",
    "2. Computations for the creation of the adjacency matrix and the graph\n",
    "3. Graph creation\n",
    "4. Analysis"
   ]
  },
  {
   "cell_type": "code",
   "execution_count": 1,
   "metadata": {},
   "outputs": [],
   "source": [
    "import json\n",
    "import matplotlib.pyplot as plt\n",
    "import numpy as np\n",
    "import pandas as pd\n",
    "from pandas.plotting import scatter_matrix\n",
    "from pandas.io.json import json_normalize\n",
    "import pickle\n",
    "import re\n",
    "import scipy as sp\n",
    "from scipy import stats\n",
    "from scipy import sparse\n",
    "import scipy.sparse.linalg\n",
    "import seaborn as sns\n",
    "from sklearn import metrics\n",
    "from sklearn.cluster import DBSCAN\n",
    "from sklearn.datasets.samples_generator import make_blobs\n",
    "from sklearn.decomposition import PCA\n",
    "from sklearn.feature_selection import mutual_info_regression\n",
    "from sklearn.preprocessing import StandardScaler\n",
    "from sklearn.cluster import KMeans\n",
    "from sklearn import metrics\n",
    "import nltk\n",
    "import omdb\n",
    "import networkx as nx\n",
    "from termcolor import colored\n",
    "\n",
    "import warnings\n",
    "warnings.simplefilter(action='ignore', category=FutureWarning)\n",
    "warnings.simplefilter(action='ignore', category=UserWarning)\n",
    "warnings.simplefilter(action='ignore', category=RuntimeWarning)\n",
    "pd.options.mode.chained_assignment = None"
   ]
  },
  {
   "cell_type": "code",
   "execution_count": 2,
   "metadata": {},
   "outputs": [],
   "source": [
    "%matplotlib inline"
   ]
  },
  {
   "cell_type": "markdown",
   "metadata": {},
   "source": [
    "# 1. Data collecting and data cleaning"
   ]
  },
  {
   "cell_type": "code",
   "execution_count": 3,
   "metadata": {
    "scrolled": true
   },
   "outputs": [
    {
     "data": {
      "text/html": [
       "<div>\n",
       "<style scoped>\n",
       "    .dataframe tbody tr th:only-of-type {\n",
       "        vertical-align: middle;\n",
       "    }\n",
       "\n",
       "    .dataframe tbody tr th {\n",
       "        vertical-align: top;\n",
       "    }\n",
       "\n",
       "    .dataframe thead th {\n",
       "        text-align: right;\n",
       "    }\n",
       "</style>\n",
       "<table border=\"1\" class=\"dataframe\">\n",
       "  <thead>\n",
       "    <tr style=\"text-align: right;\">\n",
       "      <th></th>\n",
       "      <th>movie_id</th>\n",
       "      <th>title</th>\n",
       "      <th>cast</th>\n",
       "      <th>crew</th>\n",
       "    </tr>\n",
       "  </thead>\n",
       "  <tbody>\n",
       "    <tr>\n",
       "      <th>0</th>\n",
       "      <td>19995</td>\n",
       "      <td>Avatar</td>\n",
       "      <td>[{\"cast_id\": 242, \"character\": \"Jake Sully\", \"...</td>\n",
       "      <td>[{\"credit_id\": \"52fe48009251416c750aca23\", \"de...</td>\n",
       "    </tr>\n",
       "    <tr>\n",
       "      <th>1</th>\n",
       "      <td>285</td>\n",
       "      <td>Pirates of the Caribbean: At World's End</td>\n",
       "      <td>[{\"cast_id\": 4, \"character\": \"Captain Jack Spa...</td>\n",
       "      <td>[{\"credit_id\": \"52fe4232c3a36847f800b579\", \"de...</td>\n",
       "    </tr>\n",
       "    <tr>\n",
       "      <th>2</th>\n",
       "      <td>206647</td>\n",
       "      <td>Spectre</td>\n",
       "      <td>[{\"cast_id\": 1, \"character\": \"James Bond\", \"cr...</td>\n",
       "      <td>[{\"credit_id\": \"54805967c3a36829b5002c41\", \"de...</td>\n",
       "    </tr>\n",
       "    <tr>\n",
       "      <th>3</th>\n",
       "      <td>49026</td>\n",
       "      <td>The Dark Knight Rises</td>\n",
       "      <td>[{\"cast_id\": 2, \"character\": \"Bruce Wayne / Ba...</td>\n",
       "      <td>[{\"credit_id\": \"52fe4781c3a36847f81398c3\", \"de...</td>\n",
       "    </tr>\n",
       "    <tr>\n",
       "      <th>4</th>\n",
       "      <td>49529</td>\n",
       "      <td>John Carter</td>\n",
       "      <td>[{\"cast_id\": 5, \"character\": \"John Carter\", \"c...</td>\n",
       "      <td>[{\"credit_id\": \"52fe479ac3a36847f813eaa3\", \"de...</td>\n",
       "    </tr>\n",
       "  </tbody>\n",
       "</table>\n",
       "</div>"
      ],
      "text/plain": [
       "   movie_id                                     title  \\\n",
       "0     19995                                    Avatar   \n",
       "1       285  Pirates of the Caribbean: At World's End   \n",
       "2    206647                                   Spectre   \n",
       "3     49026                     The Dark Knight Rises   \n",
       "4     49529                               John Carter   \n",
       "\n",
       "                                                cast  \\\n",
       "0  [{\"cast_id\": 242, \"character\": \"Jake Sully\", \"...   \n",
       "1  [{\"cast_id\": 4, \"character\": \"Captain Jack Spa...   \n",
       "2  [{\"cast_id\": 1, \"character\": \"James Bond\", \"cr...   \n",
       "3  [{\"cast_id\": 2, \"character\": \"Bruce Wayne / Ba...   \n",
       "4  [{\"cast_id\": 5, \"character\": \"John Carter\", \"c...   \n",
       "\n",
       "                                                crew  \n",
       "0  [{\"credit_id\": \"52fe48009251416c750aca23\", \"de...  \n",
       "1  [{\"credit_id\": \"52fe4232c3a36847f800b579\", \"de...  \n",
       "2  [{\"credit_id\": \"54805967c3a36829b5002c41\", \"de...  \n",
       "3  [{\"credit_id\": \"52fe4781c3a36847f81398c3\", \"de...  \n",
       "4  [{\"credit_id\": \"52fe479ac3a36847f813eaa3\", \"de...  "
      ]
     },
     "execution_count": 3,
     "metadata": {},
     "output_type": "execute_result"
    }
   ],
   "source": [
    "#import dataset\n",
    "FILE_PATH_CREW = \"../Data/tmdb_5000_credits.csv\"\n",
    "\n",
    "features_crew = pd.read_csv(FILE_PATH_CREW)\n",
    "\n",
    "# Dataframe with info about the movies\n",
    "features_crew.head()"
   ]
  },
  {
   "cell_type": "code",
   "execution_count": null,
   "metadata": {},
   "outputs": [],
   "source": [
    "#specify your API_KEY used to set client\n",
    "API_y_KEY = '3a7e30ce'\n",
    "omdb.set_default('apikey', API_y_KEY)\n",
    "client = omdb.OMDBClient(apikey=API_y_KEY)"
   ]
  },
  {
   "cell_type": "code",
   "execution_count": null,
   "metadata": {},
   "outputs": [],
   "source": [
    "#We have a 1000 request limit so you can decide here at which film you want to start and where to end \n",
    "id_end = 4803\n",
    "id_start = id_end - 1000"
   ]
  },
  {
   "cell_type": "code",
   "execution_count": null,
   "metadata": {},
   "outputs": [],
   "source": [
    "#creates empty dictionary then updates it using the movie_id as a key and the output of the\n",
    "#request as value (note that that res.content isn't actually a dict but a byte object, we may\n",
    "#need to convert it later)\n",
    "\n",
    "collected = dict()\n",
    "\n",
    "for i in range(id_start, id_end):\n",
    "    title = features_crew.title[i]\n",
    "    res = omdb.request(t=title, tomatoes=True)\n",
    "    movie_json = res.content\n",
    "    collected[str(features_crew.movie_id[i])] = movie_json"
   ]
  },
  {
   "cell_type": "code",
   "execution_count": null,
   "metadata": {},
   "outputs": [],
   "source": [
    "# saves collected as pickle\n",
    "with open('metacrit.p', 'wb') as fp:\n",
    "    pickle.dump(collected, fp, protocol=pickle.HIGHEST_PROTOCOL)"
   ]
  },
  {
   "cell_type": "code",
   "execution_count": 42,
   "metadata": {},
   "outputs": [],
   "source": [
    "# loads collected\n",
    "with open('metacrit.p', 'rb') as fp:\n",
    "    test_data = pickle.load(fp)"
   ]
  },
  {
   "cell_type": "markdown",
   "metadata": {},
   "source": [
    "# 2. Computations for the creation of the adjacency matrix and the graph"
   ]
  },
  {
   "cell_type": "code",
   "execution_count": 43,
   "metadata": {
    "scrolled": true
   },
   "outputs": [
    {
     "data": {
      "text/html": [
       "<div>\n",
       "<style scoped>\n",
       "    .dataframe tbody tr th:only-of-type {\n",
       "        vertical-align: middle;\n",
       "    }\n",
       "\n",
       "    .dataframe tbody tr th {\n",
       "        vertical-align: top;\n",
       "    }\n",
       "\n",
       "    .dataframe thead th {\n",
       "        text-align: right;\n",
       "    }\n",
       "</style>\n",
       "<table border=\"1\" class=\"dataframe\">\n",
       "  <thead>\n",
       "    <tr style=\"text-align: right;\">\n",
       "      <th></th>\n",
       "      <th>0</th>\n",
       "    </tr>\n",
       "  </thead>\n",
       "  <tbody>\n",
       "    <tr>\n",
       "      <th>19995</th>\n",
       "      <td>b'{\"Title\":\"Avatar\",\"Year\":\"2009\",\"Rated\":\"PG-...</td>\n",
       "    </tr>\n",
       "    <tr>\n",
       "      <th>285</th>\n",
       "      <td>b'{\"Title\":\"Pirates of the Caribbean: At World...</td>\n",
       "    </tr>\n",
       "    <tr>\n",
       "      <th>206647</th>\n",
       "      <td>b'{\"Title\":\"Spectre\",\"Year\":\"2015\",\"Rated\":\"PG...</td>\n",
       "    </tr>\n",
       "    <tr>\n",
       "      <th>49026</th>\n",
       "      <td>b'{\"Title\":\"The Dark Knight Rises\",\"Year\":\"201...</td>\n",
       "    </tr>\n",
       "    <tr>\n",
       "      <th>49529</th>\n",
       "      <td>b'{\"Title\":\"John Carter\",\"Year\":\"2012\",\"Rated\"...</td>\n",
       "    </tr>\n",
       "  </tbody>\n",
       "</table>\n",
       "</div>"
      ],
      "text/plain": [
       "                                                        0\n",
       "19995   b'{\"Title\":\"Avatar\",\"Year\":\"2009\",\"Rated\":\"PG-...\n",
       "285     b'{\"Title\":\"Pirates of the Caribbean: At World...\n",
       "206647  b'{\"Title\":\"Spectre\",\"Year\":\"2015\",\"Rated\":\"PG...\n",
       "49026   b'{\"Title\":\"The Dark Knight Rises\",\"Year\":\"201...\n",
       "49529   b'{\"Title\":\"John Carter\",\"Year\":\"2012\",\"Rated\"..."
      ]
     },
     "execution_count": 43,
     "metadata": {},
     "output_type": "execute_result"
    }
   ],
   "source": [
    "df = pd.DataFrame.from_dict(test_data, orient='index')\n",
    "df.head()"
   ]
  },
  {
   "cell_type": "code",
   "execution_count": 44,
   "metadata": {},
   "outputs": [],
   "source": [
    "dataframe = pd.read_json(df.iloc[0].values[0])\n",
    "\n",
    "for i in range(1, len(df)):\n",
    "    if len(df.iloc[i].values[0]) > 100:\n",
    "        movie = pd.read_json(df.iloc[i].values[0])\n",
    "    dataframe = pd.concat([dataframe, movie])"
   ]
  },
  {
   "cell_type": "code",
   "execution_count": 45,
   "metadata": {},
   "outputs": [
    {
     "data": {
      "text/html": [
       "<div>\n",
       "<style scoped>\n",
       "    .dataframe tbody tr th:only-of-type {\n",
       "        vertical-align: middle;\n",
       "    }\n",
       "\n",
       "    .dataframe tbody tr th {\n",
       "        vertical-align: top;\n",
       "    }\n",
       "\n",
       "    .dataframe thead th {\n",
       "        text-align: right;\n",
       "    }\n",
       "</style>\n",
       "<table border=\"1\" class=\"dataframe\">\n",
       "  <thead>\n",
       "    <tr style=\"text-align: right;\">\n",
       "      <th></th>\n",
       "      <th>Actors</th>\n",
       "      <th>Awards</th>\n",
       "      <th>BoxOffice</th>\n",
       "      <th>Director</th>\n",
       "      <th>Genre</th>\n",
       "      <th>Metascore</th>\n",
       "      <th>Plot</th>\n",
       "      <th>Production</th>\n",
       "      <th>Rated</th>\n",
       "      <th>Ratings</th>\n",
       "      <th>Title</th>\n",
       "      <th>Writer</th>\n",
       "      <th>imdbRating</th>\n",
       "    </tr>\n",
       "  </thead>\n",
       "  <tbody>\n",
       "    <tr>\n",
       "      <th>0</th>\n",
       "      <td>Sam Worthington, Zoe Saldana, Sigourney Weaver...</td>\n",
       "      <td>Won 3 Oscars. Another 85 wins &amp; 128 nominations.</td>\n",
       "      <td>$749,700,000</td>\n",
       "      <td>James Cameron</td>\n",
       "      <td>Action, Adventure, Fantasy, Sci-Fi</td>\n",
       "      <td>83</td>\n",
       "      <td>A paraplegic marine dispatched to the moon Pan...</td>\n",
       "      <td>20th Century Fox</td>\n",
       "      <td>PG-13</td>\n",
       "      <td>{'Source': 'Internet Movie Database', 'Value':...</td>\n",
       "      <td>Avatar</td>\n",
       "      <td>James Cameron</td>\n",
       "      <td>7.8</td>\n",
       "    </tr>\n",
       "    <tr>\n",
       "      <th>1</th>\n",
       "      <td>Sam Worthington, Zoe Saldana, Sigourney Weaver...</td>\n",
       "      <td>Won 3 Oscars. Another 85 wins &amp; 128 nominations.</td>\n",
       "      <td>$749,700,000</td>\n",
       "      <td>James Cameron</td>\n",
       "      <td>Action, Adventure, Fantasy, Sci-Fi</td>\n",
       "      <td>83</td>\n",
       "      <td>A paraplegic marine dispatched to the moon Pan...</td>\n",
       "      <td>20th Century Fox</td>\n",
       "      <td>PG-13</td>\n",
       "      <td>{'Source': 'Rotten Tomatoes', 'Value': '82%'}</td>\n",
       "      <td>Avatar</td>\n",
       "      <td>James Cameron</td>\n",
       "      <td>7.8</td>\n",
       "    </tr>\n",
       "    <tr>\n",
       "      <th>2</th>\n",
       "      <td>Sam Worthington, Zoe Saldana, Sigourney Weaver...</td>\n",
       "      <td>Won 3 Oscars. Another 85 wins &amp; 128 nominations.</td>\n",
       "      <td>$749,700,000</td>\n",
       "      <td>James Cameron</td>\n",
       "      <td>Action, Adventure, Fantasy, Sci-Fi</td>\n",
       "      <td>83</td>\n",
       "      <td>A paraplegic marine dispatched to the moon Pan...</td>\n",
       "      <td>20th Century Fox</td>\n",
       "      <td>PG-13</td>\n",
       "      <td>{'Source': 'Metacritic', 'Value': '83/100'}</td>\n",
       "      <td>Avatar</td>\n",
       "      <td>James Cameron</td>\n",
       "      <td>7.8</td>\n",
       "    </tr>\n",
       "    <tr>\n",
       "      <th>0</th>\n",
       "      <td>Johnny Depp, Geoffrey Rush, Orlando Bloom, Kei...</td>\n",
       "      <td>Nominated for 2 Oscars. Another 20 wins &amp; 44 n...</td>\n",
       "      <td>$309,404,152</td>\n",
       "      <td>Gore Verbinski</td>\n",
       "      <td>Action, Adventure, Fantasy</td>\n",
       "      <td>50</td>\n",
       "      <td>Captain Barbossa, Will Turner and Elizabeth Sw...</td>\n",
       "      <td>Buena Vista</td>\n",
       "      <td>PG-13</td>\n",
       "      <td>{'Source': 'Internet Movie Database', 'Value':...</td>\n",
       "      <td>Pirates of the Caribbean: At World's End</td>\n",
       "      <td>Ted Elliott, Terry Rossio, Ted Elliott (charac...</td>\n",
       "      <td>7.1</td>\n",
       "    </tr>\n",
       "    <tr>\n",
       "      <th>1</th>\n",
       "      <td>Johnny Depp, Geoffrey Rush, Orlando Bloom, Kei...</td>\n",
       "      <td>Nominated for 2 Oscars. Another 20 wins &amp; 44 n...</td>\n",
       "      <td>$309,404,152</td>\n",
       "      <td>Gore Verbinski</td>\n",
       "      <td>Action, Adventure, Fantasy</td>\n",
       "      <td>50</td>\n",
       "      <td>Captain Barbossa, Will Turner and Elizabeth Sw...</td>\n",
       "      <td>Buena Vista</td>\n",
       "      <td>PG-13</td>\n",
       "      <td>{'Source': 'Rotten Tomatoes', 'Value': '44%'}</td>\n",
       "      <td>Pirates of the Caribbean: At World's End</td>\n",
       "      <td>Ted Elliott, Terry Rossio, Ted Elliott (charac...</td>\n",
       "      <td>7.1</td>\n",
       "    </tr>\n",
       "  </tbody>\n",
       "</table>\n",
       "</div>"
      ],
      "text/plain": [
       "                                              Actors  \\\n",
       "0  Sam Worthington, Zoe Saldana, Sigourney Weaver...   \n",
       "1  Sam Worthington, Zoe Saldana, Sigourney Weaver...   \n",
       "2  Sam Worthington, Zoe Saldana, Sigourney Weaver...   \n",
       "0  Johnny Depp, Geoffrey Rush, Orlando Bloom, Kei...   \n",
       "1  Johnny Depp, Geoffrey Rush, Orlando Bloom, Kei...   \n",
       "\n",
       "                                              Awards     BoxOffice  \\\n",
       "0   Won 3 Oscars. Another 85 wins & 128 nominations.  $749,700,000   \n",
       "1   Won 3 Oscars. Another 85 wins & 128 nominations.  $749,700,000   \n",
       "2   Won 3 Oscars. Another 85 wins & 128 nominations.  $749,700,000   \n",
       "0  Nominated for 2 Oscars. Another 20 wins & 44 n...  $309,404,152   \n",
       "1  Nominated for 2 Oscars. Another 20 wins & 44 n...  $309,404,152   \n",
       "\n",
       "         Director                               Genre Metascore  \\\n",
       "0   James Cameron  Action, Adventure, Fantasy, Sci-Fi        83   \n",
       "1   James Cameron  Action, Adventure, Fantasy, Sci-Fi        83   \n",
       "2   James Cameron  Action, Adventure, Fantasy, Sci-Fi        83   \n",
       "0  Gore Verbinski          Action, Adventure, Fantasy        50   \n",
       "1  Gore Verbinski          Action, Adventure, Fantasy        50   \n",
       "\n",
       "                                                Plot        Production  Rated  \\\n",
       "0  A paraplegic marine dispatched to the moon Pan...  20th Century Fox  PG-13   \n",
       "1  A paraplegic marine dispatched to the moon Pan...  20th Century Fox  PG-13   \n",
       "2  A paraplegic marine dispatched to the moon Pan...  20th Century Fox  PG-13   \n",
       "0  Captain Barbossa, Will Turner and Elizabeth Sw...       Buena Vista  PG-13   \n",
       "1  Captain Barbossa, Will Turner and Elizabeth Sw...       Buena Vista  PG-13   \n",
       "\n",
       "                                             Ratings  \\\n",
       "0  {'Source': 'Internet Movie Database', 'Value':...   \n",
       "1      {'Source': 'Rotten Tomatoes', 'Value': '82%'}   \n",
       "2        {'Source': 'Metacritic', 'Value': '83/100'}   \n",
       "0  {'Source': 'Internet Movie Database', 'Value':...   \n",
       "1      {'Source': 'Rotten Tomatoes', 'Value': '44%'}   \n",
       "\n",
       "                                      Title  \\\n",
       "0                                    Avatar   \n",
       "1                                    Avatar   \n",
       "2                                    Avatar   \n",
       "0  Pirates of the Caribbean: At World's End   \n",
       "1  Pirates of the Caribbean: At World's End   \n",
       "\n",
       "                                              Writer  imdbRating  \n",
       "0                                      James Cameron         7.8  \n",
       "1                                      James Cameron         7.8  \n",
       "2                                      James Cameron         7.8  \n",
       "0  Ted Elliott, Terry Rossio, Ted Elliott (charac...         7.1  \n",
       "1  Ted Elliott, Terry Rossio, Ted Elliott (charac...         7.1  "
      ]
     },
     "execution_count": 45,
     "metadata": {},
     "output_type": "execute_result"
    }
   ],
   "source": [
    "# We decided to drop the useless columns that did not contain information about the movie\n",
    "# These columns are: - urls (Poster, Website, tomatoImage)\n",
    "#                    - columns related to the API (Response, Type)\n",
    "#                    - columns where all entries are NaN\n",
    "#                    - Irrelevant columns (DVD, ie release date of dvd, Runtime, Released, Year, Country, Language, \n",
    "#                                          imdbVotes)\n",
    "#                    - Redundant columns (imdbID is redundant with Title)\n",
    "\n",
    "dataframe = dataframe.drop(columns=['Poster', 'Response', 'Type', 'Website', 'tomatoConsensus', \n",
    "                                    'tomatoFresh', 'tomatoImage', 'tomatoMeter', 'tomatoRating', \n",
    "                                    'tomatoReviews', 'tomatoRotten', 'tomatoURL', 'tomatoUserMeter', \n",
    "                                    'tomatoUserRating', 'tomatoUserReviews', 'totalSeasons', 'DVD', \n",
    "                                    'Year', 'imdbID', 'Runtime', 'Released', 'Country', 'Language', 'imdbVotes'])\n",
    "dataframe.head()"
   ]
  },
  {
   "cell_type": "markdown",
   "metadata": {},
   "source": [
    "We now need to transform the types so that it is easier to analyze the features. As of now, almost all the entries of our dataframe are strings. We have a few entries that are integer numbers that need to be converted: BoxOffice and Metascore.\n",
    "\n",
    "Metascore is already in an appropriate format, we just need to cast the type. However, BoxOffice needs a little bit of tinkering."
   ]
  },
  {
   "cell_type": "code",
   "execution_count": 46,
   "metadata": {},
   "outputs": [],
   "source": [
    "# For BoxOffice we need to remove the $ and commas\n",
    "dataframe['BoxOffice'] = dataframe['BoxOffice'].apply(lambda x: x.replace(\"$\", \"\"))\n",
    "dataframe['BoxOffice'] = dataframe['BoxOffice'].apply(lambda x: x.replace(\",\", \"\"))\n",
    "dataframe['BoxOffice'] = dataframe['BoxOffice'].replace('N/A', np.nan)\n",
    "dataframe['BoxOffice'] = dataframe['BoxOffice'].astype(float)\n",
    "dataframe = dataframe.dropna()\n",
    "dataframe['BoxOffice'] = dataframe['BoxOffice'].astype(int)\n",
    "# Metascore\n",
    "dataframe['Metascore'] = dataframe['Metascore'].replace('N/A', np.nan)\n",
    "dataframe = dataframe.dropna()\n",
    "dataframe['Metascore'] = dataframe['Metascore'].astype(int)"
   ]
  },
  {
   "cell_type": "code",
   "execution_count": 47,
   "metadata": {},
   "outputs": [
    {
     "data": {
      "text/html": [
       "<div>\n",
       "<style scoped>\n",
       "    .dataframe tbody tr th:only-of-type {\n",
       "        vertical-align: middle;\n",
       "    }\n",
       "\n",
       "    .dataframe tbody tr th {\n",
       "        vertical-align: top;\n",
       "    }\n",
       "\n",
       "    .dataframe thead th {\n",
       "        text-align: right;\n",
       "    }\n",
       "</style>\n",
       "<table border=\"1\" class=\"dataframe\">\n",
       "  <thead>\n",
       "    <tr style=\"text-align: right;\">\n",
       "      <th></th>\n",
       "      <th>Actors</th>\n",
       "      <th>Awards</th>\n",
       "      <th>BoxOffice</th>\n",
       "      <th>Director</th>\n",
       "      <th>Genre</th>\n",
       "      <th>Metascore</th>\n",
       "      <th>Plot</th>\n",
       "      <th>Production</th>\n",
       "      <th>Rated</th>\n",
       "      <th>Ratings</th>\n",
       "      <th>Title</th>\n",
       "      <th>Writer</th>\n",
       "      <th>imdbRating</th>\n",
       "    </tr>\n",
       "  </thead>\n",
       "  <tbody>\n",
       "    <tr>\n",
       "      <th>0</th>\n",
       "      <td>Sam Worthington, Zoe Saldana, Sigourney Weaver...</td>\n",
       "      <td>Won 3 Oscars. Another 85 wins &amp; 128 nominations.</td>\n",
       "      <td>749700000</td>\n",
       "      <td>James Cameron</td>\n",
       "      <td>Action, Adventure, Fantasy, Sci-Fi</td>\n",
       "      <td>83</td>\n",
       "      <td>A paraplegic marine dispatched to the moon Pan...</td>\n",
       "      <td>20th Century Fox</td>\n",
       "      <td>PG-13</td>\n",
       "      <td>{'Source': 'Internet Movie Database', 'Value':...</td>\n",
       "      <td>Avatar</td>\n",
       "      <td>James Cameron</td>\n",
       "      <td>7.8</td>\n",
       "    </tr>\n",
       "    <tr>\n",
       "      <th>1</th>\n",
       "      <td>Sam Worthington, Zoe Saldana, Sigourney Weaver...</td>\n",
       "      <td>Won 3 Oscars. Another 85 wins &amp; 128 nominations.</td>\n",
       "      <td>749700000</td>\n",
       "      <td>James Cameron</td>\n",
       "      <td>Action, Adventure, Fantasy, Sci-Fi</td>\n",
       "      <td>83</td>\n",
       "      <td>A paraplegic marine dispatched to the moon Pan...</td>\n",
       "      <td>20th Century Fox</td>\n",
       "      <td>PG-13</td>\n",
       "      <td>{'Source': 'Rotten Tomatoes', 'Value': '82%'}</td>\n",
       "      <td>Avatar</td>\n",
       "      <td>James Cameron</td>\n",
       "      <td>7.8</td>\n",
       "    </tr>\n",
       "    <tr>\n",
       "      <th>2</th>\n",
       "      <td>Sam Worthington, Zoe Saldana, Sigourney Weaver...</td>\n",
       "      <td>Won 3 Oscars. Another 85 wins &amp; 128 nominations.</td>\n",
       "      <td>749700000</td>\n",
       "      <td>James Cameron</td>\n",
       "      <td>Action, Adventure, Fantasy, Sci-Fi</td>\n",
       "      <td>83</td>\n",
       "      <td>A paraplegic marine dispatched to the moon Pan...</td>\n",
       "      <td>20th Century Fox</td>\n",
       "      <td>PG-13</td>\n",
       "      <td>{'Source': 'Metacritic', 'Value': '83/100'}</td>\n",
       "      <td>Avatar</td>\n",
       "      <td>James Cameron</td>\n",
       "      <td>7.8</td>\n",
       "    </tr>\n",
       "    <tr>\n",
       "      <th>0</th>\n",
       "      <td>Johnny Depp, Geoffrey Rush, Orlando Bloom, Kei...</td>\n",
       "      <td>Nominated for 2 Oscars. Another 20 wins &amp; 44 n...</td>\n",
       "      <td>309404152</td>\n",
       "      <td>Gore Verbinski</td>\n",
       "      <td>Action, Adventure, Fantasy</td>\n",
       "      <td>50</td>\n",
       "      <td>Captain Barbossa, Will Turner and Elizabeth Sw...</td>\n",
       "      <td>Buena Vista</td>\n",
       "      <td>PG-13</td>\n",
       "      <td>{'Source': 'Internet Movie Database', 'Value':...</td>\n",
       "      <td>Pirates of the Caribbean: At World's End</td>\n",
       "      <td>Ted Elliott, Terry Rossio, Ted Elliott (charac...</td>\n",
       "      <td>7.1</td>\n",
       "    </tr>\n",
       "    <tr>\n",
       "      <th>1</th>\n",
       "      <td>Johnny Depp, Geoffrey Rush, Orlando Bloom, Kei...</td>\n",
       "      <td>Nominated for 2 Oscars. Another 20 wins &amp; 44 n...</td>\n",
       "      <td>309404152</td>\n",
       "      <td>Gore Verbinski</td>\n",
       "      <td>Action, Adventure, Fantasy</td>\n",
       "      <td>50</td>\n",
       "      <td>Captain Barbossa, Will Turner and Elizabeth Sw...</td>\n",
       "      <td>Buena Vista</td>\n",
       "      <td>PG-13</td>\n",
       "      <td>{'Source': 'Rotten Tomatoes', 'Value': '44%'}</td>\n",
       "      <td>Pirates of the Caribbean: At World's End</td>\n",
       "      <td>Ted Elliott, Terry Rossio, Ted Elliott (charac...</td>\n",
       "      <td>7.1</td>\n",
       "    </tr>\n",
       "  </tbody>\n",
       "</table>\n",
       "</div>"
      ],
      "text/plain": [
       "                                              Actors  \\\n",
       "0  Sam Worthington, Zoe Saldana, Sigourney Weaver...   \n",
       "1  Sam Worthington, Zoe Saldana, Sigourney Weaver...   \n",
       "2  Sam Worthington, Zoe Saldana, Sigourney Weaver...   \n",
       "0  Johnny Depp, Geoffrey Rush, Orlando Bloom, Kei...   \n",
       "1  Johnny Depp, Geoffrey Rush, Orlando Bloom, Kei...   \n",
       "\n",
       "                                              Awards  BoxOffice  \\\n",
       "0   Won 3 Oscars. Another 85 wins & 128 nominations.  749700000   \n",
       "1   Won 3 Oscars. Another 85 wins & 128 nominations.  749700000   \n",
       "2   Won 3 Oscars. Another 85 wins & 128 nominations.  749700000   \n",
       "0  Nominated for 2 Oscars. Another 20 wins & 44 n...  309404152   \n",
       "1  Nominated for 2 Oscars. Another 20 wins & 44 n...  309404152   \n",
       "\n",
       "         Director                               Genre  Metascore  \\\n",
       "0   James Cameron  Action, Adventure, Fantasy, Sci-Fi         83   \n",
       "1   James Cameron  Action, Adventure, Fantasy, Sci-Fi         83   \n",
       "2   James Cameron  Action, Adventure, Fantasy, Sci-Fi         83   \n",
       "0  Gore Verbinski          Action, Adventure, Fantasy         50   \n",
       "1  Gore Verbinski          Action, Adventure, Fantasy         50   \n",
       "\n",
       "                                                Plot        Production  Rated  \\\n",
       "0  A paraplegic marine dispatched to the moon Pan...  20th Century Fox  PG-13   \n",
       "1  A paraplegic marine dispatched to the moon Pan...  20th Century Fox  PG-13   \n",
       "2  A paraplegic marine dispatched to the moon Pan...  20th Century Fox  PG-13   \n",
       "0  Captain Barbossa, Will Turner and Elizabeth Sw...       Buena Vista  PG-13   \n",
       "1  Captain Barbossa, Will Turner and Elizabeth Sw...       Buena Vista  PG-13   \n",
       "\n",
       "                                             Ratings  \\\n",
       "0  {'Source': 'Internet Movie Database', 'Value':...   \n",
       "1      {'Source': 'Rotten Tomatoes', 'Value': '82%'}   \n",
       "2        {'Source': 'Metacritic', 'Value': '83/100'}   \n",
       "0  {'Source': 'Internet Movie Database', 'Value':...   \n",
       "1      {'Source': 'Rotten Tomatoes', 'Value': '44%'}   \n",
       "\n",
       "                                      Title  \\\n",
       "0                                    Avatar   \n",
       "1                                    Avatar   \n",
       "2                                    Avatar   \n",
       "0  Pirates of the Caribbean: At World's End   \n",
       "1  Pirates of the Caribbean: At World's End   \n",
       "\n",
       "                                              Writer  imdbRating  \n",
       "0                                      James Cameron         7.8  \n",
       "1                                      James Cameron         7.8  \n",
       "2                                      James Cameron         7.8  \n",
       "0  Ted Elliott, Terry Rossio, Ted Elliott (charac...         7.1  \n",
       "1  Ted Elliott, Terry Rossio, Ted Elliott (charac...         7.1  "
      ]
     },
     "execution_count": 47,
     "metadata": {},
     "output_type": "execute_result"
    }
   ],
   "source": [
    "dataframe.head()"
   ]
  },
  {
   "cell_type": "markdown",
   "metadata": {},
   "source": [
    "Now, we need to regroup the different sources of ratings so that the movies are not repeated three times in the dataframe.\n",
    "\n",
    "- The first rating comes from imdb. It is already present in the dataframe under the name imdbRating\n",
    "- The second rating comes from Rotten Tomatoes. It is not present in the dataframe yet, we need to retrieve it from Ratings\n",
    "- The third rating comes from Metacritic. It is already present in the dataframe under the name Metascore.\n",
    "\n",
    "The only rating we need to keep from Ratigs is the grade from Rotten Tomatoes. We will hence remove all the rows containing ratings only from imdb or metacritics and then rename the Ratings column. \n",
    "\n",
    "We wish to separate this column into 3 columns, drop the duplicate rows and convert the ratings to percentages for a more uniform notation."
   ]
  },
  {
   "cell_type": "code",
   "execution_count": 48,
   "metadata": {},
   "outputs": [],
   "source": [
    "dataframe_ = dataframe.copy()"
   ]
  },
  {
   "cell_type": "code",
   "execution_count": 49,
   "metadata": {},
   "outputs": [],
   "source": [
    "def transform_tomatograde(strgrade):\n",
    "    if '/10' in strgrade:\n",
    "        grade = strgrade.replace('/10', '').replace('.', '')\n",
    "    elif '%' in strgrade:\n",
    "        grade = strgrade.replace('%', '')\n",
    "    elif '/100' in dataframe_['metacriticGrade'][i]:\n",
    "        grade = strgrade.replace('/100', '')\n",
    "    else:\n",
    "        grade = float(dataframe_['tomatoGrade'][i])\n",
    "        if grade > 100:\n",
    "            grade = grade / 10\n",
    "    \n",
    "    return int(grade)   "
   ]
  },
  {
   "cell_type": "code",
   "execution_count": 50,
   "metadata": {},
   "outputs": [],
   "source": [
    "# 1. Extract the Rotten Tomatoes grade\n",
    "dataframe_['RatingIndex'] = dataframe_.index\n",
    "dataframe_ = dataframe_.reset_index(drop=True)\n",
    "dataframe_['tomatoGrade'] = np.nan\n",
    "for i in range(len(dataframe_[dataframe_.RatingIndex == 1])):\n",
    "    title = dataframe_[dataframe_.RatingIndex == 1].iloc[i].Title\n",
    "    idx = dataframe_[dataframe_.Title == title].index[0]\n",
    "    grade = transform_tomatograde(dataframe_[dataframe_.RatingIndex == 1].iloc[i].Ratings['Value'])\n",
    "    dataframe_.at[idx, 'tomatoGrade'] = grade\n",
    "dataframe_ = dataframe_[dataframe_.RatingIndex == 0]\n",
    "dataframe_ = dataframe_.drop(columns=['RatingIndex'])\n",
    "\n",
    "# 2. Rename the Metacritics and imdb grades\n",
    "dataframe_ = dataframe_.rename(columns={'imdbRating' : 'imdbGrade', 'Metascore' : 'metacriticGrade'})\n",
    "\n",
    "# 3. Drop NaN\n",
    "dataframe_ = dataframe_.dropna()\n",
    "\n",
    "# 4. Transform grades\n",
    "dataframe_['imdbGrade'] = dataframe_['imdbGrade']*10\n",
    "dataframe_['imdbGrade'] = dataframe_['imdbGrade'].astype(int)\n",
    "dataframe_['tomatoGrade'] = dataframe_['tomatoGrade'].astype(int)\n",
    "dataframe_['metacriticGrade'] = dataframe_['metacriticGrade'].astype(int)\n",
    "\n",
    "# 5. Reset index\n",
    "dataframe_ = dataframe_.reset_index(drop=True)\n",
    "\n",
    "# 6. Drop the Ratings column\n",
    "dataframe_ = dataframe_.drop(columns=['Ratings'])"
   ]
  },
  {
   "cell_type": "code",
   "execution_count": 51,
   "metadata": {
    "scrolled": true
   },
   "outputs": [
    {
     "data": {
      "text/html": [
       "<div>\n",
       "<style scoped>\n",
       "    .dataframe tbody tr th:only-of-type {\n",
       "        vertical-align: middle;\n",
       "    }\n",
       "\n",
       "    .dataframe tbody tr th {\n",
       "        vertical-align: top;\n",
       "    }\n",
       "\n",
       "    .dataframe thead th {\n",
       "        text-align: right;\n",
       "    }\n",
       "</style>\n",
       "<table border=\"1\" class=\"dataframe\">\n",
       "  <thead>\n",
       "    <tr style=\"text-align: right;\">\n",
       "      <th></th>\n",
       "      <th>Actors</th>\n",
       "      <th>Awards</th>\n",
       "      <th>BoxOffice</th>\n",
       "      <th>Director</th>\n",
       "      <th>Genre</th>\n",
       "      <th>metacriticGrade</th>\n",
       "      <th>Plot</th>\n",
       "      <th>Production</th>\n",
       "      <th>Rated</th>\n",
       "      <th>Title</th>\n",
       "      <th>Writer</th>\n",
       "      <th>imdbGrade</th>\n",
       "      <th>tomatoGrade</th>\n",
       "    </tr>\n",
       "  </thead>\n",
       "  <tbody>\n",
       "    <tr>\n",
       "      <th>0</th>\n",
       "      <td>Sam Worthington, Zoe Saldana, Sigourney Weaver...</td>\n",
       "      <td>Won 3 Oscars. Another 85 wins &amp; 128 nominations.</td>\n",
       "      <td>749700000</td>\n",
       "      <td>James Cameron</td>\n",
       "      <td>Action, Adventure, Fantasy, Sci-Fi</td>\n",
       "      <td>83</td>\n",
       "      <td>A paraplegic marine dispatched to the moon Pan...</td>\n",
       "      <td>20th Century Fox</td>\n",
       "      <td>PG-13</td>\n",
       "      <td>Avatar</td>\n",
       "      <td>James Cameron</td>\n",
       "      <td>78</td>\n",
       "      <td>82</td>\n",
       "    </tr>\n",
       "    <tr>\n",
       "      <th>1</th>\n",
       "      <td>Johnny Depp, Geoffrey Rush, Orlando Bloom, Kei...</td>\n",
       "      <td>Nominated for 2 Oscars. Another 20 wins &amp; 44 n...</td>\n",
       "      <td>309404152</td>\n",
       "      <td>Gore Verbinski</td>\n",
       "      <td>Action, Adventure, Fantasy</td>\n",
       "      <td>50</td>\n",
       "      <td>Captain Barbossa, Will Turner and Elizabeth Sw...</td>\n",
       "      <td>Buena Vista</td>\n",
       "      <td>PG-13</td>\n",
       "      <td>Pirates of the Caribbean: At World's End</td>\n",
       "      <td>Ted Elliott, Terry Rossio, Ted Elliott (charac...</td>\n",
       "      <td>71</td>\n",
       "      <td>44</td>\n",
       "    </tr>\n",
       "    <tr>\n",
       "      <th>2</th>\n",
       "      <td>Daniel Craig, Christoph Waltz, Léa Seydoux, Ra...</td>\n",
       "      <td>Won 1 Oscar. Another 7 wins &amp; 32 nominations.</td>\n",
       "      <td>208777731</td>\n",
       "      <td>Sam Mendes</td>\n",
       "      <td>Action, Adventure, Thriller</td>\n",
       "      <td>60</td>\n",
       "      <td>A cryptic message from 007's past sends him pi...</td>\n",
       "      <td>Sony Pictures</td>\n",
       "      <td>PG-13</td>\n",
       "      <td>Spectre</td>\n",
       "      <td>John Logan (screenplay by), Neal Purvis (scree...</td>\n",
       "      <td>68</td>\n",
       "      <td>64</td>\n",
       "    </tr>\n",
       "    <tr>\n",
       "      <th>3</th>\n",
       "      <td>Christian Bale, Gary Oldman, Tom Hardy, Joseph...</td>\n",
       "      <td>Nominated for 1 BAFTA Film Award. Another 38 w...</td>\n",
       "      <td>448130642</td>\n",
       "      <td>Christopher Nolan</td>\n",
       "      <td>Action, Thriller</td>\n",
       "      <td>78</td>\n",
       "      <td>Eight years after the Joker's reign of anarchy...</td>\n",
       "      <td>Warner Bros. Pictures</td>\n",
       "      <td>PG-13</td>\n",
       "      <td>The Dark Knight Rises</td>\n",
       "      <td>Jonathan Nolan (screenplay), Christopher Nolan...</td>\n",
       "      <td>84</td>\n",
       "      <td>87</td>\n",
       "    </tr>\n",
       "    <tr>\n",
       "      <th>4</th>\n",
       "      <td>Taylor Kitsch, Lynn Collins, Samantha Morton, ...</td>\n",
       "      <td>2 wins &amp; 8 nominations.</td>\n",
       "      <td>73058679</td>\n",
       "      <td>Andrew Stanton</td>\n",
       "      <td>Action, Adventure, Sci-Fi</td>\n",
       "      <td>51</td>\n",
       "      <td>Transported to Barsoom, a Civil War vet discov...</td>\n",
       "      <td>Walt Disney Pictures</td>\n",
       "      <td>PG-13</td>\n",
       "      <td>John Carter</td>\n",
       "      <td>Andrew Stanton (screenplay by), Mark Andrews (...</td>\n",
       "      <td>66</td>\n",
       "      <td>51</td>\n",
       "    </tr>\n",
       "  </tbody>\n",
       "</table>\n",
       "</div>"
      ],
      "text/plain": [
       "                                              Actors  \\\n",
       "0  Sam Worthington, Zoe Saldana, Sigourney Weaver...   \n",
       "1  Johnny Depp, Geoffrey Rush, Orlando Bloom, Kei...   \n",
       "2  Daniel Craig, Christoph Waltz, Léa Seydoux, Ra...   \n",
       "3  Christian Bale, Gary Oldman, Tom Hardy, Joseph...   \n",
       "4  Taylor Kitsch, Lynn Collins, Samantha Morton, ...   \n",
       "\n",
       "                                              Awards  BoxOffice  \\\n",
       "0   Won 3 Oscars. Another 85 wins & 128 nominations.  749700000   \n",
       "1  Nominated for 2 Oscars. Another 20 wins & 44 n...  309404152   \n",
       "2      Won 1 Oscar. Another 7 wins & 32 nominations.  208777731   \n",
       "3  Nominated for 1 BAFTA Film Award. Another 38 w...  448130642   \n",
       "4                            2 wins & 8 nominations.   73058679   \n",
       "\n",
       "            Director                               Genre  metacriticGrade  \\\n",
       "0      James Cameron  Action, Adventure, Fantasy, Sci-Fi               83   \n",
       "1     Gore Verbinski          Action, Adventure, Fantasy               50   \n",
       "2         Sam Mendes         Action, Adventure, Thriller               60   \n",
       "3  Christopher Nolan                    Action, Thriller               78   \n",
       "4     Andrew Stanton           Action, Adventure, Sci-Fi               51   \n",
       "\n",
       "                                                Plot             Production  \\\n",
       "0  A paraplegic marine dispatched to the moon Pan...       20th Century Fox   \n",
       "1  Captain Barbossa, Will Turner and Elizabeth Sw...            Buena Vista   \n",
       "2  A cryptic message from 007's past sends him pi...          Sony Pictures   \n",
       "3  Eight years after the Joker's reign of anarchy...  Warner Bros. Pictures   \n",
       "4  Transported to Barsoom, a Civil War vet discov...   Walt Disney Pictures   \n",
       "\n",
       "   Rated                                     Title  \\\n",
       "0  PG-13                                    Avatar   \n",
       "1  PG-13  Pirates of the Caribbean: At World's End   \n",
       "2  PG-13                                   Spectre   \n",
       "3  PG-13                     The Dark Knight Rises   \n",
       "4  PG-13                               John Carter   \n",
       "\n",
       "                                              Writer  imdbGrade  tomatoGrade  \n",
       "0                                      James Cameron         78           82  \n",
       "1  Ted Elliott, Terry Rossio, Ted Elliott (charac...         71           44  \n",
       "2  John Logan (screenplay by), Neal Purvis (scree...         68           64  \n",
       "3  Jonathan Nolan (screenplay), Christopher Nolan...         84           87  \n",
       "4  Andrew Stanton (screenplay by), Mark Andrews (...         66           51  "
      ]
     },
     "execution_count": 51,
     "metadata": {},
     "output_type": "execute_result"
    }
   ],
   "source": [
    "dataframe_.head()"
   ]
  },
  {
   "cell_type": "markdown",
   "metadata": {},
   "source": [
    "Now, we need to deal with the string attributes that are in form of a list. We want a set of strings, each string corresponding to an individual characteristic (director, actor, etc).\n",
    "\n",
    "In order to do so, we split the string at the commas. For the Writer attribute, we decided to remove the specifications and only keep the names of the writers, taking off who wrote the story, screenplay or characters."
   ]
  },
  {
   "cell_type": "code",
   "execution_count": 52,
   "metadata": {},
   "outputs": [],
   "source": [
    "dataframe_['Actors'] = dataframe_['Actors'].apply(lambda x: set(x.split(', ')))\n",
    "dataframe_['Director'] = dataframe_['Director'].apply(lambda x: set(x.split(', ')))\n",
    "dataframe_['Genre'] = dataframe_['Genre'].apply(lambda x: set(x.split(', ')))\n",
    "dataframe_['Writer'] = dataframe_['Writer'].apply(lambda x: re.sub(\" [\\(\\[].*?[\\)\\]]\", \"\", x))\n",
    "dataframe_['Writer'] = dataframe_['Writer'].apply(lambda x: set(x.split(', ')))"
   ]
  },
  {
   "cell_type": "markdown",
   "metadata": {},
   "source": [
    "Now, we deal with the Production company. We have observed that a same company has different names within this dataset, sometimes the names diferring only by a space or an add-on (like \"distribution\"). We want to uniformize this. First, we remove all the words such as \"Company\" or \"Industries\" so that all production companies have only their core name. "
   ]
  },
  {
   "cell_type": "code",
   "execution_count": 53,
   "metadata": {},
   "outputs": [],
   "source": [
    "to_remove = [' Corporation', ' Distribution', ' Corporat', ' Production', ' Films', ' Film', \n",
    "             ' Pictures', ' Picutres', ' Internationa', ' International', ' Industries', ' Compa', \n",
    "             ' Co', ' Distribu', ' Studios', ' Animation', ' Feature', ' SKG', ' LLC', ' Recommends', \n",
    "             ' Digital', ' Media', ' Video', ' Inc', ' Home Entertainment', ' Entertainment', ' Lorber', \n",
    "             ' Releasing', ' Cinema.', ' Cinema', ' Classics', ' Classic', ' Group', ' Europacorp', \n",
    "             ' Pvt. Ltd.', ' Ventures', ' [us]', ' Pictur', ' Home', ' Focus', ' City', ' Atomic', \n",
    "             ' Faith', ' Searchlight', ' Walden', '.', ' TriStarl', ' TriStar', ' Tristar']\n",
    "for word in to_remove:\n",
    "    dataframe_['Production'] = dataframe_['Production'].str.replace(word, '')"
   ]
  },
  {
   "cell_type": "markdown",
   "metadata": {},
   "source": [
    "Next, we replace all misspelled or differently spelled company names by one spelling. "
   ]
  },
  {
   "cell_type": "code",
   "execution_count": 54,
   "metadata": {},
   "outputs": [],
   "source": [
    "dataframe_['Production'] = dataframe_['Production'].str.replace('-', ' ')\n",
    "dataframe_['Production'] = dataframe_['Production'].str.replace(' / ', '/')\n",
    "dataframe_['Production'] = dataframe_['Production'].str.replace(' /', '/')\n",
    "dataframe_['Production'] = dataframe_['Production'].str.replace('/ ', '/')\n",
    "dataframe_['Production'] = dataframe_['Production'].str.replace('DreamWorks', 'Dreamworks')\n",
    "dataframe_['Production'] = dataframe_['Production'].str.replace('Dream Works', 'Dreamworks')\n",
    "dataframe_['Production'] = dataframe_['Production'].str.replace(\"Lion's Gate\", 'Lionsgate')\n",
    "dataframe_['Production'] = dataframe_['Production'].str.replace(\"Liongate\", 'Lionsgate')\n",
    "dataframe_['Production'] = dataframe_['Production'].str.replace(\"Lions Gate\", 'Lionsgate')\n",
    "dataframe_['Production'] = dataframe_['Production'].str.replace(\"LionsGate\", 'Lionsgate')\n",
    "dataframe_['Production'] = dataframe_['Production'].str.replace('Metro Goldwyn Mayer (MGM)', 'MGM')\n",
    "dataframe_['Production'] = dataframe_['Production'].str.replace('Metro Goldwyn Mayer', 'MGM')\n",
    "dataframe_['Production'] = dataframe_['Production'].str.replace('WARNER BROTHERS PICTURES', 'Warner Bros')\n",
    "dataframe_['Production'] = dataframe_['Production'].str.replace('WB', 'Warner Bros')\n",
    "dataframe_['Production'] = dataframe_['Production'].str.replace('Weinsteinny', 'Weinstein')\n",
    "dataframe_['Production'] = dataframe_['Production'].str.replace('Warner Brothers', 'Warner Bros')\n",
    "dataframe_['Production'] = dataframe_['Production'].str.replace('Warner Home', 'Warner Bros')\n",
    "dataframe_['Production'] = dataframe_['Production'].str.replace('Warner Independent', 'Warner Bros')\n",
    "dataframe_['Production'] = dataframe_['Production'].str.replace('PIXAR', 'Pixar')\n",
    "dataframe_['Production'] = dataframe_['Production'].str.replace('Warners Bros', 'Warner Bros')\n",
    "dataframe_['Production'] = dataframe_['Production'].str.replace('Universall', 'Universal')\n",
    "dataframe_['Production'] = dataframe_['Production'].str.replace('The Weinstein', 'Weinstein')\n",
    "dataframe_['Production'] = dataframe_['Production'].str.replace(' Vantage', 'Weinstein')\n",
    "dataframe_['Production'] = dataframe_['Production'].str.replace('/lumbia', '/ Columbia')\n",
    "dataframe_['Production'] = dataframe_['Production'].str.replace('MGM (MGM)', 'MGM')\n",
    "dataframe_['Production'] = dataframe_['Production'].str.replace(' First Take', '/ Columbia')\n",
    "dataframe_['Production'] = dataframe_['Production'].str.replace('Goodbye Cruel', 'Goodbye Cruel World')\n",
    "dataframe_['Production'] = dataframe_['Production'].str.replace('FoxFaith', 'Fox')\n",
    "dataframe_['Production'] = dataframe_['Production'].str.replace('Fine Line', 'Fine Lines')\n",
    "dataframe_['Production'] = dataframe_['Production'].str.replace('Erosl', 'Eros')\n",
    "dataframe_['Production'] = dataframe_['Production'].str.replace('Walt Disneys', 'Disney')\n",
    "dataframe_['Production'] = dataframe_['Production'].str.replace('Walt Disney', 'Disney')"
   ]
  },
  {
   "cell_type": "code",
   "execution_count": 55,
   "metadata": {},
   "outputs": [],
   "source": [
    "dataframe_['Production'] = dataframe_['Production'].apply(lambda x: set(x.split('/')))"
   ]
  },
  {
   "cell_type": "markdown",
   "metadata": {},
   "source": [
    "Now, we deal with the plot. For this NLP task, we will keep it simple. We only kept the common nouns (singular or plural)."
   ]
  },
  {
   "cell_type": "code",
   "execution_count": 56,
   "metadata": {},
   "outputs": [],
   "source": [
    "def find_nouns(text):\n",
    "    tokens = nltk.word_tokenize(text)\n",
    "    tags = nltk.pos_tag(tokens)\n",
    "    nouns = [word for word,pos in tags if (pos == 'NN' or pos == 'NNS')]\n",
    "    return set(nouns)"
   ]
  },
  {
   "cell_type": "code",
   "execution_count": 57,
   "metadata": {},
   "outputs": [],
   "source": [
    "dataframe_['Plot'] = dataframe_['Plot'].apply(lambda x: find_nouns(x))"
   ]
  },
  {
   "cell_type": "markdown",
   "metadata": {},
   "source": [
    "We need to format the Awards feature. The current Awards column contains a string (sentence) describing how many awards the movie has won or has been nominated to. It also specifies if it has won or been nominated to Oscars or BAFTA. We believe that when it is specified, the higher \"award\" is listed, i.e. if the movie won 2 Oscars, the 5 Oscar nominations won't be specified. The most useful format we could think of is to transform this award column into 2 distinct columns, since we cannot infer how many nominations to the Oscars a movie has when it has already won some. The columns are hence: \n",
    "\n",
    "- Wins\n",
    "- Nominations"
   ]
  },
  {
   "cell_type": "code",
   "execution_count": 58,
   "metadata": {},
   "outputs": [],
   "source": [
    "def find_wins_nominations(string):\n",
    "    wins = 0\n",
    "    noms = 0\n",
    "    \n",
    "    splitted = string.split('. ')\n",
    "    if len(splitted) > 1:\n",
    "        string1 = splitted[0]\n",
    "        if re.search('nominated', string1, re.IGNORECASE):\n",
    "            noms = noms + int(string1.split(' ')[2])\n",
    "        if re.search('won', string1, re.IGNORECASE):\n",
    "            wins = noms + int(string1.split(' ')[1])\n",
    "        \n",
    "        string2 = splitted[1]\n",
    "        if re.search('nomination', string2, re.IGNORECASE):\n",
    "            noms = noms + int(string2.split(' nomination')[0].split(' ')[-1])\n",
    "        if re.search('win', string2, re.IGNORECASE):\n",
    "            wins = wins + int(string2.split(' win')[0].split(' ')[-1])\n",
    "    elif len(splitted) == 1:\n",
    "        split_string = splitted[0]\n",
    "        if re.search('nomination', split_string, re.IGNORECASE):\n",
    "            noms = noms + int(split_string.split(' nomination')[0].split(' ')[-1])\n",
    "        if re.search('win', split_string, re.IGNORECASE):\n",
    "            wins = wins + int(split_string.split(' win')[0].split(' ')[-1])\n",
    "    return wins, noms"
   ]
  },
  {
   "cell_type": "code",
   "execution_count": 59,
   "metadata": {},
   "outputs": [],
   "source": [
    "dataframe_['Wins'] = 0\n",
    "dataframe_['Nominations'] = 0\n",
    "\n",
    "for i in range(0, len(dataframe_)):\n",
    "    wins, noms = find_wins_nominations(dataframe_.Awards[i])\n",
    "    dataframe_['Wins'][i] = wins\n",
    "    dataframe_['Nominations'][i] = noms\n",
    "dataframe_ = dataframe_.drop(columns='Awards')"
   ]
  },
  {
   "cell_type": "markdown",
   "metadata": {},
   "source": [
    "The Rated attribute is not uniform and has multiple conventions. We seek to normalize it. We decided to use the Motion Picture Association of America film rating system, which states that:\n",
    "\n",
    "- **G: General Audiences. All ages admitted.** Nothing that would offend parents for viewing by children.\n",
    "- **PG: Parental Guidance Suggested.** Some material may not be suitable for children. Parents urged to give \"parental guidance\". May contain some material parents might not like for their young children.\n",
    "- **PG-13: Parents Strongly Cautioned.** Some material may be inappropriate for children under 13. Parents are urged to be cautious. Some material may be inappropriate for pre-teenagers.\n",
    "- **R: Restricted. Under 17 requires accompanying parent or adult guardian.** Contains some adult material. Parents are urged to learn more about the film before taking their young children with them.\n",
    "- **NC-17: Adults Only.** No One 17 and Under Admitted. Clearly adult. Children are not admitted.\n",
    "\n",
    "https://en.wikipedia.org/wiki/Motion_Picture_Association_of_America_film_rating_system\n",
    "\n",
    "**X** rating means persons under 16 not admitted. For our analysis, we decided to conflate that label within **NC-17**\n",
    "\n",
    "Following this, we need to make some modifications: \n",
    "\n",
    "- Approved -> G\n",
    "- GP -> PG\n",
    "- M -> R\n",
    "- Passed -> G\n",
    "- TV-14 -> PG-13\n",
    "- TV-G -> G\n",
    "- TV-MA -> R\n",
    "- TV-PG -> PG\n",
    "- X -> NC-17\n",
    "- Unrated, Not rated and N/A make up their own category **Unrated**"
   ]
  },
  {
   "cell_type": "code",
   "execution_count": 60,
   "metadata": {},
   "outputs": [],
   "source": [
    "# Replacing all differently rated categories by the standard ones\n",
    "dataframe_['Rated'] = dataframe_['Rated'].str.replace('APPROVED', 'G')\n",
    "dataframe_['Rated'] = dataframe_['Rated'].str.replace('GP', 'PG')\n",
    "dataframe_['Rated'] = dataframe_['Rated'].str.replace('M', 'R')\n",
    "dataframe_['Rated'] = dataframe_['Rated'].str.replace('PASSED', 'G')\n",
    "dataframe_['Rated'] = dataframe_['Rated'].str.replace('TV-14', 'G')\n",
    "dataframe_['Rated'] = dataframe_['Rated'].str.replace('APPROVED', 'PG-13')\n",
    "dataframe_['Rated'] = dataframe_['Rated'].str.replace('TV-G', 'G')\n",
    "dataframe_['Rated'] = dataframe_['Rated'].str.replace('TV-MA', 'R')\n",
    "dataframe_['Rated'] = dataframe_['Rated'].str.replace('TV-PG', 'PG')\n",
    "dataframe_['Rated'] = dataframe_['Rated'].str.replace('X', 'NC-17')\n",
    "dataframe_['Rated'] = dataframe_['Rated'].str.replace('NOT RATED', 'UNRATED')\n",
    "dataframe_['Rated'] = dataframe_['Rated'].str.replace('N/A', 'UNRATED')"
   ]
  },
  {
   "cell_type": "code",
   "execution_count": 61,
   "metadata": {},
   "outputs": [],
   "source": [
    "dataframe_['Rated'] = dataframe_['Rated'].apply(lambda x: {x})"
   ]
  },
  {
   "cell_type": "code",
   "execution_count": 62,
   "metadata": {},
   "outputs": [],
   "source": [
    "dataframe_.to_pickle(\"df.pkl\")"
   ]
  },
  {
   "cell_type": "code",
   "execution_count": 63,
   "metadata": {},
   "outputs": [],
   "source": [
    "dataframe_ = pd.read_pickle(\"df.pkl\")"
   ]
  },
  {
   "cell_type": "markdown",
   "metadata": {},
   "source": [
    "Finally, we need to add the budget. For that, we use the budget column in the Kaggle imdb dataset."
   ]
  },
  {
   "cell_type": "code",
   "execution_count": 64,
   "metadata": {},
   "outputs": [],
   "source": [
    "FILE_PATH_MOVIE = \"../Data/tmdb_5000_movies.csv\"\n",
    "movie_df = pd.read_csv(FILE_PATH_MOVIE)\n",
    "\n",
    "budget_df = movie_df[['budget', 'title']]\n",
    "budget_df = budget_df.rename(columns={\"budget\" : \"Budget\", \"title\" : \"Title\"})\n",
    "\n",
    "final_df = dataframe_.merge(budget_df, how='inner')"
   ]
  },
  {
   "cell_type": "code",
   "execution_count": 65,
   "metadata": {},
   "outputs": [],
   "source": [
    "# Budget is weirdly formatted: there are movies that state a single number budget to signify its millions.\n",
    "# Let's unify it\n",
    "\n",
    "final_df['Budget'].iloc[1971] = final_df['Budget'].iloc[1971] * 10**6\n",
    "final_df['Budget'].iloc[1608] = final_df['Budget'].iloc[1608] * 10**6\n",
    "final_df['Budget'].iloc[2330] = final_df['Budget'].iloc[2330] * 10**6\n",
    "final_df['Budget'].iloc[1861] = 5500000\n",
    "final_df['Budget'].iloc[2310] = 650000\n",
    "final_df['Budget'].iloc[764] = 45000000\n",
    "final_df['Budget'].iloc[2349] = 153000\n",
    "\n",
    "# Moreover, we have budgets that are 0. We will replace these as np.nan then drop the whole row\n",
    "final_df['Budget'] = final_df['Budget'].apply(lambda x: np.nan if x==0 else x)"
   ]
  },
  {
   "cell_type": "code",
   "execution_count": 66,
   "metadata": {},
   "outputs": [],
   "source": [
    "final_df = final_df.dropna()"
   ]
  },
  {
   "cell_type": "markdown",
   "metadata": {},
   "source": [
    "Now, Budget is a continuous variable. We decided to create categories so as to sparsify the network. We did this by looking at the histogram and by taking into account the usual budget categories: \n",
    "\n",
    "- No budget: less than 100 000 \\$\n",
    "- Independent: 100 000 to 10 million \\$\n",
    "- Low: 10 to 40 million \\$\n",
    "- Medium: 41 to 100 million \\$\n",
    "- High: 101 million and up \\$\n",
    "\n",
    "Since these are ordinal categories, each will be coded with an integer (ranging from 1 to 5). "
   ]
  },
  {
   "cell_type": "code",
   "execution_count": 67,
   "metadata": {},
   "outputs": [
    {
     "data": {
      "image/png": "[encoded data removed]",
      "text/plain": [
       "<Figure size 1080x504 with 1 Axes>"
      ]
     },
     "metadata": {
      "needs_background": "light"
     },
     "output_type": "display_data"
    }
   ],
   "source": [
    "plt.figure(figsize=(15,7))\n",
    "sns.distplot(final_df['Budget'].dropna().values, kde=False, norm_hist=True, bins=100)\n",
    "sns.kdeplot(final_df['Budget'].dropna().values, kernel='gau')\n",
    "plt.show()"
   ]
  },
  {
   "cell_type": "code",
   "execution_count": 68,
   "metadata": {},
   "outputs": [],
   "source": [
    "# No budget: less than 100 000 \n",
    "# Independent: 100 000 to 10 million \n",
    "# Low: 10 to 40 million \n",
    "# Medium: 41 to 100 million \n",
    "# High: 101 million and up \n",
    "\n",
    "def transform_budget(budget):\n",
    "    if budget < 100000:\n",
    "        budget_cat = 1\n",
    "    elif budget >= 100000 and budget < 10000000:\n",
    "        budget_cat = 2\n",
    "    elif budget >= 10000000 and budget < 40000000:\n",
    "        budget_cat = 3\n",
    "    elif budget >= 40000000 and budget < 100000000:\n",
    "        budget_cat = 4\n",
    "    elif budget >= 100000000:\n",
    "        budget_cat = 5\n",
    "        \n",
    "    return budget_cat"
   ]
  },
  {
   "cell_type": "code",
   "execution_count": 69,
   "metadata": {},
   "outputs": [],
   "source": [
    "final_df.Budget = final_df.Budget.apply(lambda x: transform_budget(x))"
   ]
  },
  {
   "cell_type": "code",
   "execution_count": 70,
   "metadata": {},
   "outputs": [],
   "source": [
    "final_df = final_df.dropna()\n",
    "final_df = final_df.reset_index(drop=True)"
   ]
  },
  {
   "cell_type": "code",
   "execution_count": 71,
   "metadata": {},
   "outputs": [],
   "source": [
    "final_df.to_pickle(\"final_df.pkl\")"
   ]
  },
  {
   "cell_type": "markdown",
   "metadata": {},
   "source": [
    "### Data cleaning results\n",
    "\n",
    "We get a dataframe with the following features:\n",
    "\n",
    "- Actors, Director, Writer\n",
    "- Genre\n",
    "- Budget\n",
    "- Production\n",
    "- Plot\n",
    "- Country, Language\n",
    "- Release date\n",
    "- Runtime\n",
    "- Rated category (PG-13, 18...)\n",
    "\n",
    "Each movie has one identifyier:\n",
    "\n",
    "- Title\n",
    "\n",
    "And we have several labels that define the success of the movie:\n",
    "\n",
    "- Box Office\n",
    "- imdb Grade (+ imdb votes)\n",
    "- Rotten Tomatoes Grade\n",
    "- Metacritic Grade\n",
    "- Wins and Nominations"
   ]
  },
  {
   "cell_type": "markdown",
   "metadata": {},
   "source": [
    "# 3. Correlations"
   ]
  },
  {
   "cell_type": "code",
   "execution_count": 234,
   "metadata": {
    "scrolled": false
   },
   "outputs": [
    {
     "data": {
      "image/png": "[encoded data removed]",
      "text/plain": [
       "<Figure size 1296x720 with 6 Axes>"
      ]
     },
     "metadata": {
      "needs_background": "light"
     },
     "output_type": "display_data"
    }
   ],
   "source": [
    "# Numerical features: Budget\n",
    "# Numerical labels: 'BoxOffice', 'metacriticGrade', 'imdbGrade', 'tomatoGrade', 'Wins', 'Nominations'\n",
    "# => 6 correlations to compute\n",
    "\n",
    "fig, (axs) = plt.subplots(2, 3, figsize=(18, 10))\n",
    "sns.regplot(x=final_df['Budget'], y=final_df['BoxOffice'], ax=axs[0,0])\n",
    "sns.regplot(x=final_df['Budget'], y=final_df['Wins'], ax=axs[0,1])\n",
    "sns.regplot(x=final_df['Budget'], y=final_df['Nominations'], ax=axs[0,2])\n",
    "sns.regplot(x=final_df['Budget'], y=final_df['metacriticGrade'], ax=axs[1,0])\n",
    "sns.regplot(x=final_df['Budget'], y=final_df['imdbGrade'], ax=axs[1,1])\n",
    "sns.regplot(x=final_df['Budget'], y=final_df['tomatoGrade'], ax=axs[1,2])\n",
    "\n",
    "fig.suptitle(\"\"\"Correlations\"\"\", fontweight=\"bold\")\n",
    "#plt.xlabel(\"Median revenue (€)\")\n",
    "#plt.ylabel(\"Energy per 100g of product (kcal)\")\n",
    "plt.show()"
   ]
  },
  {
   "cell_type": "code",
   "execution_count": 278,
   "metadata": {},
   "outputs": [],
   "source": [
    "def pearson_pval_df(df):\n",
    "    \"\"\"Compute and display the Pearson coefficient and the p-value between the Budget\n",
    "    and each label\n",
    "    \n",
    "    A line displayed in red means that the correlation is not significant.\n",
    "    A line displayed in green means that the  correlation is significant.\n",
    "    \n",
    "    Arguments:\n",
    "    ----------\n",
    "    df: pandas.DataFrame\n",
    "        Dataframe containing the values for each feature and label.\n",
    "    \"\"\"\n",
    "    print('Linear correlation between Budget and each of the label columns')\n",
    "    label_cols = ['BoxOffice', 'metacriticGrade', 'imdbGrade', 'tomatoGrade', 'Wins', 'Nominations']\n",
    "    for col in label_cols:\n",
    "        r, p = stats.pearsonr(df[col], df['Budget'])\n",
    "        if p < 0.05:\n",
    "            color = 'green'\n",
    "        else:\n",
    "            color = 'red'\n",
    "        print(colored('{:<40}{:<16}{:<28.3f}{:<10}{:<30.3f}'.format(col, 'Pearson coeff', r, 'p-value', p), color))\n",
    "\n",
    "    print('\\n')"
   ]
  },
  {
   "cell_type": "code",
   "execution_count": 279,
   "metadata": {},
   "outputs": [
    {
     "name": "stdout",
     "output_type": "stream",
     "text": [
      "Linear correlation between Budget and each of the label columns\n",
      "\u001b[32mBoxOffice                               Pearson coeff   0.579                       p-value   0.000                         \u001b[0m\n",
      "\u001b[32mmetacriticGrade                         Pearson coeff   -0.074                      p-value   0.001                         \u001b[0m\n",
      "\u001b[31mimdbGrade                               Pearson coeff   0.004                       p-value   0.864                         \u001b[0m\n",
      "\u001b[32mtomatoGrade                             Pearson coeff   -0.098                      p-value   0.000                         \u001b[0m\n",
      "\u001b[31mWins                                    Pearson coeff   0.024                       p-value   0.288                         \u001b[0m\n",
      "\u001b[32mNominations                             Pearson coeff   0.113                       p-value   0.000                         \u001b[0m\n",
      "\n",
      "\n"
     ]
    }
   ],
   "source": [
    "pearson_pval_df(final_df)"
   ]
  },
  {
   "cell_type": "markdown",
   "metadata": {},
   "source": [
    "Positive and very significant correlation between Budget and BoxOffice (unsurprising). \n",
    "\n",
    "There is a significant lack of relationship between the budget and the metacritic / rotten tomatoes grades. \n",
    "\n",
    "There is a significant positive relationship between the budget and the nominations. We cannot call it a correlation since the Pearson coefficient for this relationship is still low. Moreover, by looking at the graph we can see that the relationship is actually not a correlation."
   ]
  },
  {
   "cell_type": "markdown",
   "metadata": {},
   "source": [
    "# 4. Graph creation\n",
    "\n",
    "After data cleaning, we proceed to the creation of the graph by computing its adjacency matrix. We wish to create an adjacency matrix containing all features. We will hence compute several adjacency matrices that we will then add (using weighting factors). Such matrices are:\n",
    "\n",
    "- Crew (actors, writers and directors): how many crew members the movies have in common\n",
    "- Budget: the similarity between movies will be based on how close the budgets are (in a log scale)\n",
    "- Genre: how many genres two movies have in common\n",
    "- Production: is it the same production company?\n",
    "- Plot: how many common words two films have in common\n",
    "- Rated category: binary score = same category or different"
   ]
  },
  {
   "cell_type": "code",
   "execution_count": 3,
   "metadata": {
    "scrolled": true
   },
   "outputs": [
    {
     "data": {
      "text/html": [
       "<div>\n",
       "<style scoped>\n",
       "    .dataframe tbody tr th:only-of-type {\n",
       "        vertical-align: middle;\n",
       "    }\n",
       "\n",
       "    .dataframe tbody tr th {\n",
       "        vertical-align: top;\n",
       "    }\n",
       "\n",
       "    .dataframe thead th {\n",
       "        text-align: right;\n",
       "    }\n",
       "</style>\n",
       "<table border=\"1\" class=\"dataframe\">\n",
       "  <thead>\n",
       "    <tr style=\"text-align: right;\">\n",
       "      <th></th>\n",
       "      <th>Actors</th>\n",
       "      <th>BoxOffice</th>\n",
       "      <th>Director</th>\n",
       "      <th>Genre</th>\n",
       "      <th>metacriticGrade</th>\n",
       "      <th>Plot</th>\n",
       "      <th>Production</th>\n",
       "      <th>Rated</th>\n",
       "      <th>Title</th>\n",
       "      <th>Writer</th>\n",
       "      <th>imdbGrade</th>\n",
       "      <th>tomatoGrade</th>\n",
       "      <th>Wins</th>\n",
       "      <th>Nominations</th>\n",
       "      <th>Budget</th>\n",
       "    </tr>\n",
       "  </thead>\n",
       "  <tbody>\n",
       "    <tr>\n",
       "      <th>0</th>\n",
       "      <td>{Sam Worthington, Sigourney Weaver, Zoe Saldan...</td>\n",
       "      <td>749700000</td>\n",
       "      <td>{James Cameron}</td>\n",
       "      <td>{Adventure, Sci-Fi, Fantasy, Action}</td>\n",
       "      <td>83</td>\n",
       "      <td>{marine, mission, world, moon, home, orders}</td>\n",
       "      <td>{20th Century Fox}</td>\n",
       "      <td>{PG-13}</td>\n",
       "      <td>Avatar</td>\n",
       "      <td>{James Cameron}</td>\n",
       "      <td>78</td>\n",
       "      <td>82</td>\n",
       "      <td>88</td>\n",
       "      <td>128</td>\n",
       "      <td>5</td>\n",
       "    </tr>\n",
       "    <tr>\n",
       "      <th>1</th>\n",
       "      <td>{Geoffrey Rush, Orlando Bloom, Keira Knightley...</td>\n",
       "      <td>309404152</td>\n",
       "      <td>{Gore Verbinski}</td>\n",
       "      <td>{Adventure, Fantasy, Action}</td>\n",
       "      <td>50</td>\n",
       "      <td>{treachery, map, battle, betrayal, edge, allia...</td>\n",
       "      <td>{Buena Vista}</td>\n",
       "      <td>{PG-13}</td>\n",
       "      <td>Pirates of the Caribbean: At World's End</td>\n",
       "      <td>{Jay Wolpert, Ted Elliott, Terry Rossio, Stuar...</td>\n",
       "      <td>71</td>\n",
       "      <td>44</td>\n",
       "      <td>20</td>\n",
       "      <td>46</td>\n",
       "      <td>5</td>\n",
       "    </tr>\n",
       "    <tr>\n",
       "      <th>2</th>\n",
       "      <td>{Daniel Craig, Léa Seydoux, Christoph Waltz, R...</td>\n",
       "      <td>208777731</td>\n",
       "      <td>{Sam Mendes}</td>\n",
       "      <td>{Thriller, Adventure, Action}</td>\n",
       "      <td>60</td>\n",
       "      <td>{message, missions, events, learns, organizati...</td>\n",
       "      <td>{Sony}</td>\n",
       "      <td>{PG-13}</td>\n",
       "      <td>Spectre</td>\n",
       "      <td>{Ian Fleming, Neal Purvis, Jez Butterworth, Ro...</td>\n",
       "      <td>68</td>\n",
       "      <td>64</td>\n",
       "      <td>8</td>\n",
       "      <td>32</td>\n",
       "      <td>5</td>\n",
       "    </tr>\n",
       "    <tr>\n",
       "      <th>3</th>\n",
       "      <td>{Gary Oldman, Tom Hardy, Joseph Gordon-Levitt,...</td>\n",
       "      <td>448130642</td>\n",
       "      <td>{Christopher Nolan}</td>\n",
       "      <td>{Thriller, Action}</td>\n",
       "      <td>78</td>\n",
       "      <td>{help, reign, anarchy, exile, guerrilla, edge,...</td>\n",
       "      <td>{Warner Bros}</td>\n",
       "      <td>{PG-13}</td>\n",
       "      <td>The Dark Knight Rises</td>\n",
       "      <td>{Christopher Nolan, Jonathan Nolan, Bob Kane, ...</td>\n",
       "      <td>84</td>\n",
       "      <td>87</td>\n",
       "      <td>38</td>\n",
       "      <td>103</td>\n",
       "      <td>5</td>\n",
       "    </tr>\n",
       "    <tr>\n",
       "      <th>4</th>\n",
       "      <td>{Taylor Kitsch, Willem Dafoe, Lynn Collins, Sa...</td>\n",
       "      <td>73058679</td>\n",
       "      <td>{Andrew Stanton}</td>\n",
       "      <td>{Adventure, Sci-Fi, Action}</td>\n",
       "      <td>51</td>\n",
       "      <td>{prisoner, barbarians, savior, planet, creatur...</td>\n",
       "      <td>{Disney}</td>\n",
       "      <td>{PG-13}</td>\n",
       "      <td>John Carter</td>\n",
       "      <td>{Michael Chabon, Andrew Stanton, Edgar Rice Bu...</td>\n",
       "      <td>66</td>\n",
       "      <td>51</td>\n",
       "      <td>2</td>\n",
       "      <td>8</td>\n",
       "      <td>5</td>\n",
       "    </tr>\n",
       "  </tbody>\n",
       "</table>\n",
       "</div>"
      ],
      "text/plain": [
       "                                              Actors  BoxOffice  \\\n",
       "0  {Sam Worthington, Sigourney Weaver, Zoe Saldan...  749700000   \n",
       "1  {Geoffrey Rush, Orlando Bloom, Keira Knightley...  309404152   \n",
       "2  {Daniel Craig, Léa Seydoux, Christoph Waltz, R...  208777731   \n",
       "3  {Gary Oldman, Tom Hardy, Joseph Gordon-Levitt,...  448130642   \n",
       "4  {Taylor Kitsch, Willem Dafoe, Lynn Collins, Sa...   73058679   \n",
       "\n",
       "              Director                                 Genre  metacriticGrade  \\\n",
       "0      {James Cameron}  {Adventure, Sci-Fi, Fantasy, Action}               83   \n",
       "1     {Gore Verbinski}          {Adventure, Fantasy, Action}               50   \n",
       "2         {Sam Mendes}         {Thriller, Adventure, Action}               60   \n",
       "3  {Christopher Nolan}                    {Thriller, Action}               78   \n",
       "4     {Andrew Stanton}           {Adventure, Sci-Fi, Action}               51   \n",
       "\n",
       "                                                Plot          Production  \\\n",
       "0       {marine, mission, world, moon, home, orders}  {20th Century Fox}   \n",
       "1  {treachery, map, battle, betrayal, edge, allia...       {Buena Vista}   \n",
       "2  {message, missions, events, learns, organizati...              {Sony}   \n",
       "3  {help, reign, anarchy, exile, guerrilla, edge,...       {Warner Bros}   \n",
       "4  {prisoner, barbarians, savior, planet, creatur...            {Disney}   \n",
       "\n",
       "     Rated                                     Title  \\\n",
       "0  {PG-13}                                    Avatar   \n",
       "1  {PG-13}  Pirates of the Caribbean: At World's End   \n",
       "2  {PG-13}                                   Spectre   \n",
       "3  {PG-13}                     The Dark Knight Rises   \n",
       "4  {PG-13}                               John Carter   \n",
       "\n",
       "                                              Writer  imdbGrade  tomatoGrade  \\\n",
       "0                                    {James Cameron}         78           82   \n",
       "1  {Jay Wolpert, Ted Elliott, Terry Rossio, Stuar...         71           44   \n",
       "2  {Ian Fleming, Neal Purvis, Jez Butterworth, Ro...         68           64   \n",
       "3  {Christopher Nolan, Jonathan Nolan, Bob Kane, ...         84           87   \n",
       "4  {Michael Chabon, Andrew Stanton, Edgar Rice Bu...         66           51   \n",
       "\n",
       "   Wins  Nominations  Budget  \n",
       "0    88          128       5  \n",
       "1    20           46       5  \n",
       "2     8           32       5  \n",
       "3    38          103       5  \n",
       "4     2            8       5  "
      ]
     },
     "execution_count": 3,
     "metadata": {},
     "output_type": "execute_result"
    }
   ],
   "source": [
    "final_df = pd.read_pickle(\"final_df.pkl\")\n",
    "final_df.head()"
   ]
  },
  {
   "cell_type": "markdown",
   "metadata": {},
   "source": [
    "## A. Crew adjacency"
   ]
  },
  {
   "cell_type": "code",
   "execution_count": 73,
   "metadata": {},
   "outputs": [],
   "source": [
    "weights_crew = np.zeros((len(final_df), len(final_df)))\n",
    "weights_dir = np.zeros((len(final_df), len(final_df)))\n",
    "weights_actors = np.zeros((len(final_df), len(final_df)))\n",
    "weights_writer = np.zeros((len(final_df), len(final_df)))"
   ]
  },
  {
   "cell_type": "code",
   "execution_count": 74,
   "metadata": {},
   "outputs": [],
   "source": [
    "for i in range(0, len(final_df)):\n",
    "    for j in range(i+1, len(final_df)):\n",
    "        weights_dir[i][j] = weights_dir[i][j] + len(final_df['Director'][i] & final_df['Director'][j])\n",
    "weights_dir = weights_dir + weights_dir.T\n",
    "\n",
    "for i in range(0, len(final_df)):\n",
    "    for j in range(i+1, len(final_df)):\n",
    "        weights_actors[i][j] = weights_actors[i][j] + len(final_df['Actors'][i] & final_df['Actors'][j])\n",
    "weights_actors = weights_actors + weights_actors.T\n",
    "\n",
    "for i in range(0, len(final_df)):\n",
    "    for j in range(i+1, len(final_df)):\n",
    "        weights_writer[i][j] = weights_writer[i][j] + len(final_df['Writer'][i] & final_df['Writer'][j])\n",
    "weights_writer = weights_writer + weights_writer.T"
   ]
  },
  {
   "cell_type": "code",
   "execution_count": 75,
   "metadata": {},
   "outputs": [],
   "source": [
    "# Add and save\n",
    "weights_crew = weights_dir + weights_actors + weights_writer\n",
    "\n",
    "np.save('weights_dir.npy', weights_dir)\n",
    "np.save('weights_act.npy', weights_actors)\n",
    "np.save('weights_wri.npy', weights_writer)\n",
    "np.save('weights_crew.npy', weights_crew)"
   ]
  },
  {
   "cell_type": "markdown",
   "metadata": {},
   "source": [
    "## B. Budget adjacency\n",
    "### TODO: check the computing method\n",
    "\n",
    "Two similar films are two films that have a similar budget. This is why we cannot use the absolute difference between the films as a similarity metric. "
   ]
  },
  {
   "cell_type": "code",
   "execution_count": 76,
   "metadata": {},
   "outputs": [],
   "source": [
    "weights_budget = np.zeros((len(final_df), len(final_df)))\n",
    "\n",
    "for i in range(len(dataframe_)):\n",
    "    for j in range(i+1, len(final_df)):\n",
    "        diff = np.abs(final_df['Budget'][i] - final_df['Budget'][j])\n",
    "        if diff == 0:\n",
    "            weights_budget[i][j] = 1\n",
    "        else: \n",
    "            weights_budget[i][j] = 0\n",
    "# Symmetrize\n",
    "weights_budget = weights_budget + weights_budget.T\n",
    "\n",
    "# Save \n",
    "np.save('weights_budget.npy', weights_budget)"
   ]
  },
  {
   "cell_type": "markdown",
   "metadata": {},
   "source": [
    "## C. Genre adjacency"
   ]
  },
  {
   "cell_type": "code",
   "execution_count": 326,
   "metadata": {},
   "outputs": [],
   "source": [
    "weights_genre = np.zeros((len(final_df), len(final_df)))\n",
    "\n",
    "for i in range(0, len(final_df)):\n",
    "    for j in range(i+1, len(final_df)):\n",
    "        if len(final_df['Genre'][i] & final_df['Genre'][j]) > 1:\n",
    "            weights_genre[i][j] = 1\n",
    "        elif len(final_df['Genre'][i] & final_df['Genre'][j]) == 1:\n",
    "            weights_genre[i][j] = 0.5\n",
    "        else:\n",
    "            weights_genre[i][j] = 0\n",
    "\n",
    "# Symmetrize\n",
    "weights_genre = weights_genre + weights_genre.T\n",
    "\n",
    "# Save \n",
    "np.save('weights_genre.npy', weights_genre)"
   ]
  },
  {
   "cell_type": "markdown",
   "metadata": {},
   "source": [
    "## D. Production "
   ]
  },
  {
   "cell_type": "code",
   "execution_count": 78,
   "metadata": {},
   "outputs": [],
   "source": [
    "weights_prod = np.zeros((len(final_df), len(final_df)))\n",
    "\n",
    "for i in range(0, len(final_df)):\n",
    "    for j in range(i+1, len(final_df)):\n",
    "        weights_prod[i][j] = len(final_df['Production'][i] & final_df['Production'][j])\n",
    "\n",
    "# Symmetrize\n",
    "weights_prod = weights_prod + weights_prod.T\n",
    "\n",
    "# Save \n",
    "np.save('weights_prod.npy', weights_prod)"
   ]
  },
  {
   "cell_type": "markdown",
   "metadata": {},
   "source": [
    "## E. Plot"
   ]
  },
  {
   "cell_type": "code",
   "execution_count": 79,
   "metadata": {},
   "outputs": [],
   "source": [
    "weights_plot = np.zeros((len(final_df), len(final_df)))\n",
    "\n",
    "for i in range(0, len(final_df)):\n",
    "    for j in range(i+1, len(final_df)):\n",
    "        weights_plot[i][j] = len(final_df['Plot'][i] & final_df['Plot'][j])\n",
    "\n",
    "# Symmetrize\n",
    "weights_plot = weights_plot + weights_plot.T\n",
    "\n",
    "# Save \n",
    "np.save('weights_plot.npy', weights_plot)"
   ]
  },
  {
   "cell_type": "markdown",
   "metadata": {},
   "source": [
    "## F. Rated category"
   ]
  },
  {
   "cell_type": "code",
   "execution_count": 80,
   "metadata": {},
   "outputs": [],
   "source": [
    "weights_rated = np.zeros((len(final_df), len(final_df)))\n",
    "\n",
    "for i in range(0, len(final_df)):\n",
    "    for j in range(i+1, len(final_df)):\n",
    "        weights_rated[i][j] = len(final_df['Rated'][i] & final_df['Rated'][j])\n",
    "\n",
    "# Symmetrize\n",
    "weights_rated = weights_rated + weights_rated.T\n",
    "\n",
    "# Save \n",
    "np.save('weights_rated.npy', weights_rated)"
   ]
  },
  {
   "cell_type": "code",
   "execution_count": 4,
   "metadata": {},
   "outputs": [],
   "source": [
    "weights_crew = np.load('weights_crew.npy')\n",
    "weights_actors = np.load('weights_act.npy')\n",
    "weights_dir = np.load('weights_dir.npy')\n",
    "weights_writer = np.load('weights_wri.npy')\n",
    "weights_budget = np.load('weights_budget.npy')\n",
    "weights_genre = np.load('weights_genre.npy')\n",
    "weights_prod = np.load('weights_prod.npy')\n",
    "weights_plot = np.load('weights_plot.npy')\n",
    "weights_rated = np.load('weights_rated.npy')"
   ]
  },
  {
   "cell_type": "markdown",
   "metadata": {},
   "source": [
    "## Total adjacency matrix\n",
    "\n",
    "Now, we need to add all weight matrices. It is however of use to add them using weigh factors, as some features may be more important than others."
   ]
  },
  {
   "cell_type": "code",
   "execution_count": 288,
   "metadata": {},
   "outputs": [],
   "source": [
    "actors_factor = 1/4\n",
    "dir_factor = 1/2\n",
    "writer_factor = 13\n",
    "budget_factor = 1\n",
    "genre_factor = 1/7\n",
    "prod_factor = 1/2\n",
    "plot_factor = 1/12\n",
    "rated_factor = 1\n",
    "sum_factors = (actors_factor + dir_factor + writer_factor + budget_factor + genre_factor + prod_factor + \n",
    "               plot_factor + rated_factor)\n",
    "\n",
    "weights = (actors_factor*weights_actors + dir_factor*weights_dir + writer_factor*weights_writer + \n",
    "           budget_factor*weights_budget + genre_factor*weights_genre + prod_factor*weights_prod + \n",
    "           plot_factor*weights_plot + rated_factor*weights_rated) / sum_factors\n",
    "\n",
    "# The adjacency matrix is the normalized weight matrix\n",
    "adjacency = weights / np.max(weights)\n",
    "\n",
    "# Save\n",
    "np.save('weights.npy', weights)\n",
    "np.save('adjacency.npy', adjacency)"
   ]
  },
  {
   "cell_type": "code",
   "execution_count": 5,
   "metadata": {},
   "outputs": [],
   "source": [
    "actors_factor = 1/4\n",
    "dir_factor = 1/2\n",
    "writer_factor = 1/13\n",
    "budget_factor = 1\n",
    "genre_factor = 1\n",
    "prod_factor = 1/2\n",
    "plot_factor = 1/12\n",
    "\n",
    "weights = (actors_factor*weights_actors + dir_factor*weights_dir + writer_factor*weights_writer + \n",
    "           budget_factor*weights_budget + genre_factor*weights_genre + prod_factor*weights_prod + \n",
    "           plot_factor*weights_plot) / 7\n",
    "\n",
    "# The adjacency matrix is the normalized weight matrix\n",
    "adjacency = weights / np.max(weights)"
   ]
  },
  {
   "cell_type": "code",
   "execution_count": 6,
   "metadata": {},
   "outputs": [
    {
     "name": "stdout",
     "output_type": "stream",
     "text": [
      "Sparsity of our network: 26.876002103360904 %\n"
     ]
    }
   ],
   "source": [
    "print('Sparsity of our network:', np.count_nonzero(adjacency==0)*100/(len(adjacency)**2), '%')"
   ]
  },
  {
   "cell_type": "code",
   "execution_count": 7,
   "metadata": {},
   "outputs": [],
   "source": [
    "sparse_adj = np.zeros((len(adjacency), len(adjacency)))\n",
    "for i in range(len(adjacency)):\n",
    "    for j in range(i+1, len(adjacency)):\n",
    "        row = adjacency[i,:].copy()\n",
    "        thresh = -np.sort(-row)[249]\n",
    "        row[row < thresh] = 0\n",
    "        sparse_adj[i,:] = row\n",
    "        \n",
    "sparse_adj = sparse_adj + sparse_adj.T\n",
    "np.save('sparse_adj.npy', sparse_adj)"
   ]
  },
  {
   "cell_type": "code",
   "execution_count": 4,
   "metadata": {},
   "outputs": [],
   "source": [
    "sparse_adj = np.load('sparse_adj.npy')\n",
    "weights = np.load('weights.npy')\n",
    "adjacency = np.load('adjacency.npy')"
   ]
  },
  {
   "cell_type": "markdown",
   "metadata": {},
   "source": [
    "# 5. Analysis"
   ]
  },
  {
   "cell_type": "markdown",
   "metadata": {},
   "source": [
    "## A. Label creation"
   ]
  },
  {
   "cell_type": "code",
   "execution_count": 5,
   "metadata": {},
   "outputs": [],
   "source": [
    "label_boxoffice = final_df.BoxOffice.values.copy()\n",
    "label_imdb = final_df.imdbGrade.values.copy()\n",
    "label_tomato = final_df.tomatoGrade.values.copy()\n",
    "label_metacritic = final_df.metacriticGrade.values.copy()\n",
    "label_wins = final_df.Wins.values.copy()\n",
    "label_noms = final_df.Nominations.values.copy()"
   ]
  },
  {
   "cell_type": "code",
   "execution_count": 6,
   "metadata": {},
   "outputs": [],
   "source": [
    "label_tomato[label_tomato > 100] = 44"
   ]
  },
  {
   "cell_type": "markdown",
   "metadata": {},
   "source": [
    "## B. All features combined"
   ]
  },
  {
   "cell_type": "code",
   "execution_count": 7,
   "metadata": {},
   "outputs": [
    {
     "name": "stdout",
     "output_type": "stream",
     "text": [
      "Connectedness of our graph: True\n"
     ]
    }
   ],
   "source": [
    "G = nx.from_numpy_matrix(sparse_adj)\n",
    "print('Connectedness of our graph:', nx.is_connected(G))"
   ]
  },
  {
   "cell_type": "markdown",
   "metadata": {},
   "source": [
    "Now that we know our graph is connected, we can use the whole adjacency matrix for the analysis."
   ]
  },
  {
   "cell_type": "code",
   "execution_count": 8,
   "metadata": {},
   "outputs": [],
   "source": [
    "degree_weighted = sparse_adj.sum(1)\n",
    "D = np.diag(degree_weighted)\n",
    "\n",
    "D_norm = np.diag(np.sqrt(1./degree_weighted))\n",
    "D_norm[D_norm == np.inf] = 0\n",
    "\n",
    "laplacian = sparse.csgraph.laplacian(sparse_adj, normed=False)\n",
    "\n",
    "e, U = scipy.linalg.eigh(laplacian)\n",
    "coords = U[:,[2,4]]  # Laplacian eigenmaps"
   ]
  },
  {
   "cell_type": "code",
   "execution_count": 9,
   "metadata": {},
   "outputs": [
    {
     "data": {
      "image/png": "[encoded data removed]",
      "text/plain": [
       "<Figure size 1080x576 with 2 Axes>"
      ]
     },
     "metadata": {
      "needs_background": "light"
     },
     "output_type": "display_data"
    }
   ],
   "source": [
    "plt.figure(figsize = (15,8))\n",
    "nodes = nx.draw_networkx_nodes(G, coords, node_size=60, node_color=label_boxoffice)\n",
    "#nx.draw_networkx_edges(G, coords, alpha=0.1)\n",
    "plt.title(\"Box office as a signal on our graph\", y=1.08)\n",
    "plt.xlabel(\"First non-null eigenvector\")\n",
    "plt.ylabel(\"Second non-null eigenvector\")\n",
    "plt.colorbar(nodes)\n",
    "plt.show()"
   ]
  },
  {
   "cell_type": "code",
   "execution_count": 10,
   "metadata": {},
   "outputs": [
    {
     "data": {
      "image/png": "[encoded data removed]",
      "text/plain": [
       "<Figure size 1080x576 with 2 Axes>"
      ]
     },
     "metadata": {
      "needs_background": "light"
     },
     "output_type": "display_data"
    }
   ],
   "source": [
    "plt.figure(figsize = (15,8))\n",
    "nodes = nx.draw_networkx_nodes(G, coords, node_size=60, node_color=label_metacritic)\n",
    "#nx.draw_networkx_edges(G, coords, alpha=0.1)\n",
    "plt.title(\"Metacritic grade as a signal on our graph\", y=1.08)\n",
    "plt.xlabel(\"First non-null eigenvector\")\n",
    "plt.ylabel(\"Second non-null eigenvector\")\n",
    "plt.colorbar(nodes)\n",
    "plt.show()"
   ]
  },
  {
   "cell_type": "code",
   "execution_count": 11,
   "metadata": {},
   "outputs": [
    {
     "data": {
      "image/png": "[encoded data removed]",
      "text/plain": [
       "<Figure size 1080x576 with 2 Axes>"
      ]
     },
     "metadata": {
      "needs_background": "light"
     },
     "output_type": "display_data"
    }
   ],
   "source": [
    "plt.figure(figsize = (15,8))\n",
    "nodes = nx.draw_networkx_nodes(G, coords, node_size=60, node_color=label_tomato)\n",
    "#nx.draw_networkx_edges(G, coords, alpha=0.1)\n",
    "plt.title(\"Rotten tomatoes grade as a signal on our graph\", y=1.08)\n",
    "plt.xlabel(\"First non-null eigenvector\")\n",
    "plt.ylabel(\"Second non-null eigenvector\")\n",
    "plt.colorbar(nodes)\n",
    "\n",
    "plt.show()"
   ]
  },
  {
   "cell_type": "code",
   "execution_count": 12,
   "metadata": {},
   "outputs": [
    {
     "data": {
      "image/png": "[encoded data removed]",
      "text/plain": [
       "<Figure size 1080x576 with 2 Axes>"
      ]
     },
     "metadata": {
      "needs_background": "light"
     },
     "output_type": "display_data"
    }
   ],
   "source": [
    "plt.figure(figsize = (15,8))\n",
    "nodes = nx.draw_networkx_nodes(G, coords, node_size=60, node_color=label_imdb)\n",
    "#nx.draw_networkx_edges(G, coords, alpha=0.1)\n",
    "plt.title(\"imdb grade as a signal on our graph\", y=1.08)\n",
    "plt.xlabel(\"First non-null eigenvector\")\n",
    "plt.ylabel(\"Second non-null eigenvector\")\n",
    "plt.colorbar(nodes)\n",
    "\n",
    "plt.show()"
   ]
  },
  {
   "cell_type": "markdown",
   "metadata": {},
   "source": [
    "## C. Clustering\n",
    "\n",
    "We used DBSCAN"
   ]
  },
  {
   "cell_type": "code",
   "execution_count": 13,
   "metadata": {},
   "outputs": [
    {
     "data": {
      "image/png": "[encoded data removed]",
      "text/plain": [
       "<Figure size 720x576 with 1 Axes>"
      ]
     },
     "metadata": {
      "needs_background": "light"
     },
     "output_type": "display_data"
    }
   ],
   "source": [
    "projection_df = pd.DataFrame({'x':coords[:, 0], 'y':coords[:,1]})\n",
    "\n",
    "projection_df.plot(x = 'x', y = 'y', kind='scatter', figsize=(10, 8), title='Our projection of our network')\n",
    "plt.show()"
   ]
  },
  {
   "cell_type": "code",
   "execution_count": 14,
   "metadata": {},
   "outputs": [],
   "source": [
    "def cluster(df, eps=0.3, min_samples=10):\n",
    "    \"\"\"Compute and display clusters\n",
    "    \n",
    "    Arguments:\n",
    "    ----------\n",
    "    df: pandas.DataFrame\n",
    "        Dataframe containing the needed information.\n",
    "    eps: float\n",
    "        Distance to consider for neighbors for the DBSCAN algorithm.\n",
    "    min_samples: int\n",
    "        Minimum number of points to consider the set of points as a cluster and no outliers.\n",
    "    \n",
    "    Returns:\n",
    "    ---------\n",
    "    labels: numpy.ndarray\n",
    "        The labels associated with each point.\n",
    "    \"\"\"\n",
    "    X = StandardScaler().fit_transform(df)\n",
    "\n",
    "    # Compute DBSCAN\n",
    "    db = DBSCAN(eps=eps, min_samples=min_samples).fit(X)\n",
    "    core_samples_mask = np.zeros_like(db.labels_, dtype=bool)\n",
    "    core_samples_mask[db.core_sample_indices_] = True\n",
    "    labels = db.labels_\n",
    "\n",
    "    # Number of clusters in labels, ignoring noise if present.\n",
    "    n_clusters_ = len(set(labels)) - (1 if -1 in labels else 0)\n",
    "    n_noise_ = list(labels).count(-1)\n",
    "\n",
    "    print('Estimated number of clusters: %d' % n_clusters_)\n",
    "    print('Estimated number of noise points: %d' % n_noise_)\n",
    "    if n_clusters_ > 0:\n",
    "        if len(list(set(labels))) > 1:\n",
    "            print(\"Silhouette Coefficient: %0.3f\"\n",
    "                  % metrics.silhouette_score(X, labels))\n",
    "        else:\n",
    "            print(\"Silhouette Coefficient could not be computed for 1 cluster and 0 noise points\")\n",
    "    else:\n",
    "        print(\"Silhouette Coefficient could not be computed for 0 clusters\")\n",
    "\n",
    "    # Plot result\n",
    "    # Black removed and is used for noise instead.\n",
    "    unique_labels = set(labels)\n",
    "    colors = [plt.cm.Spectral(each)\n",
    "              for each in np.linspace(0, 1, len(unique_labels))]\n",
    "    plt.figure(figsize=(10,7))\n",
    "    for k, col in zip(unique_labels, colors):\n",
    "        if k == -1:\n",
    "            # Black used for noise.\n",
    "            col = [0, 0, 0, 1]\n",
    "\n",
    "        class_member_mask = (labels == k)\n",
    "\n",
    "        xy = X[class_member_mask & core_samples_mask]\n",
    "        plt.plot(xy[:, 0], xy[:, 1], 'o', markerfacecolor=tuple(col),\n",
    "                 markeredgecolor='k', markersize=14)\n",
    "\n",
    "        xy = X[class_member_mask & ~core_samples_mask]\n",
    "        plt.plot(xy[:, 0], xy[:, 1], 'o', markerfacecolor=tuple(col),\n",
    "                 markeredgecolor='k', markersize=6)\n",
    "\n",
    "    plt.title('Estimated number of clusters: %d' % n_clusters_)\n",
    "    plt.show()\n",
    "    \n",
    "    return labels"
   ]
  },
  {
   "cell_type": "code",
   "execution_count": 15,
   "metadata": {},
   "outputs": [
    {
     "name": "stdout",
     "output_type": "stream",
     "text": [
      "Estimated number of clusters: 4\n",
      "Estimated number of noise points: 1\n",
      "Silhouette Coefficient: 0.901\n"
     ]
    },
    {
     "data": {
      "image/png": "[encoded data removed]",
      "text/plain": [
       "<Figure size 720x504 with 1 Axes>"
      ]
     },
     "metadata": {
      "needs_background": "light"
     },
     "output_type": "display_data"
    }
   ],
   "source": [
    "labels = cluster(projection_df, eps=0.35, min_samples=10)"
   ]
  },
  {
   "cell_type": "markdown",
   "metadata": {},
   "source": [
    "We have 4 distinct clusters. The silhouette coefficient is 0.901 which means the cluster qualities are high (maximum is 1). "
   ]
  },
  {
   "cell_type": "code",
   "execution_count": 16,
   "metadata": {},
   "outputs": [],
   "source": [
    "cluster1 = list(np.argwhere(labels==0).flatten())\n",
    "cluster2 = list(np.argwhere(labels==1).flatten())\n",
    "cluster3 = list(np.argwhere(labels==2).flatten())\n",
    "cluster4 = list(np.argwhere(labels==3).flatten())"
   ]
  },
  {
   "cell_type": "code",
   "execution_count": 17,
   "metadata": {},
   "outputs": [
    {
     "name": "stdout",
     "output_type": "stream",
     "text": [
      "Range of budgets for cluster 1: {5}\n",
      "Range of budgets for cluster 2: {3}\n",
      "Range of budgets for cluster 3: {4}\n",
      "Range of budgets for cluster 4: {1, 2}\n"
     ]
    }
   ],
   "source": [
    "print('Range of budgets for cluster 1:', set(final_df.loc[cluster1].Budget))\n",
    "print('Range of budgets for cluster 2:', set(final_df.loc[cluster2].Budget))\n",
    "print('Range of budgets for cluster 3:', set(final_df.loc[cluster3].Budget))\n",
    "print('Range of budgets for cluster 4:', set(final_df.loc[cluster4].Budget))"
   ]
  },
  {
   "cell_type": "code",
   "execution_count": 18,
   "metadata": {},
   "outputs": [
    {
     "name": "stdout",
     "output_type": "stream",
     "text": [
      "Mean box office for cluster 1 in million $ (high budget): 167.204\n",
      "Mean box office for cluster 3 in million $ (medium budget): 33.203\n",
      "Mean box office for cluster 2 in million $ (low budget): 72.064\n",
      "Mean box office for cluster 4 in million $ (independent): 13.280\n"
     ]
    }
   ],
   "source": [
    "print('Mean box office for cluster 1 in million $ (high budget): {d:.3f}'.format(d=np.mean(final_df.loc[cluster1].BoxOffice.values)/10**6))\n",
    "print('Mean box office for cluster 3 in million $ (medium budget): {d:.3f}'.format(d=np.mean(final_df.loc[cluster2].BoxOffice.values)/10**6))\n",
    "print('Mean box office for cluster 2 in million $ (low budget): {d:.3f}'.format(d=np.mean(final_df.loc[cluster3].BoxOffice.values)/10**6))\n",
    "print('Mean box office for cluster 4 in million $ (independent): {d:.3f}'.format(d=np.mean(final_df.loc[cluster4].BoxOffice.values)/10**6))"
   ]
  },
  {
   "cell_type": "code",
   "execution_count": 19,
   "metadata": {},
   "outputs": [
    {
     "name": "stdout",
     "output_type": "stream",
     "text": [
      "Mean Rotten Tomatoes grade for cluster 1 (high budget): 58.841\n",
      "Mean Rotten Tomatoes grade for cluster 3 (medium budget): 51.152\n",
      "Mean Rotten Tomatoes grade for cluster 2 (low budget): 46.645\n",
      "Mean Rotten Tomatoes grade for cluster 4 (independent): 65.920\n"
     ]
    }
   ],
   "source": [
    "print('Mean Rotten Tomatoes grade for cluster 1 (high budget): {d:.3f}'.format(d=np.mean(final_df.loc[cluster1].tomatoGrade.values)))\n",
    "print('Mean Rotten Tomatoes grade for cluster 3 (medium budget): {d:.3f}'.format(d=np.mean(final_df.loc[cluster2].tomatoGrade.values)))\n",
    "print('Mean Rotten Tomatoes grade for cluster 2 (low budget): {d:.3f}'.format(d=np.mean(final_df.loc[cluster3].tomatoGrade.values)))\n",
    "print('Mean Rotten Tomatoes grade for cluster 4 (independent): {d:.3f}'.format(d=np.mean(final_df.loc[cluster4].tomatoGrade.values)))"
   ]
  },
  {
   "cell_type": "code",
   "execution_count": 20,
   "metadata": {},
   "outputs": [
    {
     "name": "stdout",
     "output_type": "stream",
     "text": [
      "Mean Metacritics grade for cluster 1 (high budget): 57.504\n",
      "Mean Metacritics grade for cluster 3 (medium budget): 52.429\n",
      "Mean Metacritics grade for cluster 2 (low budget): 50.520\n",
      "Mean Metacritics grade for cluster 4 (independent): 60.950\n"
     ]
    }
   ],
   "source": [
    "print('Mean Metacritics grade for cluster 1 (high budget): {d:.3f}'.format(d=np.mean(final_df.loc[cluster1].metacriticGrade.values)))\n",
    "print('Mean Metacritics grade for cluster 3 (medium budget): {d:.3f}'.format(d=np.mean(final_df.loc[cluster2].metacriticGrade.values)))\n",
    "print('Mean Metacritics grade for cluster 2 (low budget): {d:.3f}'.format(d=np.mean(final_df.loc[cluster3].metacriticGrade.values)))\n",
    "print('Mean Metacritics grade for cluster 4 (independent): {d:.3f}'.format(d=np.mean(final_df.loc[cluster4].metacriticGrade.values)))"
   ]
  },
  {
   "cell_type": "code",
   "execution_count": 21,
   "metadata": {},
   "outputs": [
    {
     "name": "stdout",
     "output_type": "stream",
     "text": [
      "Mean imdb grade for cluster 1 (high budget): 67.215\n",
      "Mean imdb grade for cluster 3 (medium budget): 63.697\n",
      "Mean imdb grade for cluster 2 (low budget): 63.447\n",
      "Mean imdb grade for cluster 4 (independent): 66.650\n"
     ]
    }
   ],
   "source": [
    "print('Mean imdb grade for cluster 1 (high budget): {d:.3f}'.format(d=np.mean(final_df.loc[cluster1].imdbGrade.values)))\n",
    "print('Mean imdb grade for cluster 3 (medium budget): {d:.3f}'.format(d=np.mean(final_df.loc[cluster2].imdbGrade.values)))\n",
    "print('Mean imdb grade for cluster 2 (low budget): {d:.3f}'.format(d=np.mean(final_df.loc[cluster3].imdbGrade.values)))\n",
    "print('Mean imdb grade for cluster 4 (independent): {d:.3f}'.format(d=np.mean(final_df.loc[cluster4].imdbGrade.values)))"
   ]
  },
  {
   "cell_type": "code",
   "execution_count": 22,
   "metadata": {},
   "outputs": [],
   "source": [
    "def flatten_set(set_array):\n",
    "    flattened = []\n",
    "    for i in range(len(set_array)):\n",
    "        flattened = flattened + list(set_array[i])\n",
    "    \n",
    "    return set(flattened)"
   ]
  },
  {
   "cell_type": "code",
   "execution_count": 23,
   "metadata": {},
   "outputs": [
    {
     "name": "stdout",
     "output_type": "stream",
     "text": [
      "Directors per film in cluster 1 (high budget): 0.693\n",
      "Directors per film in cluster 3 (medium budget): 0.716\n",
      "Directors per film in cluster 2 (low budget): 0.804\n",
      "Directors per film in cluster 4 (independent): 0.991\n"
     ]
    }
   ],
   "source": [
    "print('Directors per film in cluster 1 (high budget): {d:.3f}'.format(d=len(flatten_set(final_df.loc[cluster1].Director.values))/len(final_df.loc[cluster1])))\n",
    "print('Directors per film in cluster 3 (medium budget): {d:.3f}'.format(d=len(flatten_set(final_df.loc[cluster3].Director.values))/len(final_df.loc[cluster3])))\n",
    "print('Directors per film in cluster 2 (low budget): {d:.3f}'.format(d=len(flatten_set(final_df.loc[cluster2].Director.values))/len(final_df.loc[cluster2])))\n",
    "print('Directors per film in cluster 4 (independent): {d:.3f}'.format(d=len(flatten_set(final_df.loc[cluster4].Director.values))/len(final_df.loc[cluster4])))"
   ]
  },
  {
   "cell_type": "code",
   "execution_count": 24,
   "metadata": {},
   "outputs": [
    {
     "name": "stdout",
     "output_type": "stream",
     "text": [
      "Actors per film in cluster 1 (high budget): 2.504\n",
      "Actors per film in cluster 3 (medium budget): 2.369\n",
      "Actors per film in cluster 2 (low budget): 2.597\n",
      "Actors per film in cluster 4 (independent): 3.558\n"
     ]
    }
   ],
   "source": [
    "print('Actors per film in cluster 1 (high budget): {d:.3f}'.format(d=len(flatten_set(final_df.loc[cluster1].Actors.values))/len(final_df.loc[cluster1])))\n",
    "print('Actors per film in cluster 3 (medium budget): {d:.3f}'.format(d=len(flatten_set(final_df.loc[cluster3].Actors.values))/len(final_df.loc[cluster3])))\n",
    "print('Actors per film in cluster 2 (low budget): {d:.3f}'.format(d=len(flatten_set(final_df.loc[cluster2].Actors.values))/len(final_df.loc[cluster2])))\n",
    "print('Actors per film in cluster 4 (independent): {d:.3f}'.format(d=len(flatten_set(final_df.loc[cluster4].Actors.values))/len(final_df.loc[cluster4])))"
   ]
  },
  {
   "cell_type": "code",
   "execution_count": 25,
   "metadata": {},
   "outputs": [
    {
     "name": "stdout",
     "output_type": "stream",
     "text": [
      "Writers per film in cluster 1 (high budget): 2.230\n",
      "Writers per film in cluster 3 (medium budget): 2.069\n",
      "Writers per film in cluster 2 (low budget): 1.828\n",
      "Writers per film in cluster 4 (independent): 1.724\n"
     ]
    }
   ],
   "source": [
    "print('Writers per film in cluster 1 (high budget): {d:.3f}'.format(d=len(flatten_set(final_df.loc[cluster1].Writer.values))/len(final_df.loc[cluster1])))\n",
    "print('Writers per film in cluster 3 (medium budget): {d:.3f}'.format(d=len(flatten_set(final_df.loc[cluster3].Writer.values))/len(final_df.loc[cluster3])))\n",
    "print('Writers per film in cluster 2 (low budget): {d:.3f}'.format(d=len(flatten_set(final_df.loc[cluster2].Writer.values))/len(final_df.loc[cluster2])))\n",
    "print('Writers per film in cluster 4 (independent): {d:.3f}'.format(d=len(flatten_set(final_df.loc[cluster4].Writer.values))/len(final_df.loc[cluster4])))"
   ]
  },
  {
   "cell_type": "code",
   "execution_count": 26,
   "metadata": {},
   "outputs": [
    {
     "name": "stdout",
     "output_type": "stream",
     "text": [
      "Genres per film in cluster 1 (high budget): 0.074\n",
      "Genres per film in cluster 3 (medium budget): 0.036\n",
      "Genres per film in cluster 2 (low budget): 0.027\n",
      "Genres per film in cluster 4 (independent): 0.062\n"
     ]
    }
   ],
   "source": [
    "print('Genres per film in cluster 1 (high budget): {d:.3f}'.format(d=len(flatten_set(final_df.loc[cluster1].Genre.values))/len(final_df.loc[cluster1])))\n",
    "print('Genres per film in cluster 3 (medium budget): {d:.3f}'.format(d=len(flatten_set(final_df.loc[cluster3].Genre.values))/len(final_df.loc[cluster3])))\n",
    "print('Genres per film in cluster 2 (low budget): {d:.3f}'.format(d=len(flatten_set(final_df.loc[cluster2].Genre.values))/len(final_df.loc[cluster2])))\n",
    "print('Genres per film in cluster 4 (independent): {d:.3f}'.format(d=len(flatten_set(final_df.loc[cluster4].Genre.values))/len(final_df.loc[cluster4])))"
   ]
  },
  {
   "cell_type": "code",
   "execution_count": 27,
   "metadata": {},
   "outputs": [
    {
     "name": "stdout",
     "output_type": "stream",
     "text": [
      "Production companies per film in cluster 1 (high budget): 0.093\n",
      "Production companies per film in cluster 3 (medium budget): 0.080\n",
      "Production companies per film in cluster 2 (low budget): 0.124\n",
      "Production companies per film in cluster 4 (independent): 0.270\n"
     ]
    }
   ],
   "source": [
    "print('Production companies per film in cluster 1 (high budget): {d:.3f}'.format(d=len(flatten_set(final_df.loc[cluster1].Production.values))/len(final_df.loc[cluster1])))\n",
    "print('Production companies per film in cluster 3 (medium budget): {d:.3f}'.format(d=len(flatten_set(final_df.loc[cluster3].Production.values))/len(final_df.loc[cluster3])))\n",
    "print('Production companies per film in cluster 2 (low budget): {d:.3f}'.format(d=len(flatten_set(final_df.loc[cluster2].Production.values))/len(final_df.loc[cluster2])))\n",
    "print('Production companies per film in cluster 4 (independent): {d:.3f}'.format(d=len(flatten_set(final_df.loc[cluster4].Production.values))/len(final_df.loc[cluster4])))"
   ]
  },
  {
   "cell_type": "code",
   "execution_count": 28,
   "metadata": {},
   "outputs": [
    {
     "name": "stdout",
     "output_type": "stream",
     "text": [
      "Rated categories per film in cluster 1 (high budget): {'R', 'G', 'PG', 'PG-13'}\n",
      "Rated categories per film in cluster 3 (medium budget): {'UNRATED', 'PG', 'R', 'G', 'PG-13'}\n",
      "Rated categories per film in cluster 2 (low budget): {'UNRATED', 'PG', 'R', 'G', 'PG-13'}\n",
      "Rated categories per film in cluster 4 (independent): {'UNRATED', 'PG', 'NC-17', 'R', 'G', 'PG-13'}\n"
     ]
    }
   ],
   "source": [
    "print('Rated categories per film in cluster 1 (high budget):', flatten_set(final_df.loc[cluster1].Rated.values))\n",
    "print('Rated categories per film in cluster 3 (medium budget):', flatten_set(final_df.loc[cluster3].Rated.values))\n",
    "print('Rated categories per film in cluster 2 (low budget):', flatten_set(final_df.loc[cluster2].Rated.values))\n",
    "print('Rated categories per film in cluster 4 (independent):', flatten_set(final_df.loc[cluster4].Rated.values))"
   ]
  },
  {
   "cell_type": "code",
   "execution_count": 29,
   "metadata": {},
   "outputs": [
    {
     "data": {
      "text/plain": [
       "Index(['Actors', 'BoxOffice', 'Director', 'Genre', 'metacriticGrade', 'Plot',\n",
       "       'Production', 'Rated', 'Title', 'Writer', 'imdbGrade', 'tomatoGrade',\n",
       "       'Wins', 'Nominations', 'Budget'],\n",
       "      dtype='object')"
      ]
     },
     "execution_count": 29,
     "metadata": {},
     "output_type": "execute_result"
    }
   ],
   "source": [
    "final_df.columns"
   ]
  },
  {
   "cell_type": "code",
   "execution_count": 30,
   "metadata": {},
   "outputs": [
    {
     "name": "stdout",
     "output_type": "stream",
     "text": [
      "Mean Wins for cluster 1 (high budget): 14.807\n",
      "Mean Wins for cluster 3 (medium budget): 8.206\n",
      "Mean Wins for cluster 2 (low budget): 6.974\n",
      "Mean Wins for cluster 4 (independent): 11.395\n"
     ]
    }
   ],
   "source": [
    "print('Mean Wins for cluster 1 (high budget): {d:.3f}'.format(d=np.mean(final_df.loc[cluster1].Wins.values)))\n",
    "print('Mean Wins for cluster 3 (medium budget): {d:.3f}'.format(d=np.mean(final_df.loc[cluster2].Wins.values)))\n",
    "print('Mean Wins for cluster 2 (low budget): {d:.3f}'.format(d=np.mean(final_df.loc[cluster3].Wins.values)))\n",
    "print('Mean Wins for cluster 4 (independent): {d:.3f}'.format(d=np.mean(final_df.loc[cluster4].Wins.values)))"
   ]
  },
  {
   "cell_type": "code",
   "execution_count": 31,
   "metadata": {},
   "outputs": [
    {
     "name": "stdout",
     "output_type": "stream",
     "text": [
      "Mean Nominations for cluster 1 (high budget): 35.633\n",
      "Mean Nominations for cluster 3 (medium budget): 17.576\n",
      "Mean Nominations for cluster 2 (low budget): 16.087\n",
      "Mean Nominations for cluster 4 (independent): 18.395\n"
     ]
    }
   ],
   "source": [
    "print('Mean Nominations for cluster 1 (high budget): {d:.3f}'.format(d=np.mean(final_df.loc[cluster1].Nominations.values)))\n",
    "print('Mean Nominations for cluster 3 (medium budget): {d:.3f}'.format(d=np.mean(final_df.loc[cluster2].Nominations.values)))\n",
    "print('Mean Nominations for cluster 2 (low budget): {d:.3f}'.format(d=np.mean(final_df.loc[cluster3].Nominations.values)))\n",
    "print('Mean Nominations for cluster 4 (independent): {d:.3f}'.format(d=np.mean(final_df.loc[cluster4].Nominations.values)))"
   ]
  },
  {
   "cell_type": "code",
   "execution_count": 32,
   "metadata": {},
   "outputs": [
    {
     "name": "stdout",
     "output_type": "stream",
     "text": [
      "Plot words per film in cluster 1 (high budget): 3.567\n",
      "Plot words per film in cluster 3 (medium budget): 3.106\n",
      "Plot words per film in cluster 2 (low budget): 2.583\n",
      "Plot words per film in cluster 4 (independent): 3.570\n"
     ]
    }
   ],
   "source": [
    "print('Plot words per film in cluster 1 (high budget): {d:.3f}'.format(d=len(flatten_set(final_df.loc[cluster1].Plot.values))/len(final_df.loc[cluster1])))\n",
    "print('Plot words per film in cluster 3 (medium budget): {d:.3f}'.format(d=len(flatten_set(final_df.loc[cluster3].Plot.values))/len(final_df.loc[cluster3])))\n",
    "print('Plot words per film in cluster 2 (low budget): {d:.3f}'.format(d=len(flatten_set(final_df.loc[cluster2].Plot.values))/len(final_df.loc[cluster2])))\n",
    "print('Plot words per film in cluster 4 (independent): {d:.3f}'.format(d=len(flatten_set(final_df.loc[cluster4].Plot.values))/len(final_df.loc[cluster4])))"
   ]
  },
  {
   "cell_type": "code",
   "execution_count": 33,
   "metadata": {},
   "outputs": [],
   "source": [
    "def flatten_list(set_array):\n",
    "    flattened = []\n",
    "    for i in range(len(set_array)):\n",
    "        flattened = flattened + list(set_array[i])\n",
    "    \n",
    "    return flattened"
   ]
  },
  {
   "cell_type": "code",
   "execution_count": 62,
   "metadata": {
    "scrolled": true
   },
   "outputs": [
    {
     "name": "stdout",
     "output_type": "stream",
     "text": [
      "Most frequent words in cluster 1 films (high budget)\n"
     ]
    },
    {
     "data": {
      "text/plain": [
       "world      38\n",
       "life       18\n",
       "home       15\n",
       "time       13\n",
       "team       13\n",
       "friends    12\n",
       "war        11\n",
       "race       11\n",
       "help       11\n",
       "son        10\n",
       "man        10\n",
       "Name: 0, dtype: int64"
      ]
     },
     "execution_count": 62,
     "metadata": {},
     "output_type": "execute_result"
    }
   ],
   "source": [
    "plot1 = flatten_list(final_df.loc[cluster1].Plot.values)\n",
    "plot1_df = pd.DataFrame(plot1)\n",
    "print('Most frequent words in cluster 1 films (high budget)')\n",
    "plot1_df[0].value_counts()[plot1_df[0].value_counts() >= 10]"
   ]
  },
  {
   "cell_type": "code",
   "execution_count": 63,
   "metadata": {
    "scrolled": true
   },
   "outputs": [
    {
     "name": "stdout",
     "output_type": "stream",
     "text": [
      "Most frequent words in cluster 3 films (medium budget)\n"
     ]
    },
    {
     "data": {
      "text/plain": [
       "life         47\n",
       "man          44\n",
       "world        42\n",
       "woman        34\n",
       "family       32\n",
       "team         30\n",
       "love         26\n",
       "father       25\n",
       "group        25\n",
       "wife         24\n",
       "story        23\n",
       "order        21\n",
       "way          21\n",
       "son          21\n",
       "home         21\n",
       "agent        20\n",
       "daughter     18\n",
       "town         17\n",
       "girl         16\n",
       "friends      16\n",
       "house        15\n",
       "mission      14\n",
       "murder       14\n",
       "boy          13\n",
       "friend       13\n",
       "battle       13\n",
       "death        13\n",
       "war          13\n",
       "help         12\n",
       "lives        12\n",
       "years        12\n",
       "city         12\n",
       "police       12\n",
       "school       11\n",
       "series       11\n",
       "forces       11\n",
       "attempt      11\n",
       "search       10\n",
       "kids         10\n",
       "quest        10\n",
       "couple       10\n",
       "adventure    10\n",
       "mother       10\n",
       "Name: 0, dtype: int64"
      ]
     },
     "execution_count": 63,
     "metadata": {},
     "output_type": "execute_result"
    }
   ],
   "source": [
    "plot3 = flatten_list(final_df.loc[cluster3].Plot.values)\n",
    "plot3_df = pd.DataFrame(plot3)\n",
    "print('Most frequent words in cluster 3 films (medium budget)')\n",
    "plot3_df[0].value_counts()[plot3_df[0].value_counts() >= 10]"
   ]
  },
  {
   "cell_type": "code",
   "execution_count": 64,
   "metadata": {
    "scrolled": true
   },
   "outputs": [
    {
     "name": "stdout",
     "output_type": "stream",
     "text": [
      "Most frequent words in cluster 2 films (low budget)\n"
     ]
    },
    {
     "data": {
      "text/plain": [
       "life            75\n",
       "man             67\n",
       "woman           64\n",
       "family          58\n",
       "school          50\n",
       "story           45\n",
       "friends         43\n",
       "girl            38\n",
       "love            35\n",
       "years           35\n",
       "world           35\n",
       "group           32\n",
       "order           32\n",
       "wife            30\n",
       "father          29\n",
       "son             29\n",
       "couple          28\n",
       "relationship    28\n",
       "friend          27\n",
       "lives           26\n",
       "town            25\n",
       "home            24\n",
       "boy             23\n",
       "people          23\n",
       "day             22\n",
       "mother          20\n",
       "parents         20\n",
       "husband         20\n",
       "way             20\n",
       "college         19\n",
       "                ..\n",
       "men             14\n",
       "murder          14\n",
       "star            14\n",
       "officer         14\n",
       "drama           14\n",
       "country         13\n",
       "night           13\n",
       "children        13\n",
       "series          12\n",
       "sister          12\n",
       "help            12\n",
       "drug            12\n",
       "police          12\n",
       "pair            11\n",
       "accident        11\n",
       "war             11\n",
       "child           11\n",
       "death           11\n",
       "boyfriend       11\n",
       "truth           10\n",
       "past            10\n",
       "forces          10\n",
       "crew            10\n",
       "film            10\n",
       "battle          10\n",
       "road            10\n",
       "year            10\n",
       "teenager        10\n",
       "travels         10\n",
       "dream           10\n",
       "Name: 0, Length: 74, dtype: int64"
      ]
     },
     "execution_count": 64,
     "metadata": {},
     "output_type": "execute_result"
    }
   ],
   "source": [
    "plot2 = flatten_list(final_df.loc[cluster2].Plot.values)\n",
    "plot2_df = pd.DataFrame(plot2)\n",
    "print('Most frequent words in cluster 2 films (low budget)')\n",
    "plot2_df[0].value_counts()[plot2_df[0].value_counts() >= 10]"
   ]
  },
  {
   "cell_type": "code",
   "execution_count": 60,
   "metadata": {
    "scrolled": true
   },
   "outputs": [
    {
     "name": "stdout",
     "output_type": "stream",
     "text": [
      "Most frequent words in cluster 4 films (independent)\n"
     ]
    },
    {
     "data": {
      "text/plain": [
       "family           39\n",
       "life             38\n",
       "woman            32\n",
       "man              26\n",
       "story            19\n",
       "mother           19\n",
       "friends          17\n",
       "group            16\n",
       "world            16\n",
       "love             16\n",
       "girl             15\n",
       "years            14\n",
       "home             14\n",
       "son              13\n",
       "school           13\n",
       "relationship     12\n",
       "college          11\n",
       "friend           11\n",
       "father           11\n",
       "time             11\n",
       "child            10\n",
       "daughter         10\n",
       "murder            9\n",
       "death             9\n",
       "couple            9\n",
       "crime             9\n",
       "town              8\n",
       "days              8\n",
       "film              8\n",
       "lives             8\n",
       "                 ..\n",
       "women             8\n",
       "series            7\n",
       "team              7\n",
       "brother           7\n",
       "friendship        7\n",
       "revenge           7\n",
       "party             7\n",
       "wife              7\n",
       "dealer            6\n",
       "events            6\n",
       "year              6\n",
       "struggle          6\n",
       "teenager          6\n",
       "killer            6\n",
       "sex               6\n",
       "forces            6\n",
       "police            6\n",
       "summer            5\n",
       "prison            5\n",
       "boyfriend         5\n",
       "comedy            5\n",
       "encounter         5\n",
       "order             5\n",
       "island            5\n",
       "parents           5\n",
       "apartment         5\n",
       "end               5\n",
       "relationships     5\n",
       "city              5\n",
       "role              5\n",
       "Name: 0, Length: 64, dtype: int64"
      ]
     },
     "execution_count": 60,
     "metadata": {},
     "output_type": "execute_result"
    }
   ],
   "source": [
    "plot4 = flatten_list(final_df.loc[cluster4].Plot.values)\n",
    "plot4_df = pd.DataFrame(plot4)\n",
    "print('Most frequent words in cluster 4 films (independent)')\n",
    "plot4_df[0].value_counts()[plot4_df[0].value_counts() >= 5]"
   ]
  },
  {
   "cell_type": "code",
   "execution_count": 70,
   "metadata": {},
   "outputs": [],
   "source": [
    "test = np.log10(final_df.BoxOffice.values)"
   ]
  },
  {
   "cell_type": "code",
   "execution_count": 66,
   "metadata": {},
   "outputs": [
    {
     "data": {
      "text/plain": [
       "array([20.43518368, 19.55015892, 19.15678076, ..., 12.90500556,\n",
       "        9.17045544, 12.88008797])"
      ]
     },
     "execution_count": 66,
     "metadata": {},
     "output_type": "execute_result"
    }
   ],
   "source": [
    "test"
   ]
  },
  {
   "cell_type": "code",
   "execution_count": 71,
   "metadata": {},
   "outputs": [
    {
     "data": {
      "text/plain": [
       "<matplotlib.axes._subplots.AxesSubplot at 0x1a3dfa4da0>"
      ]
     },
     "execution_count": 71,
     "metadata": {},
     "output_type": "execute_result"
    },
    {
     "data": {
      "image/png": "[encoded data removed]",
      "text/plain": [
       "<Figure size 432x288 with 1 Axes>"
      ]
     },
     "metadata": {
      "needs_background": "light"
     },
     "output_type": "display_data"
    }
   ],
   "source": [
    "test_df = pd.DataFrame(test)\n",
    "test_df[0].hist(bins=50)"
   ]
  },
  {
   "cell_type": "code",
   "execution_count": 68,
   "metadata": {},
   "outputs": [
    {
     "data": {
      "text/plain": [
       "array([749700000, 309404152, 208777731, ...,    402321,      9609,\n",
       "          392420])"
      ]
     },
     "execution_count": 68,
     "metadata": {},
     "output_type": "execute_result"
    }
   ],
   "source": [
    "final_df.BoxOffice.values"
   ]
  },
  {
   "cell_type": "code",
   "execution_count": null,
   "metadata": {},
   "outputs": [],
   "source": []
  }
 ],
 "metadata": {
  "kernelspec": {
   "display_name": "Python 3",
   "language": "python",
   "name": "python3"
  },
  "language_info": {
   "codemirror_mode": {
    "name": "ipython",
    "version": 3
   },
   "file_extension": ".py",
   "mimetype": "text/x-python",
   "name": "python",
   "nbconvert_exporter": "python",
   "pygments_lexer": "ipython3",
   "version": "3.7.1"
  }
 },
 "nbformat": 4,
 "nbformat_minor": 2
}
