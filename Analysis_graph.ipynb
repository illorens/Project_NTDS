{
 "cells": [
  {
   "cell_type": "markdown",
   "metadata": {},
   "source": [
    "# Analysis of our data\n",
    "\n",
    "1. Data collecting and data cleaning \n",
    "2. Computations for the creation of the adjacency matrix and the graph\n",
    "3. Graph creation\n",
    "4. Analysis"
   ]
  },
  {
   "cell_type": "code",
   "execution_count": 1,
   "metadata": {},
   "outputs": [],
   "source": [
    "import json\n",
    "import matplotlib.pyplot as plt\n",
    "import numpy as np\n",
    "import pandas as pd\n",
    "from pandas.plotting import scatter_matrix\n",
    "from pandas.io.json import json_normalize\n",
    "import pickle\n",
    "import re\n",
    "import scipy as sp\n",
    "from scipy import stats\n",
    "from scipy import sparse\n",
    "import scipy.sparse.linalg\n",
    "import seaborn as sns\n",
    "from sklearn import metrics\n",
    "from sklearn.cluster import DBSCAN\n",
    "from sklearn.datasets.samples_generator import make_blobs\n",
    "from sklearn.decomposition import PCA\n",
    "from sklearn.feature_selection import mutual_info_regression\n",
    "from sklearn.preprocessing import StandardScaler\n",
    "from sklearn.cluster import KMeans\n",
    "from sklearn import metrics\n",
    "import nltk\n",
    "import omdb\n",
    "\n",
    "import warnings\n",
    "warnings.simplefilter(action='ignore', category=FutureWarning)\n",
    "warnings.simplefilter(action='ignore', category=UserWarning)\n",
    "warnings.simplefilter(action='ignore', category=RuntimeWarning)\n",
    "pd.options.mode.chained_assignment = None"
   ]
  },
  {
   "cell_type": "code",
   "execution_count": 2,
   "metadata": {},
   "outputs": [],
   "source": [
    "%matplotlib inline"
   ]
  },
  {
   "cell_type": "markdown",
   "metadata": {},
   "source": [
    "# 1. Data collecting and data cleaning"
   ]
  },
  {
   "cell_type": "code",
   "execution_count": 3,
   "metadata": {
    "scrolled": true
   },
   "outputs": [
    {
     "data": {
      "text/html": [
       "<div>\n",
       "<style scoped>\n",
       "    .dataframe tbody tr th:only-of-type {\n",
       "        vertical-align: middle;\n",
       "    }\n",
       "\n",
       "    .dataframe tbody tr th {\n",
       "        vertical-align: top;\n",
       "    }\n",
       "\n",
       "    .dataframe thead th {\n",
       "        text-align: right;\n",
       "    }\n",
       "</style>\n",
       "<table border=\"1\" class=\"dataframe\">\n",
       "  <thead>\n",
       "    <tr style=\"text-align: right;\">\n",
       "      <th></th>\n",
       "      <th>movie_id</th>\n",
       "      <th>title</th>\n",
       "      <th>cast</th>\n",
       "      <th>crew</th>\n",
       "    </tr>\n",
       "  </thead>\n",
       "  <tbody>\n",
       "    <tr>\n",
       "      <th>0</th>\n",
       "      <td>19995</td>\n",
       "      <td>Avatar</td>\n",
       "      <td>[{\"cast_id\": 242, \"character\": \"Jake Sully\", \"...</td>\n",
       "      <td>[{\"credit_id\": \"52fe48009251416c750aca23\", \"de...</td>\n",
       "    </tr>\n",
       "    <tr>\n",
       "      <th>1</th>\n",
       "      <td>285</td>\n",
       "      <td>Pirates of the Caribbean: At World's End</td>\n",
       "      <td>[{\"cast_id\": 4, \"character\": \"Captain Jack Spa...</td>\n",
       "      <td>[{\"credit_id\": \"52fe4232c3a36847f800b579\", \"de...</td>\n",
       "    </tr>\n",
       "    <tr>\n",
       "      <th>2</th>\n",
       "      <td>206647</td>\n",
       "      <td>Spectre</td>\n",
       "      <td>[{\"cast_id\": 1, \"character\": \"James Bond\", \"cr...</td>\n",
       "      <td>[{\"credit_id\": \"54805967c3a36829b5002c41\", \"de...</td>\n",
       "    </tr>\n",
       "    <tr>\n",
       "      <th>3</th>\n",
       "      <td>49026</td>\n",
       "      <td>The Dark Knight Rises</td>\n",
       "      <td>[{\"cast_id\": 2, \"character\": \"Bruce Wayne / Ba...</td>\n",
       "      <td>[{\"credit_id\": \"52fe4781c3a36847f81398c3\", \"de...</td>\n",
       "    </tr>\n",
       "    <tr>\n",
       "      <th>4</th>\n",
       "      <td>49529</td>\n",
       "      <td>John Carter</td>\n",
       "      <td>[{\"cast_id\": 5, \"character\": \"John Carter\", \"c...</td>\n",
       "      <td>[{\"credit_id\": \"52fe479ac3a36847f813eaa3\", \"de...</td>\n",
       "    </tr>\n",
       "  </tbody>\n",
       "</table>\n",
       "</div>"
      ],
      "text/plain": [
       "   movie_id                                     title  \\\n",
       "0     19995                                    Avatar   \n",
       "1       285  Pirates of the Caribbean: At World's End   \n",
       "2    206647                                   Spectre   \n",
       "3     49026                     The Dark Knight Rises   \n",
       "4     49529                               John Carter   \n",
       "\n",
       "                                                cast  \\\n",
       "0  [{\"cast_id\": 242, \"character\": \"Jake Sully\", \"...   \n",
       "1  [{\"cast_id\": 4, \"character\": \"Captain Jack Spa...   \n",
       "2  [{\"cast_id\": 1, \"character\": \"James Bond\", \"cr...   \n",
       "3  [{\"cast_id\": 2, \"character\": \"Bruce Wayne / Ba...   \n",
       "4  [{\"cast_id\": 5, \"character\": \"John Carter\", \"c...   \n",
       "\n",
       "                                                crew  \n",
       "0  [{\"credit_id\": \"52fe48009251416c750aca23\", \"de...  \n",
       "1  [{\"credit_id\": \"52fe4232c3a36847f800b579\", \"de...  \n",
       "2  [{\"credit_id\": \"54805967c3a36829b5002c41\", \"de...  \n",
       "3  [{\"credit_id\": \"52fe4781c3a36847f81398c3\", \"de...  \n",
       "4  [{\"credit_id\": \"52fe479ac3a36847f813eaa3\", \"de...  "
      ]
     },
     "execution_count": 3,
     "metadata": {},
     "output_type": "execute_result"
    }
   ],
   "source": [
    "#import dataset\n",
    "FILE_PATH_CREW = \"../Data/tmdb_5000_credits.csv\"\n",
    "\n",
    "features_crew = pd.read_csv(FILE_PATH_CREW)\n",
    "\n",
    "# Dataframe with info about the movies\n",
    "features_crew.head()"
   ]
  },
  {
   "cell_type": "code",
   "execution_count": null,
   "metadata": {},
   "outputs": [],
   "source": [
    "#specify your API_KEY used to set client\n",
    "API_y_KEY = '3a7e30ce'\n",
    "omdb.set_default('apikey', API_y_KEY)\n",
    "client = omdb.OMDBClient(apikey=API_y_KEY)"
   ]
  },
  {
   "cell_type": "code",
   "execution_count": null,
   "metadata": {},
   "outputs": [],
   "source": [
    "#We have a 1000 request limit so you can decide here at which film you want to start and where to end \n",
    "id_end = 4803\n",
    "id_start = id_end - 1000"
   ]
  },
  {
   "cell_type": "code",
   "execution_count": null,
   "metadata": {},
   "outputs": [],
   "source": [
    "#creates empty dictionary then updates it using the movie_id as a key and the output of the\n",
    "#request as value (note that that res.content isn't actually a dict but a byte object, we may\n",
    "#need to convert it later)\n",
    "\n",
    "collected = dict()\n",
    "\n",
    "for i in range(id_start, id_end):\n",
    "    title = features_crew.title[i]\n",
    "    res = omdb.request(t=title, tomatoes=True)\n",
    "    movie_json = res.content\n",
    "    collected[str(features_crew.movie_id[i])] = movie_json"
   ]
  },
  {
   "cell_type": "code",
   "execution_count": null,
   "metadata": {},
   "outputs": [],
   "source": [
    "# saves collected as pickle\n",
    "with open('metacrit.p', 'wb') as fp:\n",
    "    pickle.dump(collected, fp, protocol=pickle.HIGHEST_PROTOCOL)"
   ]
  },
  {
   "cell_type": "code",
   "execution_count": 3,
   "metadata": {},
   "outputs": [],
   "source": [
    "# loads collected\n",
    "with open('metacrit.p', 'rb') as fp:\n",
    "    test_data = pickle.load(fp)"
   ]
  },
  {
   "cell_type": "markdown",
   "metadata": {},
   "source": [
    "# 2. Computations for the creation of the adjacency matrix and the graph"
   ]
  },
  {
   "cell_type": "code",
   "execution_count": 4,
   "metadata": {
    "scrolled": true
   },
   "outputs": [
    {
     "data": {
      "text/html": [
       "<div>\n",
       "<style scoped>\n",
       "    .dataframe tbody tr th:only-of-type {\n",
       "        vertical-align: middle;\n",
       "    }\n",
       "\n",
       "    .dataframe tbody tr th {\n",
       "        vertical-align: top;\n",
       "    }\n",
       "\n",
       "    .dataframe thead th {\n",
       "        text-align: right;\n",
       "    }\n",
       "</style>\n",
       "<table border=\"1\" class=\"dataframe\">\n",
       "  <thead>\n",
       "    <tr style=\"text-align: right;\">\n",
       "      <th></th>\n",
       "      <th>0</th>\n",
       "    </tr>\n",
       "  </thead>\n",
       "  <tbody>\n",
       "    <tr>\n",
       "      <th>19995</th>\n",
       "      <td>b'{\"Title\":\"Avatar\",\"Year\":\"2009\",\"Rated\":\"PG-...</td>\n",
       "    </tr>\n",
       "    <tr>\n",
       "      <th>285</th>\n",
       "      <td>b'{\"Title\":\"Pirates of the Caribbean: At World...</td>\n",
       "    </tr>\n",
       "    <tr>\n",
       "      <th>206647</th>\n",
       "      <td>b'{\"Title\":\"Spectre\",\"Year\":\"2015\",\"Rated\":\"PG...</td>\n",
       "    </tr>\n",
       "    <tr>\n",
       "      <th>49026</th>\n",
       "      <td>b'{\"Title\":\"The Dark Knight Rises\",\"Year\":\"201...</td>\n",
       "    </tr>\n",
       "    <tr>\n",
       "      <th>49529</th>\n",
       "      <td>b'{\"Title\":\"John Carter\",\"Year\":\"2012\",\"Rated\"...</td>\n",
       "    </tr>\n",
       "  </tbody>\n",
       "</table>\n",
       "</div>"
      ],
      "text/plain": [
       "                                                        0\n",
       "19995   b'{\"Title\":\"Avatar\",\"Year\":\"2009\",\"Rated\":\"PG-...\n",
       "285     b'{\"Title\":\"Pirates of the Caribbean: At World...\n",
       "206647  b'{\"Title\":\"Spectre\",\"Year\":\"2015\",\"Rated\":\"PG...\n",
       "49026   b'{\"Title\":\"The Dark Knight Rises\",\"Year\":\"201...\n",
       "49529   b'{\"Title\":\"John Carter\",\"Year\":\"2012\",\"Rated\"..."
      ]
     },
     "execution_count": 4,
     "metadata": {},
     "output_type": "execute_result"
    }
   ],
   "source": [
    "df = pd.DataFrame.from_dict(test_data, orient='index')\n",
    "df.head()"
   ]
  },
  {
   "cell_type": "code",
   "execution_count": 515,
   "metadata": {},
   "outputs": [],
   "source": [
    "dataframe = pd.read_json(df.iloc[0].values[0])\n",
    "\n",
    "for i in range(1, len(df)):\n",
    "    if len(df.iloc[i].values[0]) > 100:\n",
    "        movie = pd.read_json(df.iloc[i].values[0])\n",
    "    dataframe = pd.concat([dataframe, movie])"
   ]
  },
  {
   "cell_type": "code",
   "execution_count": 516,
   "metadata": {},
   "outputs": [
    {
     "data": {
      "text/html": [
       "<div>\n",
       "<style scoped>\n",
       "    .dataframe tbody tr th:only-of-type {\n",
       "        vertical-align: middle;\n",
       "    }\n",
       "\n",
       "    .dataframe tbody tr th {\n",
       "        vertical-align: top;\n",
       "    }\n",
       "\n",
       "    .dataframe thead th {\n",
       "        text-align: right;\n",
       "    }\n",
       "</style>\n",
       "<table border=\"1\" class=\"dataframe\">\n",
       "  <thead>\n",
       "    <tr style=\"text-align: right;\">\n",
       "      <th></th>\n",
       "      <th>Actors</th>\n",
       "      <th>Awards</th>\n",
       "      <th>BoxOffice</th>\n",
       "      <th>Director</th>\n",
       "      <th>Genre</th>\n",
       "      <th>Metascore</th>\n",
       "      <th>Plot</th>\n",
       "      <th>Production</th>\n",
       "      <th>Rated</th>\n",
       "      <th>Ratings</th>\n",
       "      <th>Title</th>\n",
       "      <th>Writer</th>\n",
       "      <th>imdbRating</th>\n",
       "    </tr>\n",
       "  </thead>\n",
       "  <tbody>\n",
       "    <tr>\n",
       "      <th>0</th>\n",
       "      <td>Sam Worthington, Zoe Saldana, Sigourney Weaver...</td>\n",
       "      <td>Won 3 Oscars. Another 85 wins &amp; 128 nominations.</td>\n",
       "      <td>$749,700,000</td>\n",
       "      <td>James Cameron</td>\n",
       "      <td>Action, Adventure, Fantasy, Sci-Fi</td>\n",
       "      <td>83</td>\n",
       "      <td>A paraplegic marine dispatched to the moon Pan...</td>\n",
       "      <td>20th Century Fox</td>\n",
       "      <td>PG-13</td>\n",
       "      <td>{'Source': 'Internet Movie Database', 'Value':...</td>\n",
       "      <td>Avatar</td>\n",
       "      <td>James Cameron</td>\n",
       "      <td>7.8</td>\n",
       "    </tr>\n",
       "    <tr>\n",
       "      <th>1</th>\n",
       "      <td>Sam Worthington, Zoe Saldana, Sigourney Weaver...</td>\n",
       "      <td>Won 3 Oscars. Another 85 wins &amp; 128 nominations.</td>\n",
       "      <td>$749,700,000</td>\n",
       "      <td>James Cameron</td>\n",
       "      <td>Action, Adventure, Fantasy, Sci-Fi</td>\n",
       "      <td>83</td>\n",
       "      <td>A paraplegic marine dispatched to the moon Pan...</td>\n",
       "      <td>20th Century Fox</td>\n",
       "      <td>PG-13</td>\n",
       "      <td>{'Source': 'Rotten Tomatoes', 'Value': '82%'}</td>\n",
       "      <td>Avatar</td>\n",
       "      <td>James Cameron</td>\n",
       "      <td>7.8</td>\n",
       "    </tr>\n",
       "    <tr>\n",
       "      <th>2</th>\n",
       "      <td>Sam Worthington, Zoe Saldana, Sigourney Weaver...</td>\n",
       "      <td>Won 3 Oscars. Another 85 wins &amp; 128 nominations.</td>\n",
       "      <td>$749,700,000</td>\n",
       "      <td>James Cameron</td>\n",
       "      <td>Action, Adventure, Fantasy, Sci-Fi</td>\n",
       "      <td>83</td>\n",
       "      <td>A paraplegic marine dispatched to the moon Pan...</td>\n",
       "      <td>20th Century Fox</td>\n",
       "      <td>PG-13</td>\n",
       "      <td>{'Source': 'Metacritic', 'Value': '83/100'}</td>\n",
       "      <td>Avatar</td>\n",
       "      <td>James Cameron</td>\n",
       "      <td>7.8</td>\n",
       "    </tr>\n",
       "    <tr>\n",
       "      <th>0</th>\n",
       "      <td>Johnny Depp, Geoffrey Rush, Orlando Bloom, Kei...</td>\n",
       "      <td>Nominated for 2 Oscars. Another 20 wins &amp; 44 n...</td>\n",
       "      <td>$309,404,152</td>\n",
       "      <td>Gore Verbinski</td>\n",
       "      <td>Action, Adventure, Fantasy</td>\n",
       "      <td>50</td>\n",
       "      <td>Captain Barbossa, Will Turner and Elizabeth Sw...</td>\n",
       "      <td>Buena Vista</td>\n",
       "      <td>PG-13</td>\n",
       "      <td>{'Source': 'Internet Movie Database', 'Value':...</td>\n",
       "      <td>Pirates of the Caribbean: At World's End</td>\n",
       "      <td>Ted Elliott, Terry Rossio, Ted Elliott (charac...</td>\n",
       "      <td>7.1</td>\n",
       "    </tr>\n",
       "    <tr>\n",
       "      <th>1</th>\n",
       "      <td>Johnny Depp, Geoffrey Rush, Orlando Bloom, Kei...</td>\n",
       "      <td>Nominated for 2 Oscars. Another 20 wins &amp; 44 n...</td>\n",
       "      <td>$309,404,152</td>\n",
       "      <td>Gore Verbinski</td>\n",
       "      <td>Action, Adventure, Fantasy</td>\n",
       "      <td>50</td>\n",
       "      <td>Captain Barbossa, Will Turner and Elizabeth Sw...</td>\n",
       "      <td>Buena Vista</td>\n",
       "      <td>PG-13</td>\n",
       "      <td>{'Source': 'Rotten Tomatoes', 'Value': '44%'}</td>\n",
       "      <td>Pirates of the Caribbean: At World's End</td>\n",
       "      <td>Ted Elliott, Terry Rossio, Ted Elliott (charac...</td>\n",
       "      <td>7.1</td>\n",
       "    </tr>\n",
       "  </tbody>\n",
       "</table>\n",
       "</div>"
      ],
      "text/plain": [
       "                                              Actors  \\\n",
       "0  Sam Worthington, Zoe Saldana, Sigourney Weaver...   \n",
       "1  Sam Worthington, Zoe Saldana, Sigourney Weaver...   \n",
       "2  Sam Worthington, Zoe Saldana, Sigourney Weaver...   \n",
       "0  Johnny Depp, Geoffrey Rush, Orlando Bloom, Kei...   \n",
       "1  Johnny Depp, Geoffrey Rush, Orlando Bloom, Kei...   \n",
       "\n",
       "                                              Awards     BoxOffice  \\\n",
       "0   Won 3 Oscars. Another 85 wins & 128 nominations.  $749,700,000   \n",
       "1   Won 3 Oscars. Another 85 wins & 128 nominations.  $749,700,000   \n",
       "2   Won 3 Oscars. Another 85 wins & 128 nominations.  $749,700,000   \n",
       "0  Nominated for 2 Oscars. Another 20 wins & 44 n...  $309,404,152   \n",
       "1  Nominated for 2 Oscars. Another 20 wins & 44 n...  $309,404,152   \n",
       "\n",
       "         Director                               Genre Metascore  \\\n",
       "0   James Cameron  Action, Adventure, Fantasy, Sci-Fi        83   \n",
       "1   James Cameron  Action, Adventure, Fantasy, Sci-Fi        83   \n",
       "2   James Cameron  Action, Adventure, Fantasy, Sci-Fi        83   \n",
       "0  Gore Verbinski          Action, Adventure, Fantasy        50   \n",
       "1  Gore Verbinski          Action, Adventure, Fantasy        50   \n",
       "\n",
       "                                                Plot        Production  Rated  \\\n",
       "0  A paraplegic marine dispatched to the moon Pan...  20th Century Fox  PG-13   \n",
       "1  A paraplegic marine dispatched to the moon Pan...  20th Century Fox  PG-13   \n",
       "2  A paraplegic marine dispatched to the moon Pan...  20th Century Fox  PG-13   \n",
       "0  Captain Barbossa, Will Turner and Elizabeth Sw...       Buena Vista  PG-13   \n",
       "1  Captain Barbossa, Will Turner and Elizabeth Sw...       Buena Vista  PG-13   \n",
       "\n",
       "                                             Ratings  \\\n",
       "0  {'Source': 'Internet Movie Database', 'Value':...   \n",
       "1      {'Source': 'Rotten Tomatoes', 'Value': '82%'}   \n",
       "2        {'Source': 'Metacritic', 'Value': '83/100'}   \n",
       "0  {'Source': 'Internet Movie Database', 'Value':...   \n",
       "1      {'Source': 'Rotten Tomatoes', 'Value': '44%'}   \n",
       "\n",
       "                                      Title  \\\n",
       "0                                    Avatar   \n",
       "1                                    Avatar   \n",
       "2                                    Avatar   \n",
       "0  Pirates of the Caribbean: At World's End   \n",
       "1  Pirates of the Caribbean: At World's End   \n",
       "\n",
       "                                              Writer  imdbRating  \n",
       "0                                      James Cameron         7.8  \n",
       "1                                      James Cameron         7.8  \n",
       "2                                      James Cameron         7.8  \n",
       "0  Ted Elliott, Terry Rossio, Ted Elliott (charac...         7.1  \n",
       "1  Ted Elliott, Terry Rossio, Ted Elliott (charac...         7.1  "
      ]
     },
     "execution_count": 516,
     "metadata": {},
     "output_type": "execute_result"
    }
   ],
   "source": [
    "# We decided to drop the useless columns that did not contain information about the movie\n",
    "# These columns are: - urls (Poster, Website, tomatoImage)\n",
    "#                    - columns related to the API (Response, Type)\n",
    "#                    - columns where all entries are NaN\n",
    "#                    - Irrelevant columns (DVD, ie release date of dvd, Runtime, Released, Year, Country, Language, \n",
    "#                                          imdbVotes)\n",
    "#                    - Redundant columns (imdbID is redundant with Title)\n",
    "\n",
    "dataframe = dataframe.drop(columns=['Poster', 'Response', 'Type', 'Website', 'tomatoConsensus', \n",
    "                                    'tomatoFresh', 'tomatoImage', 'tomatoMeter', 'tomatoRating', \n",
    "                                    'tomatoReviews', 'tomatoRotten', 'tomatoURL', 'tomatoUserMeter', \n",
    "                                    'tomatoUserRating', 'tomatoUserReviews', 'totalSeasons', 'DVD', \n",
    "                                    'Year', 'imdbID', 'Runtime', 'Released', 'Country', 'Language', 'imdbVotes'])\n",
    "dataframe.head()"
   ]
  },
  {
   "cell_type": "markdown",
   "metadata": {},
   "source": [
    "We now need to transform the types so that it is easier to analyze the features. As of now, almost all the entries of our dataframe are strings. We have a few entries that are integer numbers that need to be converted: BoxOffice and Metascore.\n",
    "\n",
    "Metascore is already in an appropriate format, we just need to cast the type. However, BoxOffice needs a little bit of tinkering."
   ]
  },
  {
   "cell_type": "code",
   "execution_count": 517,
   "metadata": {},
   "outputs": [],
   "source": [
    "# For BoxOffice we need to remove the $ and commas\n",
    "dataframe['BoxOffice'] = dataframe['BoxOffice'].apply(lambda x: x.replace(\"$\", \"\"))\n",
    "dataframe['BoxOffice'] = dataframe['BoxOffice'].apply(lambda x: x.replace(\",\", \"\"))\n",
    "dataframe['BoxOffice'] = dataframe['BoxOffice'].replace('N/A', np.nan)\n",
    "dataframe['BoxOffice'] = dataframe['BoxOffice'].astype(float)\n",
    "dataframe = dataframe.dropna()\n",
    "dataframe['BoxOffice'] = dataframe['BoxOffice'].astype(int)\n",
    "# Metascore\n",
    "dataframe['Metascore'] = dataframe['Metascore'].replace('N/A', np.nan)\n",
    "dataframe = dataframe.dropna()\n",
    "dataframe['Metascore'] = dataframe['Metascore'].astype(int)"
   ]
  },
  {
   "cell_type": "code",
   "execution_count": 518,
   "metadata": {},
   "outputs": [
    {
     "data": {
      "text/html": [
       "<div>\n",
       "<style scoped>\n",
       "    .dataframe tbody tr th:only-of-type {\n",
       "        vertical-align: middle;\n",
       "    }\n",
       "\n",
       "    .dataframe tbody tr th {\n",
       "        vertical-align: top;\n",
       "    }\n",
       "\n",
       "    .dataframe thead th {\n",
       "        text-align: right;\n",
       "    }\n",
       "</style>\n",
       "<table border=\"1\" class=\"dataframe\">\n",
       "  <thead>\n",
       "    <tr style=\"text-align: right;\">\n",
       "      <th></th>\n",
       "      <th>Actors</th>\n",
       "      <th>Awards</th>\n",
       "      <th>BoxOffice</th>\n",
       "      <th>Director</th>\n",
       "      <th>Genre</th>\n",
       "      <th>Metascore</th>\n",
       "      <th>Plot</th>\n",
       "      <th>Production</th>\n",
       "      <th>Rated</th>\n",
       "      <th>Ratings</th>\n",
       "      <th>Title</th>\n",
       "      <th>Writer</th>\n",
       "      <th>imdbRating</th>\n",
       "    </tr>\n",
       "  </thead>\n",
       "  <tbody>\n",
       "    <tr>\n",
       "      <th>0</th>\n",
       "      <td>Sam Worthington, Zoe Saldana, Sigourney Weaver...</td>\n",
       "      <td>Won 3 Oscars. Another 85 wins &amp; 128 nominations.</td>\n",
       "      <td>749700000</td>\n",
       "      <td>James Cameron</td>\n",
       "      <td>Action, Adventure, Fantasy, Sci-Fi</td>\n",
       "      <td>83</td>\n",
       "      <td>A paraplegic marine dispatched to the moon Pan...</td>\n",
       "      <td>20th Century Fox</td>\n",
       "      <td>PG-13</td>\n",
       "      <td>{'Source': 'Internet Movie Database', 'Value':...</td>\n",
       "      <td>Avatar</td>\n",
       "      <td>James Cameron</td>\n",
       "      <td>7.8</td>\n",
       "    </tr>\n",
       "    <tr>\n",
       "      <th>1</th>\n",
       "      <td>Sam Worthington, Zoe Saldana, Sigourney Weaver...</td>\n",
       "      <td>Won 3 Oscars. Another 85 wins &amp; 128 nominations.</td>\n",
       "      <td>749700000</td>\n",
       "      <td>James Cameron</td>\n",
       "      <td>Action, Adventure, Fantasy, Sci-Fi</td>\n",
       "      <td>83</td>\n",
       "      <td>A paraplegic marine dispatched to the moon Pan...</td>\n",
       "      <td>20th Century Fox</td>\n",
       "      <td>PG-13</td>\n",
       "      <td>{'Source': 'Rotten Tomatoes', 'Value': '82%'}</td>\n",
       "      <td>Avatar</td>\n",
       "      <td>James Cameron</td>\n",
       "      <td>7.8</td>\n",
       "    </tr>\n",
       "    <tr>\n",
       "      <th>2</th>\n",
       "      <td>Sam Worthington, Zoe Saldana, Sigourney Weaver...</td>\n",
       "      <td>Won 3 Oscars. Another 85 wins &amp; 128 nominations.</td>\n",
       "      <td>749700000</td>\n",
       "      <td>James Cameron</td>\n",
       "      <td>Action, Adventure, Fantasy, Sci-Fi</td>\n",
       "      <td>83</td>\n",
       "      <td>A paraplegic marine dispatched to the moon Pan...</td>\n",
       "      <td>20th Century Fox</td>\n",
       "      <td>PG-13</td>\n",
       "      <td>{'Source': 'Metacritic', 'Value': '83/100'}</td>\n",
       "      <td>Avatar</td>\n",
       "      <td>James Cameron</td>\n",
       "      <td>7.8</td>\n",
       "    </tr>\n",
       "    <tr>\n",
       "      <th>0</th>\n",
       "      <td>Johnny Depp, Geoffrey Rush, Orlando Bloom, Kei...</td>\n",
       "      <td>Nominated for 2 Oscars. Another 20 wins &amp; 44 n...</td>\n",
       "      <td>309404152</td>\n",
       "      <td>Gore Verbinski</td>\n",
       "      <td>Action, Adventure, Fantasy</td>\n",
       "      <td>50</td>\n",
       "      <td>Captain Barbossa, Will Turner and Elizabeth Sw...</td>\n",
       "      <td>Buena Vista</td>\n",
       "      <td>PG-13</td>\n",
       "      <td>{'Source': 'Internet Movie Database', 'Value':...</td>\n",
       "      <td>Pirates of the Caribbean: At World's End</td>\n",
       "      <td>Ted Elliott, Terry Rossio, Ted Elliott (charac...</td>\n",
       "      <td>7.1</td>\n",
       "    </tr>\n",
       "    <tr>\n",
       "      <th>1</th>\n",
       "      <td>Johnny Depp, Geoffrey Rush, Orlando Bloom, Kei...</td>\n",
       "      <td>Nominated for 2 Oscars. Another 20 wins &amp; 44 n...</td>\n",
       "      <td>309404152</td>\n",
       "      <td>Gore Verbinski</td>\n",
       "      <td>Action, Adventure, Fantasy</td>\n",
       "      <td>50</td>\n",
       "      <td>Captain Barbossa, Will Turner and Elizabeth Sw...</td>\n",
       "      <td>Buena Vista</td>\n",
       "      <td>PG-13</td>\n",
       "      <td>{'Source': 'Rotten Tomatoes', 'Value': '44%'}</td>\n",
       "      <td>Pirates of the Caribbean: At World's End</td>\n",
       "      <td>Ted Elliott, Terry Rossio, Ted Elliott (charac...</td>\n",
       "      <td>7.1</td>\n",
       "    </tr>\n",
       "  </tbody>\n",
       "</table>\n",
       "</div>"
      ],
      "text/plain": [
       "                                              Actors  \\\n",
       "0  Sam Worthington, Zoe Saldana, Sigourney Weaver...   \n",
       "1  Sam Worthington, Zoe Saldana, Sigourney Weaver...   \n",
       "2  Sam Worthington, Zoe Saldana, Sigourney Weaver...   \n",
       "0  Johnny Depp, Geoffrey Rush, Orlando Bloom, Kei...   \n",
       "1  Johnny Depp, Geoffrey Rush, Orlando Bloom, Kei...   \n",
       "\n",
       "                                              Awards  BoxOffice  \\\n",
       "0   Won 3 Oscars. Another 85 wins & 128 nominations.  749700000   \n",
       "1   Won 3 Oscars. Another 85 wins & 128 nominations.  749700000   \n",
       "2   Won 3 Oscars. Another 85 wins & 128 nominations.  749700000   \n",
       "0  Nominated for 2 Oscars. Another 20 wins & 44 n...  309404152   \n",
       "1  Nominated for 2 Oscars. Another 20 wins & 44 n...  309404152   \n",
       "\n",
       "         Director                               Genre  Metascore  \\\n",
       "0   James Cameron  Action, Adventure, Fantasy, Sci-Fi         83   \n",
       "1   James Cameron  Action, Adventure, Fantasy, Sci-Fi         83   \n",
       "2   James Cameron  Action, Adventure, Fantasy, Sci-Fi         83   \n",
       "0  Gore Verbinski          Action, Adventure, Fantasy         50   \n",
       "1  Gore Verbinski          Action, Adventure, Fantasy         50   \n",
       "\n",
       "                                                Plot        Production  Rated  \\\n",
       "0  A paraplegic marine dispatched to the moon Pan...  20th Century Fox  PG-13   \n",
       "1  A paraplegic marine dispatched to the moon Pan...  20th Century Fox  PG-13   \n",
       "2  A paraplegic marine dispatched to the moon Pan...  20th Century Fox  PG-13   \n",
       "0  Captain Barbossa, Will Turner and Elizabeth Sw...       Buena Vista  PG-13   \n",
       "1  Captain Barbossa, Will Turner and Elizabeth Sw...       Buena Vista  PG-13   \n",
       "\n",
       "                                             Ratings  \\\n",
       "0  {'Source': 'Internet Movie Database', 'Value':...   \n",
       "1      {'Source': 'Rotten Tomatoes', 'Value': '82%'}   \n",
       "2        {'Source': 'Metacritic', 'Value': '83/100'}   \n",
       "0  {'Source': 'Internet Movie Database', 'Value':...   \n",
       "1      {'Source': 'Rotten Tomatoes', 'Value': '44%'}   \n",
       "\n",
       "                                      Title  \\\n",
       "0                                    Avatar   \n",
       "1                                    Avatar   \n",
       "2                                    Avatar   \n",
       "0  Pirates of the Caribbean: At World's End   \n",
       "1  Pirates of the Caribbean: At World's End   \n",
       "\n",
       "                                              Writer  imdbRating  \n",
       "0                                      James Cameron         7.8  \n",
       "1                                      James Cameron         7.8  \n",
       "2                                      James Cameron         7.8  \n",
       "0  Ted Elliott, Terry Rossio, Ted Elliott (charac...         7.1  \n",
       "1  Ted Elliott, Terry Rossio, Ted Elliott (charac...         7.1  "
      ]
     },
     "execution_count": 518,
     "metadata": {},
     "output_type": "execute_result"
    }
   ],
   "source": [
    "dataframe.head()"
   ]
  },
  {
   "cell_type": "markdown",
   "metadata": {},
   "source": [
    "Now, we need to regroup the different sources of ratings so that the movies are not repeated three times in the dataframe.\n",
    "\n",
    "- The first rating comes from imdb. It is already present in the dataframe under the name imdbRating\n",
    "- The second rating comes from Rotten Tomatoes. It is not present in the dataframe yet, we need to retrieve it from Ratings\n",
    "- The third rating comes from Metacritic. It is already present in the dataframe under the name Metascore.\n",
    "\n",
    "The only rating we need to keep from Ratigs is the grade from Rotten Tomatoes. We will hence remove all the rows containing ratings only from imdb or metacritics and then rename the Ratings column. \n",
    "\n",
    "We wish to separate this column into 3 columns, drop the duplicate rows and convert the ratings to percentages for a more uniform notation."
   ]
  },
  {
   "cell_type": "code",
   "execution_count": 519,
   "metadata": {},
   "outputs": [],
   "source": [
    "dataframe_ = dataframe.copy()"
   ]
  },
  {
   "cell_type": "code",
   "execution_count": 520,
   "metadata": {},
   "outputs": [],
   "source": [
    "def transform_tomatograde(strgrade):\n",
    "    if '/10' in strgrade:\n",
    "        grade = strgrade.replace('/10', '').replace('.', '')\n",
    "    elif '%' in strgrade:\n",
    "        grade = strgrade.replace('%', '')\n",
    "    elif '/100' in dataframe_['metacriticGrade'][i]:\n",
    "        grade = strgrade.replace('/100', '')\n",
    "    else:\n",
    "        grade = float(dataframe_['tomatoGrade'][i])\n",
    "        if grade > 100:\n",
    "            grade = grade / 10\n",
    "    \n",
    "    return int(grade)   "
   ]
  },
  {
   "cell_type": "code",
   "execution_count": 521,
   "metadata": {},
   "outputs": [],
   "source": [
    "# 1. Extract the Rotten Tomatoes grade\n",
    "dataframe_['RatingIndex'] = dataframe_.index\n",
    "dataframe_ = dataframe_.reset_index(drop=True)\n",
    "dataframe_['tomatoGrade'] = np.nan\n",
    "for i in range(len(dataframe_[dataframe_.RatingIndex == 1])):\n",
    "    title = dataframe_[dataframe_.RatingIndex == 1].iloc[i].Title\n",
    "    idx = dataframe_[dataframe_.Title == title].index[0]\n",
    "    grade = transform_tomatograde(dataframe_[dataframe_.RatingIndex == 1].iloc[i].Ratings['Value'])\n",
    "    dataframe_.at[idx, 'tomatoGrade'] = grade\n",
    "dataframe_ = dataframe_[dataframe_.RatingIndex == 0]\n",
    "dataframe_ = dataframe_.drop(columns=['RatingIndex'])\n",
    "\n",
    "# 2. Rename the Metacritics and imdb grades\n",
    "dataframe_ = dataframe_.rename(columns={'imdbRating' : 'imdbGrade', 'Metascore' : 'metacriticGrade'})\n",
    "\n",
    "# 3. Drop NaN\n",
    "dataframe_ = dataframe_.dropna()\n",
    "\n",
    "# 4. Transform grades\n",
    "dataframe_['imdbGrade'] = dataframe_['imdbGrade']*10\n",
    "dataframe_['imdbGrade'] = dataframe_['imdbGrade'].astype(int)\n",
    "dataframe_['tomatoGrade'] = dataframe_['tomatoGrade'].astype(int)\n",
    "dataframe_['metacriticGrade'] = dataframe_['metacriticGrade'].astype(int)\n",
    "\n",
    "# 5. Reset index\n",
    "dataframe_ = dataframe_.reset_index(drop=True)\n",
    "\n",
    "# 6. Drop the Ratings column\n",
    "dataframe_ = dataframe_.drop(columns=['Ratings'])"
   ]
  },
  {
   "cell_type": "code",
   "execution_count": 522,
   "metadata": {
    "scrolled": true
   },
   "outputs": [
    {
     "data": {
      "text/html": [
       "<div>\n",
       "<style scoped>\n",
       "    .dataframe tbody tr th:only-of-type {\n",
       "        vertical-align: middle;\n",
       "    }\n",
       "\n",
       "    .dataframe tbody tr th {\n",
       "        vertical-align: top;\n",
       "    }\n",
       "\n",
       "    .dataframe thead th {\n",
       "        text-align: right;\n",
       "    }\n",
       "</style>\n",
       "<table border=\"1\" class=\"dataframe\">\n",
       "  <thead>\n",
       "    <tr style=\"text-align: right;\">\n",
       "      <th></th>\n",
       "      <th>Actors</th>\n",
       "      <th>Awards</th>\n",
       "      <th>BoxOffice</th>\n",
       "      <th>Director</th>\n",
       "      <th>Genre</th>\n",
       "      <th>metacriticGrade</th>\n",
       "      <th>Plot</th>\n",
       "      <th>Production</th>\n",
       "      <th>Rated</th>\n",
       "      <th>Title</th>\n",
       "      <th>Writer</th>\n",
       "      <th>imdbGrade</th>\n",
       "      <th>tomatoGrade</th>\n",
       "    </tr>\n",
       "  </thead>\n",
       "  <tbody>\n",
       "    <tr>\n",
       "      <th>0</th>\n",
       "      <td>Sam Worthington, Zoe Saldana, Sigourney Weaver...</td>\n",
       "      <td>Won 3 Oscars. Another 85 wins &amp; 128 nominations.</td>\n",
       "      <td>749700000</td>\n",
       "      <td>James Cameron</td>\n",
       "      <td>Action, Adventure, Fantasy, Sci-Fi</td>\n",
       "      <td>83</td>\n",
       "      <td>A paraplegic marine dispatched to the moon Pan...</td>\n",
       "      <td>20th Century Fox</td>\n",
       "      <td>PG-13</td>\n",
       "      <td>Avatar</td>\n",
       "      <td>James Cameron</td>\n",
       "      <td>78</td>\n",
       "      <td>82</td>\n",
       "    </tr>\n",
       "    <tr>\n",
       "      <th>1</th>\n",
       "      <td>Johnny Depp, Geoffrey Rush, Orlando Bloom, Kei...</td>\n",
       "      <td>Nominated for 2 Oscars. Another 20 wins &amp; 44 n...</td>\n",
       "      <td>309404152</td>\n",
       "      <td>Gore Verbinski</td>\n",
       "      <td>Action, Adventure, Fantasy</td>\n",
       "      <td>50</td>\n",
       "      <td>Captain Barbossa, Will Turner and Elizabeth Sw...</td>\n",
       "      <td>Buena Vista</td>\n",
       "      <td>PG-13</td>\n",
       "      <td>Pirates of the Caribbean: At World's End</td>\n",
       "      <td>Ted Elliott, Terry Rossio, Ted Elliott (charac...</td>\n",
       "      <td>71</td>\n",
       "      <td>44</td>\n",
       "    </tr>\n",
       "    <tr>\n",
       "      <th>2</th>\n",
       "      <td>Daniel Craig, Christoph Waltz, Léa Seydoux, Ra...</td>\n",
       "      <td>Won 1 Oscar. Another 7 wins &amp; 32 nominations.</td>\n",
       "      <td>208777731</td>\n",
       "      <td>Sam Mendes</td>\n",
       "      <td>Action, Adventure, Thriller</td>\n",
       "      <td>60</td>\n",
       "      <td>A cryptic message from 007's past sends him pi...</td>\n",
       "      <td>Sony Pictures</td>\n",
       "      <td>PG-13</td>\n",
       "      <td>Spectre</td>\n",
       "      <td>John Logan (screenplay by), Neal Purvis (scree...</td>\n",
       "      <td>68</td>\n",
       "      <td>64</td>\n",
       "    </tr>\n",
       "    <tr>\n",
       "      <th>3</th>\n",
       "      <td>Christian Bale, Gary Oldman, Tom Hardy, Joseph...</td>\n",
       "      <td>Nominated for 1 BAFTA Film Award. Another 38 w...</td>\n",
       "      <td>448130642</td>\n",
       "      <td>Christopher Nolan</td>\n",
       "      <td>Action, Thriller</td>\n",
       "      <td>78</td>\n",
       "      <td>Eight years after the Joker's reign of anarchy...</td>\n",
       "      <td>Warner Bros. Pictures</td>\n",
       "      <td>PG-13</td>\n",
       "      <td>The Dark Knight Rises</td>\n",
       "      <td>Jonathan Nolan (screenplay), Christopher Nolan...</td>\n",
       "      <td>84</td>\n",
       "      <td>87</td>\n",
       "    </tr>\n",
       "    <tr>\n",
       "      <th>4</th>\n",
       "      <td>Taylor Kitsch, Lynn Collins, Samantha Morton, ...</td>\n",
       "      <td>2 wins &amp; 8 nominations.</td>\n",
       "      <td>73058679</td>\n",
       "      <td>Andrew Stanton</td>\n",
       "      <td>Action, Adventure, Sci-Fi</td>\n",
       "      <td>51</td>\n",
       "      <td>Transported to Barsoom, a Civil War vet discov...</td>\n",
       "      <td>Walt Disney Pictures</td>\n",
       "      <td>PG-13</td>\n",
       "      <td>John Carter</td>\n",
       "      <td>Andrew Stanton (screenplay by), Mark Andrews (...</td>\n",
       "      <td>66</td>\n",
       "      <td>51</td>\n",
       "    </tr>\n",
       "  </tbody>\n",
       "</table>\n",
       "</div>"
      ],
      "text/plain": [
       "                                              Actors  \\\n",
       "0  Sam Worthington, Zoe Saldana, Sigourney Weaver...   \n",
       "1  Johnny Depp, Geoffrey Rush, Orlando Bloom, Kei...   \n",
       "2  Daniel Craig, Christoph Waltz, Léa Seydoux, Ra...   \n",
       "3  Christian Bale, Gary Oldman, Tom Hardy, Joseph...   \n",
       "4  Taylor Kitsch, Lynn Collins, Samantha Morton, ...   \n",
       "\n",
       "                                              Awards  BoxOffice  \\\n",
       "0   Won 3 Oscars. Another 85 wins & 128 nominations.  749700000   \n",
       "1  Nominated for 2 Oscars. Another 20 wins & 44 n...  309404152   \n",
       "2      Won 1 Oscar. Another 7 wins & 32 nominations.  208777731   \n",
       "3  Nominated for 1 BAFTA Film Award. Another 38 w...  448130642   \n",
       "4                            2 wins & 8 nominations.   73058679   \n",
       "\n",
       "            Director                               Genre  metacriticGrade  \\\n",
       "0      James Cameron  Action, Adventure, Fantasy, Sci-Fi               83   \n",
       "1     Gore Verbinski          Action, Adventure, Fantasy               50   \n",
       "2         Sam Mendes         Action, Adventure, Thriller               60   \n",
       "3  Christopher Nolan                    Action, Thriller               78   \n",
       "4     Andrew Stanton           Action, Adventure, Sci-Fi               51   \n",
       "\n",
       "                                                Plot             Production  \\\n",
       "0  A paraplegic marine dispatched to the moon Pan...       20th Century Fox   \n",
       "1  Captain Barbossa, Will Turner and Elizabeth Sw...            Buena Vista   \n",
       "2  A cryptic message from 007's past sends him pi...          Sony Pictures   \n",
       "3  Eight years after the Joker's reign of anarchy...  Warner Bros. Pictures   \n",
       "4  Transported to Barsoom, a Civil War vet discov...   Walt Disney Pictures   \n",
       "\n",
       "   Rated                                     Title  \\\n",
       "0  PG-13                                    Avatar   \n",
       "1  PG-13  Pirates of the Caribbean: At World's End   \n",
       "2  PG-13                                   Spectre   \n",
       "3  PG-13                     The Dark Knight Rises   \n",
       "4  PG-13                               John Carter   \n",
       "\n",
       "                                              Writer  imdbGrade  tomatoGrade  \n",
       "0                                      James Cameron         78           82  \n",
       "1  Ted Elliott, Terry Rossio, Ted Elliott (charac...         71           44  \n",
       "2  John Logan (screenplay by), Neal Purvis (scree...         68           64  \n",
       "3  Jonathan Nolan (screenplay), Christopher Nolan...         84           87  \n",
       "4  Andrew Stanton (screenplay by), Mark Andrews (...         66           51  "
      ]
     },
     "execution_count": 522,
     "metadata": {},
     "output_type": "execute_result"
    }
   ],
   "source": [
    "dataframe_.head()"
   ]
  },
  {
   "cell_type": "markdown",
   "metadata": {},
   "source": [
    "Now, we need to deal with the string attributes that are in form of a list. We want a set of strings, each string corresponding to an individual characteristic (director, actor, etc).\n",
    "\n",
    "In order to do so, we split the string at the commas. For the Writer attribute, we decided to remove the specifications and only keep the names of the writers, taking off who wrote the story, screenplay or characters."
   ]
  },
  {
   "cell_type": "code",
   "execution_count": 523,
   "metadata": {},
   "outputs": [],
   "source": [
    "dataframe_['Actors'] = dataframe_['Actors'].apply(lambda x: set(x.split(', ')))\n",
    "dataframe_['Director'] = dataframe_['Director'].apply(lambda x: set(x.split(', ')))\n",
    "dataframe_['Genre'] = dataframe_['Genre'].apply(lambda x: set(x.split(', ')))\n",
    "dataframe_['Writer'] = dataframe_['Writer'].apply(lambda x: re.sub(\" [\\(\\[].*?[\\)\\]]\", \"\", x))\n",
    "dataframe_['Writer'] = dataframe_['Writer'].apply(lambda x: set(x.split(', ')))"
   ]
  },
  {
   "cell_type": "markdown",
   "metadata": {},
   "source": [
    "Now, we deal with the Production company. We have observed that a same company has different names within this dataset, sometimes the names diferring only by a space or an add-on (like \"distribution\"). We want to uniformize this. First, we remove all the words such as \"Company\" or \"Industries\" so that all production companies have only their core name. "
   ]
  },
  {
   "cell_type": "code",
   "execution_count": 524,
   "metadata": {},
   "outputs": [],
   "source": [
    "to_remove = [' Corporation', ' Distribution', ' Corporat', ' Production', ' Films', ' Film', \n",
    "             ' Pictures', ' Picutres', ' Internationa', ' International', ' Industries', ' Compa', \n",
    "             ' Co', ' Distribu', ' Studios', ' Animation', ' Feature', ' SKG', ' LLC', ' Recommends', \n",
    "             ' Digital', ' Media', ' Video', ' Inc', ' Home Entertainment', ' Entertainment', ' Lorber', \n",
    "             ' Releasing', ' Cinema.', ' Cinema', ' Classics', ' Classic', ' Group', ' Europacorp', \n",
    "             ' Pvt. Ltd.', ' Ventures', ' [us]', ' Pictur', ' Home', ' Focus', ' City', ' Atomic', \n",
    "             ' Faith', ' Searchlight', ' Walden', '.', ' TriStarl', ' TriStar', ' Tristar']\n",
    "for word in to_remove:\n",
    "    dataframe_['Production'] = dataframe_['Production'].str.replace(word, '')"
   ]
  },
  {
   "cell_type": "markdown",
   "metadata": {},
   "source": [
    "Next, we replace all misspelled or differently spelled company names by one spelling. "
   ]
  },
  {
   "cell_type": "code",
   "execution_count": 525,
   "metadata": {},
   "outputs": [],
   "source": [
    "dataframe_['Production'] = dataframe_['Production'].str.replace('-', ' ')\n",
    "dataframe_['Production'] = dataframe_['Production'].str.replace(' / ', '/')\n",
    "dataframe_['Production'] = dataframe_['Production'].str.replace(' /', '/')\n",
    "dataframe_['Production'] = dataframe_['Production'].str.replace('/ ', '/')\n",
    "dataframe_['Production'] = dataframe_['Production'].str.replace('DreamWorks', 'Dreamworks')\n",
    "dataframe_['Production'] = dataframe_['Production'].str.replace('Dream Works', 'Dreamworks')\n",
    "dataframe_['Production'] = dataframe_['Production'].str.replace(\"Lion's Gate\", 'Lionsgate')\n",
    "dataframe_['Production'] = dataframe_['Production'].str.replace(\"Liongate\", 'Lionsgate')\n",
    "dataframe_['Production'] = dataframe_['Production'].str.replace(\"Lions Gate\", 'Lionsgate')\n",
    "dataframe_['Production'] = dataframe_['Production'].str.replace(\"LionsGate\", 'Lionsgate')\n",
    "dataframe_['Production'] = dataframe_['Production'].str.replace('Metro Goldwyn Mayer (MGM)', 'MGM')\n",
    "dataframe_['Production'] = dataframe_['Production'].str.replace('Metro Goldwyn Mayer', 'MGM')\n",
    "dataframe_['Production'] = dataframe_['Production'].str.replace('WARNER BROTHERS PICTURES', 'Warner Bros')\n",
    "dataframe_['Production'] = dataframe_['Production'].str.replace('WB', 'Warner Bros')\n",
    "dataframe_['Production'] = dataframe_['Production'].str.replace('Weinsteinny', 'Weinstein')\n",
    "dataframe_['Production'] = dataframe_['Production'].str.replace('Warner Brothers', 'Warner Bros')\n",
    "dataframe_['Production'] = dataframe_['Production'].str.replace('Warner Home', 'Warner Bros')\n",
    "dataframe_['Production'] = dataframe_['Production'].str.replace('Warner Independent', 'Warner Bros')\n",
    "dataframe_['Production'] = dataframe_['Production'].str.replace('PIXAR', 'Pixar')\n",
    "dataframe_['Production'] = dataframe_['Production'].str.replace('Warners Bros', 'Warner Bros')\n",
    "dataframe_['Production'] = dataframe_['Production'].str.replace('Universall', 'Universal')\n",
    "dataframe_['Production'] = dataframe_['Production'].str.replace('The Weinstein', 'Weinstein')\n",
    "dataframe_['Production'] = dataframe_['Production'].str.replace(' Vantage', 'Weinstein')\n",
    "dataframe_['Production'] = dataframe_['Production'].str.replace('/lumbia', '/ Columbia')\n",
    "dataframe_['Production'] = dataframe_['Production'].str.replace('MGM (MGM)', 'MGM')\n",
    "dataframe_['Production'] = dataframe_['Production'].str.replace(' First Take', '/ Columbia')\n",
    "dataframe_['Production'] = dataframe_['Production'].str.replace('Goodbye Cruel', 'Goodbye Cruel World')\n",
    "dataframe_['Production'] = dataframe_['Production'].str.replace('FoxFaith', 'Fox')\n",
    "dataframe_['Production'] = dataframe_['Production'].str.replace('Fine Line', 'Fine Lines')\n",
    "dataframe_['Production'] = dataframe_['Production'].str.replace('Erosl', 'Eros')\n",
    "dataframe_['Production'] = dataframe_['Production'].str.replace('Walt Disneys', 'Disney')\n",
    "dataframe_['Production'] = dataframe_['Production'].str.replace('Walt Disney', 'Disney')"
   ]
  },
  {
   "cell_type": "code",
   "execution_count": 526,
   "metadata": {},
   "outputs": [],
   "source": [
    "dataframe_['Production'] = dataframe_['Production'].apply(lambda x: set(x.split('/')))"
   ]
  },
  {
   "cell_type": "markdown",
   "metadata": {},
   "source": [
    "Now, we deal with the plot. For this NLP task, we will keep it simple. We only kept the common nouns (singular or plural)."
   ]
  },
  {
   "cell_type": "code",
   "execution_count": 527,
   "metadata": {},
   "outputs": [],
   "source": [
    "def find_nouns(text):\n",
    "    tokens = nltk.word_tokenize(text)\n",
    "    tags = nltk.pos_tag(tokens)\n",
    "    nouns = [word for word,pos in tags if (pos == 'NN' or pos == 'NNS')]\n",
    "    return set(nouns)"
   ]
  },
  {
   "cell_type": "code",
   "execution_count": 528,
   "metadata": {},
   "outputs": [],
   "source": [
    "dataframe_['Plot'] = dataframe_['Plot'].apply(lambda x: find_nouns(x))"
   ]
  },
  {
   "cell_type": "markdown",
   "metadata": {},
   "source": [
    "We need to format the Awards feature. The current Awards column contains a string (sentence) describing how many awards the movie has won or has been nominated to. It also specifies if it has won or been nominated to Oscars or BAFTA. We believe that when it is specified, the higher \"award\" is listed, i.e. if the movie won 2 Oscars, the 5 Oscar nominations won't be specified. The most useful format we could think of is to transform this award column into 2 distinct columns, since we cannot infer how many nominations to the Oscars a movie has when it has already won some. The columns are hence: \n",
    "\n",
    "- Wins\n",
    "- Nominations"
   ]
  },
  {
   "cell_type": "code",
   "execution_count": 529,
   "metadata": {},
   "outputs": [],
   "source": [
    "def find_wins_nominations(string):\n",
    "    wins = 0\n",
    "    noms = 0\n",
    "    \n",
    "    splitted = string.split('. ')\n",
    "    if len(splitted) > 1:\n",
    "        string1 = splitted[0]\n",
    "        if re.search('nominated', string1, re.IGNORECASE):\n",
    "            noms = noms + int(string1.split(' ')[2])\n",
    "        if re.search('won', string1, re.IGNORECASE):\n",
    "            wins = noms + int(string1.split(' ')[1])\n",
    "        \n",
    "        string2 = splitted[1]\n",
    "        if re.search('nomination', string2, re.IGNORECASE):\n",
    "            noms = noms + int(string2.split(' nomination')[0].split(' ')[-1])\n",
    "        if re.search('win', string2, re.IGNORECASE):\n",
    "            wins = wins + int(string2.split(' win')[0].split(' ')[-1])\n",
    "    elif len(splitted) == 1:\n",
    "        split_string = splitted[0]\n",
    "        if re.search('nomination', split_string, re.IGNORECASE):\n",
    "            noms = noms + int(split_string.split(' nomination')[0].split(' ')[-1])\n",
    "        if re.search('win', split_string, re.IGNORECASE):\n",
    "            wins = wins + int(split_string.split(' win')[0].split(' ')[-1])\n",
    "    return wins, noms"
   ]
  },
  {
   "cell_type": "code",
   "execution_count": 530,
   "metadata": {},
   "outputs": [],
   "source": [
    "dataframe_['Wins'] = 0\n",
    "dataframe_['Nominations'] = 0\n",
    "\n",
    "for i in range(0, len(dataframe_)):\n",
    "    wins, noms = find_wins_nominations(dataframe_.Awards[i])\n",
    "    dataframe_['Wins'][i] = wins\n",
    "    dataframe_['Nominations'][i] = noms\n",
    "dataframe_ = dataframe_.drop(columns='Awards')"
   ]
  },
  {
   "cell_type": "markdown",
   "metadata": {},
   "source": [
    "The Rated attribute is not uniform and has multiple conventions. We seek to normalize it. We decided to use the Motion Picture Association of America film rating system, which states that:\n",
    "\n",
    "- **G: General Audiences. All ages admitted.** Nothing that would offend parents for viewing by children.\n",
    "- **PG: Parental Guidance Suggested.** Some material may not be suitable for children. Parents urged to give \"parental guidance\". May contain some material parents might not like for their young children.\n",
    "- **PG-13: Parents Strongly Cautioned.** Some material may be inappropriate for children under 13. Parents are urged to be cautious. Some material may be inappropriate for pre-teenagers.\n",
    "- **R: Restricted. Under 17 requires accompanying parent or adult guardian.** Contains some adult material. Parents are urged to learn more about the film before taking their young children with them.\n",
    "- **NC-17: Adults Only.** No One 17 and Under Admitted. Clearly adult. Children are not admitted.\n",
    "\n",
    "https://en.wikipedia.org/wiki/Motion_Picture_Association_of_America_film_rating_system\n",
    "\n",
    "**X** rating means persons under 16 not admitted. For our analysis, we decided to conflate that label within **NC-17**\n",
    "\n",
    "Following this, we need to make some modifications: \n",
    "\n",
    "- Approved -> G\n",
    "- GP -> PG\n",
    "- M -> R\n",
    "- Passed -> G\n",
    "- TV-14 -> PG-13\n",
    "- TV-G -> G\n",
    "- TV-MA -> R\n",
    "- TV-PG -> PG\n",
    "- X -> NC-17\n",
    "- Unrated, Not rated and N/A make up their own category **Unrated**"
   ]
  },
  {
   "cell_type": "code",
   "execution_count": 531,
   "metadata": {},
   "outputs": [],
   "source": [
    "# Replacing all differently rated categories by the standard ones\n",
    "dataframe_['Rated'] = dataframe_['Rated'].str.replace('APPROVED', 'G')\n",
    "dataframe_['Rated'] = dataframe_['Rated'].str.replace('GP', 'PG')\n",
    "dataframe_['Rated'] = dataframe_['Rated'].str.replace('M', 'R')\n",
    "dataframe_['Rated'] = dataframe_['Rated'].str.replace('PASSED', 'G')\n",
    "dataframe_['Rated'] = dataframe_['Rated'].str.replace('TV-14', 'G')\n",
    "dataframe_['Rated'] = dataframe_['Rated'].str.replace('APPROVED', 'PG-13')\n",
    "dataframe_['Rated'] = dataframe_['Rated'].str.replace('TV-G', 'G')\n",
    "dataframe_['Rated'] = dataframe_['Rated'].str.replace('TV-MA', 'R')\n",
    "dataframe_['Rated'] = dataframe_['Rated'].str.replace('TV-PG', 'PG')\n",
    "dataframe_['Rated'] = dataframe_['Rated'].str.replace('X', 'NC-17')\n",
    "dataframe_['Rated'] = dataframe_['Rated'].str.replace('NOT RATED', 'UNRATED')\n",
    "dataframe_['Rated'] = dataframe_['Rated'].str.replace('N/A', 'UNRATED')"
   ]
  },
  {
   "cell_type": "code",
   "execution_count": 532,
   "metadata": {},
   "outputs": [],
   "source": [
    "dataframe_['Rated'] = dataframe_['Rated'].apply(lambda x: {x})"
   ]
  },
  {
   "cell_type": "code",
   "execution_count": 533,
   "metadata": {},
   "outputs": [],
   "source": [
    "dataframe_.to_pickle(\"df.pkl\")"
   ]
  },
  {
   "cell_type": "code",
   "execution_count": 534,
   "metadata": {},
   "outputs": [],
   "source": [
    "dataframe_ = pd.read_pickle(\"df.pkl\")"
   ]
  },
  {
   "cell_type": "markdown",
   "metadata": {},
   "source": [
    "Finally, we need to add the budget. For that, we use the budget column in the Kaggle imdb dataset."
   ]
  },
  {
   "cell_type": "code",
   "execution_count": 535,
   "metadata": {},
   "outputs": [],
   "source": [
    "FILE_PATH_MOVIE = \"../Data/tmdb_5000_movies.csv\"\n",
    "movie_df = pd.read_csv(FILE_PATH_MOVIE)\n",
    "\n",
    "budget_df = movie_df[['budget', 'title']]\n",
    "budget_df = budget_df.rename(columns={\"budget\" : \"Budget\", \"title\" : \"Title\"})\n",
    "\n",
    "final_df = dataframe_.merge(budget_df, how='inner')"
   ]
  },
  {
   "cell_type": "code",
   "execution_count": 536,
   "metadata": {},
   "outputs": [],
   "source": [
    "# Budget is weirdly formatted: there are movies that state a single number budget to signify its millions.\n",
    "# Let's unify it\n",
    "\n",
    "final_df['Budget'].iloc[1971] = final_df['Budget'].iloc[1971] * 10**6\n",
    "final_df['Budget'].iloc[1608] = final_df['Budget'].iloc[1608] * 10**6\n",
    "final_df['Budget'].iloc[2330] = final_df['Budget'].iloc[2330] * 10**6\n",
    "final_df['Budget'].iloc[1861] = 5500000\n",
    "final_df['Budget'].iloc[2310] = 650000\n",
    "final_df['Budget'].iloc[764] = 45000000\n",
    "final_df['Budget'].iloc[2349] = 153000\n",
    "\n",
    "# Moreover, we have budgets that are 0. We will replace these as np.nan then drop the whole row\n",
    "final_df['Budget'] = final_df['Budget'].apply(lambda x: np.nan if x==0 else x)"
   ]
  },
  {
   "cell_type": "code",
   "execution_count": 537,
   "metadata": {},
   "outputs": [],
   "source": [
    "final_df = final_df.dropna()"
   ]
  },
  {
   "cell_type": "markdown",
   "metadata": {},
   "source": [
    "Now, Budget is a continuous variable. We decided to create categories so as to sparsify the network. We did this by looking at the histogram and by taking into account the usual budget categories: \n",
    "\n",
    "- No budget: less than 100 000 \\$\n",
    "- Independent: 100 000 to 10 million \\$\n",
    "- Low: 10 to 40 million \\$\n",
    "- Medium: 41 to 100 million \\$\n",
    "- High: 101 million and up \\$\n",
    "\n",
    "Since these are ordinal categories, each will be coded with an integer (ranging from 1 to 5). "
   ]
  },
  {
   "cell_type": "code",
   "execution_count": 538,
   "metadata": {},
   "outputs": [
    {
     "data": {
      "image/png": "[encoded data removed]",
      "text/plain": [
       "<Figure size 1080x504 with 1 Axes>"
      ]
     },
     "metadata": {
      "needs_background": "light"
     },
     "output_type": "display_data"
    }
   ],
   "source": [
    "plt.figure(figsize=(15,7))\n",
    "sns.distplot(final_df['Budget'].dropna().values, kde=False, norm_hist=True, bins=100)\n",
    "sns.kdeplot(final_df['Budget'].dropna().values, kernel='gau')\n",
    "plt.show()"
   ]
  },
  {
   "cell_type": "code",
   "execution_count": 539,
   "metadata": {},
   "outputs": [],
   "source": [
    "# No budget: less than 100 000 \n",
    "# Independent: 100 000 to 10 million \n",
    "# Low: 10 to 40 million \n",
    "# Medium: 41 to 100 million \n",
    "# High: 101 million and up \n",
    "\n",
    "def transform_budget(budget):\n",
    "    if budget < 100000:\n",
    "        budget_cat = 1\n",
    "    elif budget >= 100000 and budget < 10000000:\n",
    "        budget_cat = 2\n",
    "    elif budget >= 10000000 and budget < 40000000:\n",
    "        budget_cat = 3\n",
    "    elif budget >= 40000000 and budget < 100000000:\n",
    "        budget_cat = 4\n",
    "    elif budget >= 100000000:\n",
    "        budget_cat = 5\n",
    "        \n",
    "    return budget_cat"
   ]
  },
  {
   "cell_type": "code",
   "execution_count": 573,
   "metadata": {},
   "outputs": [],
   "source": [
    "final_df.Budget = final_df.Budget.apply(lambda x: transform_budget(x))"
   ]
  },
  {
   "cell_type": "code",
   "execution_count": 22,
   "metadata": {},
   "outputs": [],
   "source": [
    "final_df = final_df.dropna()\n",
    "final_df = final_df.reset_index(drop=True)"
   ]
  },
  {
   "cell_type": "code",
   "execution_count": 23,
   "metadata": {},
   "outputs": [],
   "source": [
    "final_df.to_pickle(\"final_df.pkl\")"
   ]
  },
  {
   "cell_type": "markdown",
   "metadata": {},
   "source": [
    "### Data cleaning results\n",
    "\n",
    "We get a dataframe with the following features:\n",
    "\n",
    "- Actors, Director, Writer\n",
    "- Genre\n",
    "- Budget\n",
    "- Production\n",
    "- Plot\n",
    "- Country, Language\n",
    "- Release date\n",
    "- Runtime\n",
    "- Rated category (PG-13, 18...)\n",
    "\n",
    "Each movie has one identifyier:\n",
    "\n",
    "- Title\n",
    "\n",
    "And we have several labels that define the success of the movie:\n",
    "\n",
    "- Box Office\n",
    "- imdb Grade (+ imdb votes)\n",
    "- Rotten Tomatoes Grade\n",
    "- Metacritic Grade\n",
    "- Wins and Nominations"
   ]
  },
  {
   "cell_type": "markdown",
   "metadata": {},
   "source": [
    "# 3. Graph creation\n",
    "\n",
    "After data cleaning, we proceed to the creation of the graph by computing its adjacency matrix. We wish to create an adjacency matrix containing all features. We will hence compute several adjacency matrices that we will then add (using weighting factors). Such matrices are:\n",
    "\n",
    "- Crew (actors, writers and directors): how many crew members the movies have in common\n",
    "- Budget: the similarity between movies will be based on how close the budgets are (in a log scale)\n",
    "- Genre: how many genres two movies have in common\n",
    "- Production: is it the same production company?\n",
    "- Plot: how many common words two films have in common\n",
    "- Language: since the only two categories are English and Foreign, a score between 0 and 2 between 2 movies\n",
    "- Country: how many countries in common \n",
    "- Runtime: the similarity between movies will be based on how close the runtimes are (in a log scale)\n",
    "- Rated category: binary score = same category or different\n",
    "- Release: the dissimilarity is how far apart the two movies are in time"
   ]
  },
  {
   "cell_type": "code",
   "execution_count": 9,
   "metadata": {
    "scrolled": true
   },
   "outputs": [
    {
     "data": {
      "text/html": [
       "<div>\n",
       "<style scoped>\n",
       "    .dataframe tbody tr th:only-of-type {\n",
       "        vertical-align: middle;\n",
       "    }\n",
       "\n",
       "    .dataframe tbody tr th {\n",
       "        vertical-align: top;\n",
       "    }\n",
       "\n",
       "    .dataframe thead th {\n",
       "        text-align: right;\n",
       "    }\n",
       "</style>\n",
       "<table border=\"1\" class=\"dataframe\">\n",
       "  <thead>\n",
       "    <tr style=\"text-align: right;\">\n",
       "      <th></th>\n",
       "      <th>Actors</th>\n",
       "      <th>BoxOffice</th>\n",
       "      <th>Country</th>\n",
       "      <th>Director</th>\n",
       "      <th>Genre</th>\n",
       "      <th>Language</th>\n",
       "      <th>metacriticGrade</th>\n",
       "      <th>Plot</th>\n",
       "      <th>Production</th>\n",
       "      <th>Rated</th>\n",
       "      <th>tomatoGrade</th>\n",
       "      <th>Released</th>\n",
       "      <th>Runtime</th>\n",
       "      <th>Title</th>\n",
       "      <th>Writer</th>\n",
       "      <th>imdbGrade</th>\n",
       "      <th>imdbVotes</th>\n",
       "      <th>Wins</th>\n",
       "      <th>Nominations</th>\n",
       "      <th>Budget</th>\n",
       "    </tr>\n",
       "  </thead>\n",
       "  <tbody>\n",
       "    <tr>\n",
       "      <th>0</th>\n",
       "      <td>{Sam Worthington, Zoe Saldana, Stephen Lang, S...</td>\n",
       "      <td>749700000</td>\n",
       "      <td>{USA, Foreign}</td>\n",
       "      <td>{James Cameron}</td>\n",
       "      <td>{Adventure, Fantasy, Sci-Fi, Action}</td>\n",
       "      <td>{English, Spanish}</td>\n",
       "      <td>83</td>\n",
       "      <td>{home, mission, world, marine, moon, orders}</td>\n",
       "      <td>{20th Century Fox}</td>\n",
       "      <td>{PG-13}</td>\n",
       "      <td>82</td>\n",
       "      <td>2009-12-18</td>\n",
       "      <td>162</td>\n",
       "      <td>Avatar</td>\n",
       "      <td>{James Cameron}</td>\n",
       "      <td>78</td>\n",
       "      <td>1013715</td>\n",
       "      <td>88</td>\n",
       "      <td>128</td>\n",
       "      <td>5</td>\n",
       "    </tr>\n",
       "    <tr>\n",
       "      <th>1</th>\n",
       "      <td>{Geoffrey Rush, Johnny Depp, Keira Knightley, ...</td>\n",
       "      <td>309404152</td>\n",
       "      <td>{USA}</td>\n",
       "      <td>{Gore Verbinski}</td>\n",
       "      <td>{Adventure, Fantasy, Action}</td>\n",
       "      <td>{English}</td>\n",
       "      <td>50</td>\n",
       "      <td>{treachery, betrayal, alliances, edge, map, ba...</td>\n",
       "      <td>{Buena Vista}</td>\n",
       "      <td>{PG-13}</td>\n",
       "      <td>44</td>\n",
       "      <td>2007-05-25</td>\n",
       "      <td>169</td>\n",
       "      <td>Pirates of the Caribbean: At World's End</td>\n",
       "      <td>{Stuart Beattie, Jay Wolpert, Terry Rossio, Te...</td>\n",
       "      <td>71</td>\n",
       "      <td>542125</td>\n",
       "      <td>20</td>\n",
       "      <td>46</td>\n",
       "      <td>5</td>\n",
       "    </tr>\n",
       "    <tr>\n",
       "      <th>2</th>\n",
       "      <td>{Daniel Craig, Ralph Fiennes, Christoph Waltz,...</td>\n",
       "      <td>208777731</td>\n",
       "      <td>{USA, Foreign}</td>\n",
       "      <td>{Sam Mendes}</td>\n",
       "      <td>{Adventure, Thriller, Action}</td>\n",
       "      <td>{Other, English, Spanish}</td>\n",
       "      <td>60</td>\n",
       "      <td>{message, involvement, events, organization, l...</td>\n",
       "      <td>{Sony}</td>\n",
       "      <td>{PG-13}</td>\n",
       "      <td>64</td>\n",
       "      <td>2015-11-06</td>\n",
       "      <td>148</td>\n",
       "      <td>Spectre</td>\n",
       "      <td>{Jez Butterworth, John Logan, Ian Fleming, Nea...</td>\n",
       "      <td>68</td>\n",
       "      <td>343533</td>\n",
       "      <td>8</td>\n",
       "      <td>32</td>\n",
       "      <td>5</td>\n",
       "    </tr>\n",
       "    <tr>\n",
       "      <th>3</th>\n",
       "      <td>{Tom Hardy, Joseph Gordon-Levitt, Christian Ba...</td>\n",
       "      <td>448130642</td>\n",
       "      <td>{USA, Foreign}</td>\n",
       "      <td>{Christopher Nolan}</td>\n",
       "      <td>{Thriller, Action}</td>\n",
       "      <td>{English, Foreign}</td>\n",
       "      <td>78</td>\n",
       "      <td>{exile, anarchy, help, reign, years, edge, gue...</td>\n",
       "      <td>{Warner Bros}</td>\n",
       "      <td>{PG-13}</td>\n",
       "      <td>87</td>\n",
       "      <td>2012-07-20</td>\n",
       "      <td>164</td>\n",
       "      <td>The Dark Knight Rises</td>\n",
       "      <td>{David S. Goyer, Christopher Nolan, Bob Kane, ...</td>\n",
       "      <td>84</td>\n",
       "      <td>1344474</td>\n",
       "      <td>38</td>\n",
       "      <td>103</td>\n",
       "      <td>5</td>\n",
       "    </tr>\n",
       "    <tr>\n",
       "      <th>4</th>\n",
       "      <td>{Willem Dafoe, Taylor Kitsch, Samantha Morton,...</td>\n",
       "      <td>73058679</td>\n",
       "      <td>{USA}</td>\n",
       "      <td>{Andrew Stanton}</td>\n",
       "      <td>{Adventure, Sci-Fi, Action}</td>\n",
       "      <td>{English}</td>\n",
       "      <td>51</td>\n",
       "      <td>{barbarians, savior, vet, planet, princess, pr...</td>\n",
       "      <td>{Disney}</td>\n",
       "      <td>{PG-13}</td>\n",
       "      <td>51</td>\n",
       "      <td>2012-03-09</td>\n",
       "      <td>132</td>\n",
       "      <td>John Carter</td>\n",
       "      <td>{Michael Chabon, Andrew Stanton, Mark Andrews,...</td>\n",
       "      <td>66</td>\n",
       "      <td>234717</td>\n",
       "      <td>2</td>\n",
       "      <td>8</td>\n",
       "      <td>5</td>\n",
       "    </tr>\n",
       "  </tbody>\n",
       "</table>\n",
       "</div>"
      ],
      "text/plain": [
       "                                              Actors  BoxOffice  \\\n",
       "0  {Sam Worthington, Zoe Saldana, Stephen Lang, S...  749700000   \n",
       "1  {Geoffrey Rush, Johnny Depp, Keira Knightley, ...  309404152   \n",
       "2  {Daniel Craig, Ralph Fiennes, Christoph Waltz,...  208777731   \n",
       "3  {Tom Hardy, Joseph Gordon-Levitt, Christian Ba...  448130642   \n",
       "4  {Willem Dafoe, Taylor Kitsch, Samantha Morton,...   73058679   \n",
       "\n",
       "          Country             Director                                 Genre  \\\n",
       "0  {USA, Foreign}      {James Cameron}  {Adventure, Fantasy, Sci-Fi, Action}   \n",
       "1           {USA}     {Gore Verbinski}          {Adventure, Fantasy, Action}   \n",
       "2  {USA, Foreign}         {Sam Mendes}         {Adventure, Thriller, Action}   \n",
       "3  {USA, Foreign}  {Christopher Nolan}                    {Thriller, Action}   \n",
       "4           {USA}     {Andrew Stanton}           {Adventure, Sci-Fi, Action}   \n",
       "\n",
       "                    Language  metacriticGrade  \\\n",
       "0         {English, Spanish}               83   \n",
       "1                  {English}               50   \n",
       "2  {Other, English, Spanish}               60   \n",
       "3         {English, Foreign}               78   \n",
       "4                  {English}               51   \n",
       "\n",
       "                                                Plot          Production  \\\n",
       "0       {home, mission, world, marine, moon, orders}  {20th Century Fox}   \n",
       "1  {treachery, betrayal, alliances, edge, map, ba...       {Buena Vista}   \n",
       "2  {message, involvement, events, organization, l...              {Sony}   \n",
       "3  {exile, anarchy, help, reign, years, edge, gue...       {Warner Bros}   \n",
       "4  {barbarians, savior, vet, planet, princess, pr...            {Disney}   \n",
       "\n",
       "     Rated  tomatoGrade   Released  Runtime  \\\n",
       "0  {PG-13}           82 2009-12-18      162   \n",
       "1  {PG-13}           44 2007-05-25      169   \n",
       "2  {PG-13}           64 2015-11-06      148   \n",
       "3  {PG-13}           87 2012-07-20      164   \n",
       "4  {PG-13}           51 2012-03-09      132   \n",
       "\n",
       "                                      Title  \\\n",
       "0                                    Avatar   \n",
       "1  Pirates of the Caribbean: At World's End   \n",
       "2                                   Spectre   \n",
       "3                     The Dark Knight Rises   \n",
       "4                               John Carter   \n",
       "\n",
       "                                              Writer  imdbGrade  imdbVotes  \\\n",
       "0                                    {James Cameron}         78    1013715   \n",
       "1  {Stuart Beattie, Jay Wolpert, Terry Rossio, Te...         71     542125   \n",
       "2  {Jez Butterworth, John Logan, Ian Fleming, Nea...         68     343533   \n",
       "3  {David S. Goyer, Christopher Nolan, Bob Kane, ...         84    1344474   \n",
       "4  {Michael Chabon, Andrew Stanton, Mark Andrews,...         66     234717   \n",
       "\n",
       "   Wins  Nominations  Budget  \n",
       "0    88          128       5  \n",
       "1    20           46       5  \n",
       "2     8           32       5  \n",
       "3    38          103       5  \n",
       "4     2            8       5  "
      ]
     },
     "execution_count": 9,
     "metadata": {},
     "output_type": "execute_result"
    }
   ],
   "source": [
    "final_df = pd.read_pickle(\"final_df.pkl\")\n",
    "final_df.head()"
   ]
  },
  {
   "cell_type": "markdown",
   "metadata": {},
   "source": [
    "## A. Crew adjacency"
   ]
  },
  {
   "cell_type": "code",
   "execution_count": 548,
   "metadata": {},
   "outputs": [],
   "source": [
    "weights_crew = np.zeros((len(final_df), len(final_df)))\n",
    "weights_dir = np.zeros((len(final_df), len(final_df)))\n",
    "weights_actors = np.zeros((len(final_df), len(final_df)))\n",
    "weights_writer = np.zeros((len(final_df), len(final_df)))"
   ]
  },
  {
   "cell_type": "code",
   "execution_count": 549,
   "metadata": {},
   "outputs": [],
   "source": [
    "for i in range(0, len(final_df)):\n",
    "    for j in range(i+1, len(final_df)):\n",
    "        weights_dir[i][j] = weights_dir[i][j] + len(final_df['Director'][i] & final_df['Director'][j])\n",
    "weights_dir = weights_dir + weights_dir.T\n",
    "\n",
    "for i in range(0, len(final_df)):\n",
    "    for j in range(i+1, len(final_df)):\n",
    "        weights_actors[i][j] = weights_actors[i][j] + len(final_df['Actors'][i] & final_df['Actors'][j])\n",
    "weights_actors = weights_actors + weights_actors.T\n",
    "\n",
    "for i in range(0, len(final_df)):\n",
    "    for j in range(i+1, len(final_df)):\n",
    "        weights_writer[i][j] = weights_writer[i][j] + len(final_df['Writer'][i] & final_df['Writer'][j])\n",
    "weights_writer = weights_writer + weights_writer.T"
   ]
  },
  {
   "cell_type": "code",
   "execution_count": 550,
   "metadata": {},
   "outputs": [],
   "source": [
    "# Add and save\n",
    "weights_crew = weights_dir + weights_actors + weights_writer\n",
    "\n",
    "np.save('weights_dir.npy', weights_dir)\n",
    "np.save('weights_act.npy', weights_actors)\n",
    "np.save('weights_wri.npy', weights_writer)\n",
    "np.save('weights_crew.npy', weights_crew)"
   ]
  },
  {
   "cell_type": "markdown",
   "metadata": {},
   "source": [
    "## B. Budget adjacency\n",
    "### TODO: check the computing method\n",
    "\n",
    "Two similar films are two films that have a similar budget. This is why we cannot use the absolute difference between the films as a similarity metric. "
   ]
  },
  {
   "cell_type": "code",
   "execution_count": 583,
   "metadata": {},
   "outputs": [],
   "source": [
    "weights_budget = np.zeros((len(final_df), len(final_df)))\n",
    "\n",
    "for i in range(len(dataframe_)):\n",
    "    for j in range(i+1, len(final_df)):\n",
    "        diff = np.abs(final_df['Budget'][i] - final_df['Budget'][j])\n",
    "        if diff == 0:\n",
    "            weights_budget[i][j] = 1\n",
    "        else: \n",
    "            weights_budget[i][j] = 0\n",
    "# Symmetrize\n",
    "weights_budget = weights_budget + weights_budget.T\n",
    "\n",
    "# Save \n",
    "np.save('weights_budget.npy', weights_budget)"
   ]
  },
  {
   "cell_type": "markdown",
   "metadata": {},
   "source": [
    "## C. Genre adjacency"
   ]
  },
  {
   "cell_type": "code",
   "execution_count": 552,
   "metadata": {},
   "outputs": [],
   "source": [
    "weights_genre = np.zeros((len(final_df), len(final_df)))\n",
    "\n",
    "for i in range(0, len(final_df)):\n",
    "    for j in range(i+1, len(final_df)):\n",
    "        weights_genre[i][j] = len(final_df['Genre'][i] & final_df['Genre'][j])\n",
    "\n",
    "# Symmetrize\n",
    "weights_genre = weights_genre + weights_genre.T\n",
    "\n",
    "# Save \n",
    "np.save('weights_genre.npy', weights_genre)"
   ]
  },
  {
   "cell_type": "markdown",
   "metadata": {},
   "source": [
    "## D. Production "
   ]
  },
  {
   "cell_type": "code",
   "execution_count": 553,
   "metadata": {},
   "outputs": [],
   "source": [
    "weights_prod = np.zeros((len(final_df), len(final_df)))\n",
    "\n",
    "for i in range(0, len(final_df)):\n",
    "    for j in range(i+1, len(final_df)):\n",
    "        weights_prod[i][j] = len(final_df['Production'][i] & final_df['Production'][j])\n",
    "\n",
    "# Symmetrize\n",
    "weights_prod = weights_prod + weights_prod.T\n",
    "\n",
    "# Save \n",
    "np.save('weights_prod.npy', weights_prod)"
   ]
  },
  {
   "cell_type": "markdown",
   "metadata": {},
   "source": [
    "## E. Plot"
   ]
  },
  {
   "cell_type": "code",
   "execution_count": 554,
   "metadata": {},
   "outputs": [],
   "source": [
    "weights_plot = np.zeros((len(final_df), len(final_df)))\n",
    "\n",
    "for i in range(0, len(final_df)):\n",
    "    for j in range(i+1, len(final_df)):\n",
    "        weights_plot[i][j] = len(final_df['Plot'][i] & final_df['Plot'][j])\n",
    "\n",
    "# Symmetrize\n",
    "weights_plot = weights_plot + weights_plot.T\n",
    "\n",
    "# Save \n",
    "np.save('weights_plot.npy', weights_plot)"
   ]
  },
  {
   "cell_type": "markdown",
   "metadata": {},
   "source": [
    "## F. Rated category"
   ]
  },
  {
   "cell_type": "code",
   "execution_count": 555,
   "metadata": {},
   "outputs": [],
   "source": [
    "weights_rated = np.zeros((len(final_df), len(final_df)))\n",
    "\n",
    "for i in range(0, len(final_df)):\n",
    "    for j in range(i+1, len(final_df)):\n",
    "        weights_rated[i][j] = len(final_df['Rated'][i] & final_df['Rated'][j])\n",
    "\n",
    "# Symmetrize\n",
    "weights_rated = weights_rated + weights_rated.T\n",
    "\n",
    "# Save \n",
    "np.save('weights_rated.npy', weights_rated)"
   ]
  },
  {
   "cell_type": "code",
   "execution_count": 556,
   "metadata": {},
   "outputs": [],
   "source": [
    "weights_crew = np.load('weights_crew.npy')\n",
    "weights_budget = np.load('weights_budget.npy')\n",
    "weights_genre = np.load('weights_genre.npy')\n",
    "weights_prod = np.load('weights_prod.npy')\n",
    "weights_plot = np.load('weights_plot.npy')\n",
    "weights_rated = np.load('weights_rated.npy')"
   ]
  },
  {
   "cell_type": "markdown",
   "metadata": {},
   "source": [
    "## Total adjacency matrix\n",
    "\n",
    "Now, we need to add all weight matrices. It is however of use to add them using weigh factors, as some features may be more important than others."
   ]
  },
  {
   "cell_type": "code",
   "execution_count": 623,
   "metadata": {},
   "outputs": [],
   "source": [
    "crew_factor = 1/18\n",
    "budget_factor = 1\n",
    "genre_factor = 1/7\n",
    "prod_factor = 1/2\n",
    "plot_factor = 1/12\n",
    "rated_factor = 1\n",
    "sum_factors = (crew_factor + budget_factor + genre_factor + prod_factor + \n",
    "               plot_factor + lang_factor + date_factor + runtime_factor + rated_factor)\n",
    "\n",
    "weights = (crew_factor*weights_crew + budget_factor*weights_budget + genre_factor*weights_genre + \n",
    "           prod_factor*weights_prod + plot_factor*weights_plot + rated_factor*weights_rated) / sum_factors\n",
    "\n",
    "# The adjacency matrix is the normalized weight matrix\n",
    "adjacency = weights / np.max(weights)\n",
    "\n",
    "# Save\n",
    "np.save('weights.npy', weights)\n",
    "np.save('adjacency.npy', adjacency)"
   ]
  },
  {
   "cell_type": "code",
   "execution_count": 2,
   "metadata": {},
   "outputs": [],
   "source": [
    "weights = np.load('weights.npy')\n",
    "adjacency = np.load('adjacency.npy')"
   ]
  },
  {
   "cell_type": "markdown",
   "metadata": {},
   "source": [
    "# 3. Analysis"
   ]
  },
  {
   "cell_type": "code",
   "execution_count": 5,
   "metadata": {},
   "outputs": [],
   "source": [
    "import networkx as nx"
   ]
  },
  {
   "cell_type": "code",
   "execution_count": 6,
   "metadata": {},
   "outputs": [
    {
     "name": "stdout",
     "output_type": "stream",
     "text": [
      "Connectedness of our graph: True\n"
     ]
    }
   ],
   "source": [
    "G = nx.from_numpy_matrix(adjacency)\n",
    "print('Connectedness of our graph:', nx.is_connected(G))"
   ]
  },
  {
   "cell_type": "markdown",
   "metadata": {},
   "source": [
    "Now that we know our graph is connected, we can use the whole adjacency matrix for the analysis."
   ]
  },
  {
   "cell_type": "markdown",
   "metadata": {},
   "source": [
    "## A. Graph Laplacian"
   ]
  },
  {
   "cell_type": "code",
   "execution_count": 3,
   "metadata": {},
   "outputs": [],
   "source": [
    "N = len(adjacency)  # number of nodes\n",
    "E = np.sum(adjacency > 0)  # number of edges (non-zero entries of A)"
   ]
  },
  {
   "cell_type": "code",
   "execution_count": 4,
   "metadata": {},
   "outputs": [],
   "source": [
    "degree_weighted = adjacency.sum(1)\n",
    "D = np.diag(degree_weighted)\n",
    "\n",
    "D_norm = np.diag(np.sqrt(1./degree_weighted))\n",
    "D_norm[D_norm == np.inf] = 0"
   ]
  },
  {
   "cell_type": "code",
   "execution_count": 26,
   "metadata": {},
   "outputs": [],
   "source": [
    "laplacian = sparse.csgraph.laplacian(adjacency, normed=False)"
   ]
  },
  {
   "cell_type": "code",
   "execution_count": 31,
   "metadata": {},
   "outputs": [],
   "source": [
    "# Eigendecomposition\n",
    "eigenval, eigenvect = scipy.sparse.linalg.eigs(laplacian, k=20, which = 'SR')\n",
    "assert eigenvect.shape == (N, 20)\n",
    "eigenvect = np.real(eigenvect)\n",
    "\n",
    "# 1. Without re-normalizing: F\n",
    "proj_x = eigenvect[:,0]\n",
    "proj_y = eigenvect[:,1]\n",
    "\n",
    "# 2. With re-normalizing: H = D^(-1/2) * F\n",
    "eigenvect_norm = D_norm.dot(eigenvect)\n",
    "proj_x_norm = eigenvect_norm[:,0]\n",
    "proj_y_norm = eigenvect_norm[:,1]"
   ]
  },
  {
   "cell_type": "code",
   "execution_count": 32,
   "metadata": {},
   "outputs": [
    {
     "data": {
      "image/png": "[encoded data removed]",
      "text/plain": [
       "<Figure size 1080x288 with 2 Axes>"
      ]
     },
     "metadata": {
      "needs_background": "light"
     },
     "output_type": "display_data"
    }
   ],
   "source": [
    "# We plot both projections in order to see which one has more clear clusters\n",
    "f, (ax1, ax2) = plt.subplots(1, 2, figsize=(15, 4))\n",
    "f.suptitle(\"Projections of our network onto 2 dimensions for unnormalized and normalized eigenvectos\", y=1.08, fontweight=\"bold\")\n",
    "\n",
    "ax1.scatter(x=proj_x,y=proj_y)\n",
    "ax1.set_title(\"Projection of all node vectors onto the \\n first and second unnormalized eigenvectors\")\n",
    "ax1.set_ylabel(\"Second eigenvector\")\n",
    "ax1.set_xlabel(\"Fourth eigenvector\")\n",
    "\n",
    "        \n",
    "ax2.scatter(x=proj_x_norm,y=proj_y_norm)\n",
    "ax2.set_title(\"Projection of all node vectors onto the \\n first and second normalized eigenvectors\")\n",
    "ax2.set_ylabel(\"Second eigenvector\")\n",
    "ax2.set_xlabel(\"Fourth eigenvector\")\n",
    "\n",
    "plt.show()"
   ]
  },
  {
   "cell_type": "code",
   "execution_count": null,
   "metadata": {},
   "outputs": [],
   "source": []
  }
 ],
 "metadata": {
  "kernelspec": {
   "display_name": "Python 3",
   "language": "python",
   "name": "python3"
  },
  "language_info": {
   "codemirror_mode": {
    "name": "ipython",
    "version": 3
   },
   "file_extension": ".py",
   "mimetype": "text/x-python",
   "name": "python",
   "nbconvert_exporter": "python",
   "pygments_lexer": "ipython3",
   "version": "3.7.1"
  }
 },
 "nbformat": 4,
 "nbformat_minor": 2
}
